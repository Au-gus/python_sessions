{
 "cells": [
  {
   "cell_type": "markdown",
   "id": "176266f0-4ea6-455b-93f5-2448e70f23d6",
   "metadata": {},
   "source": [
    "$lambda$"
   ]
  },
  {
   "cell_type": "markdown",
   "id": "3310131f-d329-48f4-b310-19413c57c92f",
   "metadata": {},
   "source": [
    "**One Arguments**"
   ]
  },
  {
   "cell_type": "code",
   "execution_count": 16,
   "id": "4e8e91ff-0b0d-42ff-a38d-c08a74334c24",
   "metadata": {},
   "outputs": [
    {
     "data": {
      "text/plain": [
       "30"
      ]
     },
     "execution_count": 16,
     "metadata": {},
     "output_type": "execute_result"
    }
   ],
   "source": [
    "def add(x):\n",
    "    return(x+10)\n",
    "    \n",
    "add(20)"
   ]
  },
  {
   "cell_type": "code",
   "execution_count": 4,
   "id": "f2ac4719-74dc-4551-b50c-efcad0a4bd7c",
   "metadata": {},
   "outputs": [
    {
     "data": {
      "text/plain": [
       "30"
      ]
     },
     "execution_count": 4,
     "metadata": {},
     "output_type": "execute_result"
    }
   ],
   "source": [
    "def add(x):\n",
    "    summ = x+10\n",
    "    return(summ)\n",
    "\n",
    "add(20)"
   ]
  },
  {
   "cell_type": "code",
   "execution_count": null,
   "id": "746648e1-d4e2-4dc4-a4fb-c94b042969d7",
   "metadata": {},
   "outputs": [],
   "source": [
    "def add(x):\n",
    "    return(x+10)\n",
    "\n",
    "add(20)"
   ]
  },
  {
   "cell_type": "code",
   "execution_count": null,
   "id": "b8f1eaea-e58b-4025-8c7a-82f2212fbda3",
   "metadata": {},
   "outputs": [],
   "source": [
    "# synatx: lambda <argument_name>:<output>"
   ]
  },
  {
   "cell_type": "code",
   "execution_count": 9,
   "id": "5d6333ce-546d-47b3-9840-31d553508916",
   "metadata": {},
   "outputs": [
    {
     "data": {
      "text/plain": [
       "30"
      ]
     },
     "execution_count": 9,
     "metadata": {},
     "output_type": "execute_result"
    }
   ],
   "source": [
    "add = lambda x:x+10\n",
    "add(20)"
   ]
  },
  {
   "cell_type": "code",
   "execution_count": 11,
   "id": "8af9874c-0193-4c1a-af03-0d45a0c932ec",
   "metadata": {},
   "outputs": [
    {
     "data": {
      "text/plain": [
       "400"
      ]
     },
     "execution_count": 11,
     "metadata": {},
     "output_type": "execute_result"
    }
   ],
   "source": [
    "def square(x):\n",
    "    return(x*x)\n",
    "square(20)"
   ]
  },
  {
   "cell_type": "code",
   "execution_count": 12,
   "id": "eba1b3a6-aee1-4501-87e0-8aa6ac2d5395",
   "metadata": {},
   "outputs": [
    {
     "data": {
      "text/plain": [
       "900"
      ]
     },
     "execution_count": 12,
     "metadata": {},
     "output_type": "execute_result"
    }
   ],
   "source": [
    "square = lambda x:x*x\n",
    "square(30)"
   ]
  },
  {
   "cell_type": "code",
   "execution_count": 13,
   "id": "c1529a03-d1df-44df-8f39-f6dd0cfd04bf",
   "metadata": {},
   "outputs": [
    {
     "data": {
      "text/plain": [
       "8000"
      ]
     },
     "execution_count": 13,
     "metadata": {},
     "output_type": "execute_result"
    }
   ],
   "source": [
    "def cube(x):\n",
    "    return(x*x*x)\n",
    "cube(20)"
   ]
  },
  {
   "cell_type": "code",
   "execution_count": 15,
   "id": "844f4a12-fb4c-44e9-90ec-3561b2f9b560",
   "metadata": {},
   "outputs": [
    {
     "data": {
      "text/plain": [
       "27000"
      ]
     },
     "execution_count": 15,
     "metadata": {},
     "output_type": "execute_result"
    }
   ],
   "source": [
    "cube = lambda x:x*x*x\n",
    "cube(30)"
   ]
  },
  {
   "cell_type": "markdown",
   "id": "01034a71-e48f-4705-b50a-ca8174429f66",
   "metadata": {},
   "source": [
    "**Two Arguments**"
   ]
  },
  {
   "cell_type": "code",
   "execution_count": null,
   "id": "b9726a88-4a23-4779-80c8-416bbc7eea63",
   "metadata": {},
   "outputs": [],
   "source": [
    "# lambda = <arg1>,<arg2> : <output>"
   ]
  },
  {
   "cell_type": "code",
   "execution_count": 17,
   "id": "8b62b099-f0c5-4bd6-84f1-af057bc30fcc",
   "metadata": {},
   "outputs": [
    {
     "data": {
      "text/plain": [
       "50"
      ]
     },
     "execution_count": 17,
     "metadata": {},
     "output_type": "execute_result"
    }
   ],
   "source": [
    "def add(a,b):\n",
    "    return(a+b)\n",
    "\n",
    "add(20,30)"
   ]
  },
  {
   "cell_type": "code",
   "execution_count": 18,
   "id": "9220f782-8ebb-4713-8a93-66e5e4b795f2",
   "metadata": {},
   "outputs": [
    {
     "data": {
      "text/plain": [
       "50"
      ]
     },
     "execution_count": 18,
     "metadata": {},
     "output_type": "execute_result"
    }
   ],
   "source": [
    "add = lambda a,b:a+b\n",
    "add(20,30)"
   ]
  },
  {
   "cell_type": "code",
   "execution_count": null,
   "id": "7975f237-709f-47d0-b1dd-a8d9d29cdffd",
   "metadata": {},
   "outputs": [],
   "source": [
    "# Implement avg of 3 num using lambda"
   ]
  },
  {
   "cell_type": "code",
   "execution_count": 19,
   "id": "bb51c56c-678e-40a1-84a1-26fad06e41b4",
   "metadata": {},
   "outputs": [
    {
     "data": {
      "text/plain": [
       "30.0"
      ]
     },
     "execution_count": 19,
     "metadata": {},
     "output_type": "execute_result"
    }
   ],
   "source": [
    "avg = lambda a,b,c : (a+b+c)/3\n",
    "avg(20,30,40)"
   ]
  },
  {
   "cell_type": "code",
   "execution_count": null,
   "id": "d994e7f9-a140-49b0-8c21-d18af3dec85d",
   "metadata": {},
   "outputs": [],
   "source": [
    "# implement avg make c as default parameter"
   ]
  },
  {
   "cell_type": "code",
   "execution_count": 29,
   "id": "3eea0cb9-9b31-4d1e-8f7a-f8eb95abeb3b",
   "metadata": {},
   "outputs": [
    {
     "data": {
      "text/plain": [
       "26.67"
      ]
     },
     "execution_count": 29,
     "metadata": {},
     "output_type": "execute_result"
    }
   ],
   "source": [
    "avg = lambda a,b,c=30 : round((a+b+c)/3,2)\n",
    "avg(20,30)"
   ]
  },
  {
   "cell_type": "markdown",
   "id": "7ef7c1ea-9688-41b6-95a5-2c5055d01ef1",
   "metadata": {},
   "source": [
    "**if-else**"
   ]
  },
  {
   "cell_type": "code",
   "execution_count": null,
   "id": "84a749e0-a2af-4813-bc55-d5a0456115cb",
   "metadata": {},
   "outputs": [],
   "source": [
    "# Create a function for finding greater number between two numbers"
   ]
  },
  {
   "cell_type": "code",
   "execution_count": 32,
   "id": "89561fa9-4c95-4481-a099-07e481d4a878",
   "metadata": {},
   "outputs": [
    {
     "data": {
      "text/plain": [
       "40"
      ]
     },
     "execution_count": 32,
     "metadata": {},
     "output_type": "execute_result"
    }
   ],
   "source": [
    "def great(a,b):\n",
    "    if(a>b):\n",
    "        return(a)\n",
    "    else:\n",
    "        return(b)\n",
    "great(20,40)"
   ]
  },
  {
   "cell_type": "code",
   "execution_count": 36,
   "id": "81042314-5f13-4bc9-81a1-231b5639c4e9",
   "metadata": {},
   "outputs": [
    {
     "data": {
      "text/plain": [
       "[40]"
      ]
     },
     "execution_count": 36,
     "metadata": {},
     "output_type": "execute_result"
    }
   ],
   "source": [
    "def great(a,b):\n",
    "    l1 = []\n",
    "    if(a>b):\n",
    "        l1.append(a)\n",
    "    else:\n",
    "        l1.append(b)\n",
    "    return(l1)\n",
    "great(20,40)"
   ]
  },
  {
   "cell_type": "code",
   "execution_count": 34,
   "id": "081d3463-3a74-4b57-88a9-b72273fd657e",
   "metadata": {},
   "outputs": [],
   "source": [
    "l1 = []\n",
    "def great(a,b):\n",
    "    if(a>b):\n",
    "        l1.append(a)\n",
    "    else:\n",
    "        l1.append(b)\n",
    "great(20,40)"
   ]
  },
  {
   "cell_type": "code",
   "execution_count": 35,
   "id": "c90bf2a6-349c-4814-bf85-486c12f6165b",
   "metadata": {},
   "outputs": [
    {
     "data": {
      "text/plain": [
       "[40]"
      ]
     },
     "execution_count": 35,
     "metadata": {},
     "output_type": "execute_result"
    }
   ],
   "source": [
    "l1"
   ]
  },
  {
   "cell_type": "code",
   "execution_count": null,
   "id": "310c45ec-9e9d-4e9e-9185-99a6745eb676",
   "metadata": {},
   "outputs": [],
   "source": [
    "# listcomprehension\n",
    "# l1 = [<if_output> <if_con> else <else_output> <loop>]"
   ]
  },
  {
   "cell_type": "code",
   "execution_count": 43,
   "id": "f3c71757-f5c6-48c6-9a7f-aa705ba7f0fe",
   "metadata": {},
   "outputs": [],
   "source": [
    "# lambda <arg1>,<arg2>:<if_output> <if_con> else <else_output>"
   ]
  },
  {
   "cell_type": "code",
   "execution_count": 44,
   "id": "4c306f05-68a1-4aed-8b67-dc2db6d6e44e",
   "metadata": {},
   "outputs": [
    {
     "data": {
      "text/plain": [
       "20"
      ]
     },
     "execution_count": 44,
     "metadata": {},
     "output_type": "execute_result"
    }
   ],
   "source": [
    "great = lambda a,b : (a if a>b else b)\n",
    "great(10,20)"
   ]
  },
  {
   "cell_type": "code",
   "execution_count": null,
   "id": "1eb3e067-7fc7-4051-9930-5fcb03c07888",
   "metadata": {},
   "outputs": [],
   "source": []
  },
  {
   "cell_type": "code",
   "execution_count": null,
   "id": "023d8274-24e2-4b3b-8b73-6b9c38be59e4",
   "metadata": {},
   "outputs": [],
   "source": []
  },
  {
   "cell_type": "code",
   "execution_count": null,
   "id": "9d0fd844-01f0-4b7f-afd1-c1d691e8eafc",
   "metadata": {},
   "outputs": [],
   "source": []
  }
 ],
 "metadata": {
  "kernelspec": {
   "display_name": "Python [conda env:base] *",
   "language": "python",
   "name": "conda-base-py"
  },
  "language_info": {
   "codemirror_mode": {
    "name": "ipython",
    "version": 3
   },
   "file_extension": ".py",
   "mimetype": "text/x-python",
   "name": "python",
   "nbconvert_exporter": "python",
   "pygments_lexer": "ipython3",
   "version": "3.12.3"
  }
 },
 "nbformat": 4,
 "nbformat_minor": 5
}
