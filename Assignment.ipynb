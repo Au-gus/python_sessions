{
 "cells": [
  {
   "cell_type": "markdown",
   "id": "0714f7a1-5305-4913-b98d-1c604ac8760c",
   "metadata": {},
   "source": [
    "# Convert km to m, feet, inches, cm"
   ]
  },
  {
   "cell_type": "code",
   "execution_count": 8,
   "id": "bd0c9851-ebe1-4680-b1e0-f024e8436308",
   "metadata": {},
   "outputs": [
    {
     "name": "stdin",
     "output_type": "stream",
     "text": [
      "Enter the distance in km: 10\n"
     ]
    },
    {
     "name": "stdout",
     "output_type": "stream",
     "text": [
      "10 is equal to:\n",
      "10000 meters\n",
      "393701.0 inches\n",
      "1000000 centimeters\n"
     ]
    }
   ],
   "source": [
    "def convert(km):\n",
    "     meters = km * 1000\n",
    "     feet = km * 3280.84\n",
    "     inches = km * 39370.1\n",
    "     centimeters = km * 100000\n",
    "\n",
    "     print(f\"{km} is equal to:\")\n",
    "     print(f\"{meters} meters\")\n",
    "     print(f\"{inches} inches\")\n",
    "     print(f\"{centimeters} centimeters\")\n",
    "\n",
    "km = eval(input(\"Enter the distance in km:\"))\n",
    "convert(km)"
   ]
  },
  {
   "cell_type": "markdown",
   "id": "e22849cd-df36-419f-a7d9-1e51f87d6da7",
   "metadata": {},
   "source": [
    "# Calculate total percentage"
   ]
  },
  {
   "cell_type": "code",
   "execution_count": 22,
   "id": "38484f42-42df-47bc-b207-1a40841c824d",
   "metadata": {},
   "outputs": [
    {
     "name": "stdin",
     "output_type": "stream",
     "text": [
      "Enter the marks of 1 subject: 40\n",
      "Enter the marks of 2 subject: 50\n",
      "Enter the marks of 3 subject: 88\n",
      "Enter the marks of 4 subject: 79\n",
      "Enter the marks of 5 subject: 87\n"
     ]
    },
    {
     "name": "stdout",
     "output_type": "stream",
     "text": [
      "The total percentage is 68.80%\n"
     ]
    }
   ],
   "source": [
    "def calculate(marks):\n",
    "    total_marks = sum(marks)\n",
    "    total_percentage = total_marks/5\n",
    "    print(f\"The total percentage is {total_percentage:.2f}%\")\n",
    "    \n",
    "marks = []  # makes marks a list\n",
    "for i in range(1,6):\n",
    "    mark = eval(input(f\"Enter the marks of {i} subject:\"))\n",
    "    marks.append(mark) # makes them in list\n",
    "    \n",
    "calculate(marks)"
   ]
  },
  {
   "cell_type": "markdown",
   "id": "83ee27fa-f35c-4d91-9a10-61449696f38f",
   "metadata": {},
   "source": [
    "# Convert fahernheit to celsius"
   ]
  },
  {
   "cell_type": "code",
   "execution_count": 27,
   "id": "bd70f406-18cd-4f32-aff1-b80ed6e9a42c",
   "metadata": {},
   "outputs": [
    {
     "name": "stdin",
     "output_type": "stream",
     "text": [
      "Enter the temp in fahrenheit: -40\n"
     ]
    },
    {
     "name": "stdout",
     "output_type": "stream",
     "text": [
      "-40 fahrenheit is equal to -40.0 celsius\n"
     ]
    }
   ],
   "source": [
    "def convert(f):\n",
    "    c = (f - 32) * 5 / 9\n",
    "    print(f\"{f} fahrenheit is equal to {c} celsius\")\n",
    "f_input = eval(input(\"Enter the temp in fahrenheit:\"))\n",
    "convert(f_input)"
   ]
  },
  {
   "cell_type": "markdown",
   "id": "2a136826-1990-42fe-81f3-4a38d5ae8239",
   "metadata": {},
   "source": [
    "# Reverse of a number for 5 digits"
   ]
  },
  {
   "cell_type": "code",
   "execution_count": 32,
   "id": "6fa3782d-158c-4c6c-bc69-2e7033496929",
   "metadata": {},
   "outputs": [
    {
     "name": "stdin",
     "output_type": "stream",
     "text": [
      "Enter a five digit number: 23456\n"
     ]
    },
    {
     "name": "stdout",
     "output_type": "stream",
     "text": [
      "6 5 4 3 2\n"
     ]
    }
   ],
   "source": [
    "def rev(num):\n",
    "    n1 = num % 10\n",
    "    n11 = num // 10\n",
    "    n2 = n11 % 10\n",
    "    n22 = n11 // 10\n",
    "    n3 = n22 % 10\n",
    "    n33 = n22 // 10\n",
    "    n4 = n33 % 10\n",
    "    n44 = n33 // 10\n",
    "    n5 = n44 % 10\n",
    "    print(n1,end = ' ' )\n",
    "    print(n2,end = ' ' )\n",
    "    print(n3,end = ' ' )\n",
    "    print(n4,end = ' ' )\n",
    "    print(n5)\n",
    "num = eval(input(\"Enter a five digit number:\"))\n",
    "rev(num)    "
   ]
  },
  {
   "cell_type": "markdown",
   "id": "1b06a8c1-f8ca-4e26-a79d-ae851925cb69",
   "metadata": {},
   "source": [
    "# Reverse number for all"
   ]
  },
  {
   "cell_type": "code",
   "execution_count": 41,
   "id": "4802fe65-3dc5-4443-8061-34b84c8764cb",
   "metadata": {},
   "outputs": [
    {
     "name": "stdin",
     "output_type": "stream",
     "text": [
      "Enter a number: 76876\n"
     ]
    },
    {
     "name": "stdout",
     "output_type": "stream",
     "text": [
      "The reversed number is 67867\n"
     ]
    }
   ],
   "source": [
    "def rev(num):\n",
    "    reverse = 0\n",
    "    while num > 0:\n",
    "        digits = num % 10\n",
    "        reverse = reverse * 10 + digits\n",
    "        num = num // 10\n",
    "    return reverse\n",
    "num = eval(input(\"Enter a number:\"))\n",
    "print(f\"The reversed number is {rev(num)}\")"
   ]
  },
  {
   "cell_type": "code",
   "execution_count": null,
   "id": "f31a807f-490b-41d3-9ed0-e8987064431b",
   "metadata": {},
   "outputs": [],
   "source": []
  },
  {
   "cell_type": "code",
   "execution_count": null,
   "id": "c9bcc7ac-1df4-48ac-9ea0-3940aff88a59",
   "metadata": {},
   "outputs": [],
   "source": []
  },
  {
   "cell_type": "code",
   "execution_count": null,
   "id": "4e3e1fbe-8223-4ba5-bf0c-46b877d3c0c0",
   "metadata": {},
   "outputs": [],
   "source": []
  }
 ],
 "metadata": {
  "kernelspec": {
   "display_name": "Python [conda env:base] *",
   "language": "python",
   "name": "conda-base-py"
  },
  "language_info": {
   "codemirror_mode": {
    "name": "ipython",
    "version": 3
   },
   "file_extension": ".py",
   "mimetype": "text/x-python",
   "name": "python",
   "nbconvert_exporter": "python",
   "pygments_lexer": "ipython3",
   "version": "3.12.7"
  }
 },
 "nbformat": 4,
 "nbformat_minor": 5
}
