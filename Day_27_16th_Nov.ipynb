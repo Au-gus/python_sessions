{
 "cells": [
  {
   "cell_type": "code",
   "execution_count": null,
   "id": "f92b43dc-1fdd-4a98-9803-459cc9ce2b21",
   "metadata": {},
   "outputs": [],
   "source": [
    "Strings Writeup\n",
    "\n",
    "Assignment on strigns"
   ]
  },
  {
   "cell_type": "code",
   "execution_count": null,
   "id": "0d92b332-5f2b-4e86-814a-8e21f2c0dd2b",
   "metadata": {},
   "outputs": [],
   "source": [
    "- Read the strings\n",
    "- type\n",
    "- max\n",
    "- min\n",
    "- len\n",
    "- in (for loop)\n",
    "- range\n",
    "- index\n",
    "- mutable\n",
    "- slice\n",
    "- methods"
   ]
  },
  {
   "cell_type": "markdown",
   "id": "c958d453-6841-4342-b46f-4756e46c9a10",
   "metadata": {},
   "source": [
    "- Array of elements"
   ]
  },
  {
   "cell_type": "code",
   "execution_count": 1,
   "id": "02d600ef-6c16-4c92-a3ee-9a4732927cc3",
   "metadata": {},
   "outputs": [
    {
     "data": {
      "text/plain": [
       "[1, 2, 3, 40]"
      ]
     },
     "execution_count": 1,
     "metadata": {},
     "output_type": "execute_result"
    }
   ],
   "source": [
    "list1=[1,2,3,40]\n",
    "list1"
   ]
  },
  {
   "cell_type": "code",
   "execution_count": 14,
   "id": "8a87f332-b373-4610-abf9-043e31c29a6f",
   "metadata": {},
   "outputs": [
    {
     "data": {
      "text/plain": [
       "['A', 'b', 'c', 'D']"
      ]
     },
     "execution_count": 14,
     "metadata": {},
     "output_type": "execute_result"
    }
   ],
   "source": [
    "list2=['A','b','c','D']\n",
    "list2"
   ]
  },
  {
   "cell_type": "code",
   "execution_count": 3,
   "id": "347cd5e2-41fa-4829-8ded-75e28c202563",
   "metadata": {},
   "outputs": [
    {
     "data": {
      "text/plain": [
       "[1, 2, 3, 4, 'A', 'b', 'C']"
      ]
     },
     "execution_count": 3,
     "metadata": {},
     "output_type": "execute_result"
    }
   ],
   "source": [
    "list3=[1,2,3,4,'A','b','C']\n",
    "list3"
   ]
  },
  {
   "cell_type": "code",
   "execution_count": 6,
   "id": "5b588d09-6eb9-43c1-8325-517a777e443f",
   "metadata": {},
   "outputs": [
    {
     "data": {
      "text/plain": [
       "[1, 2, 'Apple', 4, 17]"
      ]
     },
     "execution_count": 6,
     "metadata": {},
     "output_type": "execute_result"
    }
   ],
   "source": [
    "list4=[1,2,'Apple',1+3,8+9]\n",
    "list4"
   ]
  },
  {
   "cell_type": "code",
   "execution_count": 7,
   "id": "7d80dd56-4d00-4a55-b391-26bd59dd8be0",
   "metadata": {},
   "outputs": [
    {
     "data": {
      "text/plain": [
       "[100, 100, 100]"
      ]
     },
     "execution_count": 7,
     "metadata": {},
     "output_type": "execute_result"
    }
   ],
   "source": [
    "list5=[100,100,100]\n",
    "list5"
   ]
  },
  {
   "cell_type": "code",
   "execution_count": 8,
   "id": "2b9c56f1-e5b7-41c4-8e59-3f6b1df68549",
   "metadata": {},
   "outputs": [
    {
     "data": {
      "text/plain": [
       "[[1, 2, 3, 4]]"
      ]
     },
     "execution_count": 8,
     "metadata": {},
     "output_type": "execute_result"
    }
   ],
   "source": [
    "list6=[[1,2,3,4]]\n",
    "list6"
   ]
  },
  {
   "cell_type": "markdown",
   "id": "691f1ff4-3c2f-424f-b98f-9c6b94494468",
   "metadata": {},
   "source": [
    "- list is an array of elements\n",
    "\n",
    "- In list elements heterogeneous(different) data types are allowed\n",
    "\n",
    "- duplicates are allowed\n",
    "\n",
    "- list in list also works"
   ]
  },
  {
   "cell_type": "code",
   "execution_count": 9,
   "id": "ad60cdfb-0ad3-4e35-a45c-af2a27fc670a",
   "metadata": {},
   "outputs": [
    {
     "data": {
      "text/plain": [
       "list"
      ]
     },
     "execution_count": 9,
     "metadata": {},
     "output_type": "execute_result"
    }
   ],
   "source": [
    "type(list3)"
   ]
  },
  {
   "cell_type": "code",
   "execution_count": 11,
   "id": "be612876-c029-46d2-bf71-731198ff0ae9",
   "metadata": {},
   "outputs": [
    {
     "data": {
      "text/plain": [
       "40"
      ]
     },
     "execution_count": 11,
     "metadata": {},
     "output_type": "execute_result"
    }
   ],
   "source": [
    "max(list1)"
   ]
  },
  {
   "cell_type": "code",
   "execution_count": 17,
   "id": "9b8fc262-8cdd-40d8-a27f-795f384d79c3",
   "metadata": {},
   "outputs": [
    {
     "data": {
      "text/plain": [
       "'c'"
      ]
     },
     "execution_count": 17,
     "metadata": {},
     "output_type": "execute_result"
    }
   ],
   "source": [
    "max(list2)"
   ]
  },
  {
   "cell_type": "code",
   "execution_count": 25,
   "id": "8789f0ad-d309-4206-a641-432c67e49103",
   "metadata": {},
   "outputs": [
    {
     "ename": "TypeError",
     "evalue": "'>' not supported between instances of 'str' and 'int'",
     "output_type": "error",
     "traceback": [
      "\u001b[1;31m---------------------------------------------------------------------------\u001b[0m",
      "\u001b[1;31mTypeError\u001b[0m                                 Traceback (most recent call last)",
      "Cell \u001b[1;32mIn[25], line 1\u001b[0m\n\u001b[1;32m----> 1\u001b[0m \u001b[38;5;28mmax\u001b[39m(list3)\n",
      "\u001b[1;31mTypeError\u001b[0m: '>' not supported between instances of 'str' and 'int'"
     ]
    }
   ],
   "source": [
    "max(list3) # error we cannot compare different data types"
   ]
  },
  {
   "cell_type": "code",
   "execution_count": 26,
   "id": "3ed1ac11-f215-45d3-9b50-09e1758d509a",
   "metadata": {},
   "outputs": [
    {
     "name": "stdout",
     "output_type": "stream",
     "text": [
      "40\n",
      "c\n"
     ]
    },
    {
     "ename": "TypeError",
     "evalue": "'>' not supported between instances of 'str' and 'int'",
     "output_type": "error",
     "traceback": [
      "\u001b[1;31m---------------------------------------------------------------------------\u001b[0m",
      "\u001b[1;31mTypeError\u001b[0m                                 Traceback (most recent call last)",
      "Cell \u001b[1;32mIn[26], line 3\u001b[0m\n\u001b[0;32m      1\u001b[0m \u001b[38;5;28mprint\u001b[39m(\u001b[38;5;28mmax\u001b[39m(list1))\n\u001b[0;32m      2\u001b[0m \u001b[38;5;28mprint\u001b[39m(\u001b[38;5;28mmax\u001b[39m(list2))\n\u001b[1;32m----> 3\u001b[0m \u001b[38;5;28mprint\u001b[39m(\u001b[38;5;28mmax\u001b[39m(list3))\n",
      "\u001b[1;31mTypeError\u001b[0m: '>' not supported between instances of 'str' and 'int'"
     ]
    }
   ],
   "source": [
    "print(max(list1))\n",
    "print(max(list2))\n",
    "print(max(list3))"
   ]
  },
  {
   "cell_type": "code",
   "execution_count": 27,
   "id": "0b254249-80be-4a6f-a344-5430781dbeae",
   "metadata": {},
   "outputs": [
    {
     "name": "stdout",
     "output_type": "stream",
     "text": [
      "1\n",
      "A\n"
     ]
    },
    {
     "ename": "TypeError",
     "evalue": "'<' not supported between instances of 'str' and 'int'",
     "output_type": "error",
     "traceback": [
      "\u001b[1;31m---------------------------------------------------------------------------\u001b[0m",
      "\u001b[1;31mTypeError\u001b[0m                                 Traceback (most recent call last)",
      "Cell \u001b[1;32mIn[27], line 3\u001b[0m\n\u001b[0;32m      1\u001b[0m \u001b[38;5;28mprint\u001b[39m(\u001b[38;5;28mmin\u001b[39m(list1))\n\u001b[0;32m      2\u001b[0m \u001b[38;5;28mprint\u001b[39m(\u001b[38;5;28mmin\u001b[39m(list2))\n\u001b[1;32m----> 3\u001b[0m \u001b[38;5;28mprint\u001b[39m(\u001b[38;5;28mmin\u001b[39m(list3))\n",
      "\u001b[1;31mTypeError\u001b[0m: '<' not supported between instances of 'str' and 'int'"
     ]
    }
   ],
   "source": [
    "print(min(list1))\n",
    "print(min(list2))\n",
    "print(min(list3))"
   ]
  },
  {
   "cell_type": "code",
   "execution_count": 28,
   "id": "7b1f8ccb-f3b9-409d-b6ea-2cfedffbe840",
   "metadata": {},
   "outputs": [
    {
     "name": "stdout",
     "output_type": "stream",
     "text": [
      "4\n",
      "4\n",
      "7\n"
     ]
    }
   ],
   "source": [
    "print(len(list1))\n",
    "print(len(list2))\n",
    "print(len(list3))"
   ]
  },
  {
   "cell_type": "code",
   "execution_count": 29,
   "id": "f02b25b8-3382-4b84-9e5d-2905bd61697d",
   "metadata": {},
   "outputs": [
    {
     "name": "stdout",
     "output_type": "stream",
     "text": [
      "[1, 2, 3, 40]\n",
      "46\n"
     ]
    }
   ],
   "source": [
    "print(list1)\n",
    "print(sum(list1))"
   ]
  },
  {
   "cell_type": "code",
   "execution_count": 30,
   "id": "142ed1b2-a912-46fd-8061-e99ffa87d11a",
   "metadata": {},
   "outputs": [
    {
     "name": "stdout",
     "output_type": "stream",
     "text": [
      "['A', 'b', 'c', 'D']\n"
     ]
    },
    {
     "ename": "TypeError",
     "evalue": "unsupported operand type(s) for +: 'int' and 'str'",
     "output_type": "error",
     "traceback": [
      "\u001b[1;31m---------------------------------------------------------------------------\u001b[0m",
      "\u001b[1;31mTypeError\u001b[0m                                 Traceback (most recent call last)",
      "Cell \u001b[1;32mIn[30], line 2\u001b[0m\n\u001b[0;32m      1\u001b[0m \u001b[38;5;28mprint\u001b[39m(list2)\n\u001b[1;32m----> 2\u001b[0m \u001b[38;5;28mprint\u001b[39m(\u001b[38;5;28msum\u001b[39m(list2))\n",
      "\u001b[1;31mTypeError\u001b[0m: unsupported operand type(s) for +: 'int' and 'str'"
     ]
    }
   ],
   "source": [
    "print(list2)\n",
    "print(sum(list2))"
   ]
  },
  {
   "cell_type": "code",
   "execution_count": 31,
   "id": "a637bf5b-f190-4987-a82e-abb8a45d3c7d",
   "metadata": {},
   "outputs": [
    {
     "name": "stdout",
     "output_type": "stream",
     "text": [
      "[1, 2, 3, 4, 'A', 'b', 'C']\n"
     ]
    },
    {
     "ename": "TypeError",
     "evalue": "unsupported operand type(s) for +: 'int' and 'str'",
     "output_type": "error",
     "traceback": [
      "\u001b[1;31m---------------------------------------------------------------------------\u001b[0m",
      "\u001b[1;31mTypeError\u001b[0m                                 Traceback (most recent call last)",
      "Cell \u001b[1;32mIn[31], line 2\u001b[0m\n\u001b[0;32m      1\u001b[0m \u001b[38;5;28mprint\u001b[39m(list3)\n\u001b[1;32m----> 2\u001b[0m \u001b[38;5;28mprint\u001b[39m(\u001b[38;5;28msum\u001b[39m(list3))\n",
      "\u001b[1;31mTypeError\u001b[0m: unsupported operand type(s) for +: 'int' and 'str'"
     ]
    }
   ],
   "source": [
    "print(list3)\n",
    "print(sum(list3))"
   ]
  },
  {
   "cell_type": "code",
   "execution_count": 32,
   "id": "4c501736-7b72-4ed4-87c6-131d48b0bada",
   "metadata": {},
   "outputs": [
    {
     "data": {
      "text/plain": [
       "[1, 2, 3, 40]"
      ]
     },
     "execution_count": 32,
     "metadata": {},
     "output_type": "execute_result"
    }
   ],
   "source": [
    "list1"
   ]
  },
  {
   "cell_type": "code",
   "execution_count": 35,
   "id": "8f83e5e5-9f31-4390-93bc-feccd62c1457",
   "metadata": {},
   "outputs": [
    {
     "data": {
      "text/plain": [
       "True"
      ]
     },
     "execution_count": 35,
     "metadata": {},
     "output_type": "execute_result"
    }
   ],
   "source": [
    "1 in list1"
   ]
  },
  {
   "cell_type": "code",
   "execution_count": 38,
   "id": "9c34c2f4-ca40-4e17-992b-bcee0a9f872a",
   "metadata": {},
   "outputs": [
    {
     "name": "stdout",
     "output_type": "stream",
     "text": [
      "1\n",
      "2\n",
      "3\n",
      "40\n"
     ]
    }
   ],
   "source": [
    "for i in list1:\n",
    "    print(i)"
   ]
  },
  {
   "cell_type": "markdown",
   "id": "6de86b84-6487-401b-b70c-1f3c5103b39d",
   "metadata": {},
   "source": [
    "$Concatenation$"
   ]
  },
  {
   "cell_type": "code",
   "execution_count": 39,
   "id": "5107bd75-30c0-404a-84aa-c5f5cb07a9f7",
   "metadata": {},
   "outputs": [
    {
     "data": {
      "text/plain": [
       "[1, 2, 3, 40]"
      ]
     },
     "execution_count": 39,
     "metadata": {},
     "output_type": "execute_result"
    }
   ],
   "source": [
    "list1"
   ]
  },
  {
   "cell_type": "code",
   "execution_count": 40,
   "id": "7a281409-f3d1-4a88-aed0-1328053ddef7",
   "metadata": {},
   "outputs": [
    {
     "data": {
      "text/plain": [
       "['A', 'b', 'c', 'D']"
      ]
     },
     "execution_count": 40,
     "metadata": {},
     "output_type": "execute_result"
    }
   ],
   "source": [
    "list2"
   ]
  },
  {
   "cell_type": "code",
   "execution_count": 41,
   "id": "95502947-8c51-4d13-be11-b297f1354543",
   "metadata": {},
   "outputs": [
    {
     "name": "stdout",
     "output_type": "stream",
     "text": [
      "[1, 2, 3, 40, 'A', 'b', 'c', 'D']\n",
      "['A', 'b', 'c', 'D', 1, 2, 3, 40]\n"
     ]
    }
   ],
   "source": [
    "print(list1+list2)\n",
    "print(list2+list1)"
   ]
  },
  {
   "cell_type": "code",
   "execution_count": 42,
   "id": "a879cdc9-8a69-4ad3-af67-c7a723de32c5",
   "metadata": {},
   "outputs": [],
   "source": [
    "new_list=list1+list2"
   ]
  },
  {
   "cell_type": "code",
   "execution_count": 43,
   "id": "aac8d8a7-3a7d-41d8-93ae-4b161ce7c7ac",
   "metadata": {},
   "outputs": [
    {
     "data": {
      "text/plain": [
       "[1, 2, 3, 40, 'A', 'b', 'c', 'D']"
      ]
     },
     "execution_count": 43,
     "metadata": {},
     "output_type": "execute_result"
    }
   ],
   "source": [
    "new_list"
   ]
  },
  {
   "cell_type": "code",
   "execution_count": 44,
   "id": "b01f30a3-5093-4412-9d8c-df582731ff2c",
   "metadata": {},
   "outputs": [
    {
     "data": {
      "text/plain": [
       "[1, 2, 3, 40, 1, 2, 3, 40, 1, 2, 3, 40]"
      ]
     },
     "execution_count": 44,
     "metadata": {},
     "output_type": "execute_result"
    }
   ],
   "source": [
    "list1*3"
   ]
  },
  {
   "cell_type": "code",
   "execution_count": 47,
   "id": "4f59d4eb-e997-4cb6-a306-1fc1dc245a7a",
   "metadata": {},
   "outputs": [
    {
     "ename": "TypeError",
     "evalue": "unsupported operand type(s) for -: 'list' and 'list'",
     "output_type": "error",
     "traceback": [
      "\u001b[1;31m---------------------------------------------------------------------------\u001b[0m",
      "\u001b[1;31mTypeError\u001b[0m                                 Traceback (most recent call last)",
      "Cell \u001b[1;32mIn[47], line 1\u001b[0m\n\u001b[1;32m----> 1\u001b[0m list1\u001b[38;5;241m-\u001b[39mlist2  \u001b[38;5;66;03m# Error\u001b[39;00m\n\u001b[0;32m      2\u001b[0m list1\u001b[38;5;241m*\u001b[39mlist2  \u001b[38;5;66;03m# Error\u001b[39;00m\n\u001b[0;32m      3\u001b[0m list1\u001b[38;5;241m/\u001b[39mlist2\n",
      "\u001b[1;31mTypeError\u001b[0m: unsupported operand type(s) for -: 'list' and 'list'"
     ]
    }
   ],
   "source": [
    "list1-list2  # Error\n",
    "list1*list2  # Error\n",
    "list1/list2  # Error\n",
    "\n",
    "# All will come errorr"
   ]
  },
  {
   "cell_type": "markdown",
   "id": "a5c3ae8a-7a79-4ad1-ae0e-c2c0c85df100",
   "metadata": {},
   "source": [
    "$Index$"
   ]
  },
  {
   "cell_type": "code",
   "execution_count": 48,
   "id": "f8356da0-1f27-4934-b366-98c59b324087",
   "metadata": {},
   "outputs": [
    {
     "data": {
      "text/plain": [
       "[1, 2, 3, 4, 'A', 'b', 'C']"
      ]
     },
     "execution_count": 48,
     "metadata": {},
     "output_type": "execute_result"
    }
   ],
   "source": [
    "list3"
   ]
  },
  {
   "cell_type": "code",
   "execution_count": 50,
   "id": "7dff8757-3114-41cc-a90a-3af97a88765c",
   "metadata": {},
   "outputs": [
    {
     "data": {
      "text/plain": [
       "(1, 2, 3, 4)"
      ]
     },
     "execution_count": 50,
     "metadata": {},
     "output_type": "execute_result"
    }
   ],
   "source": [
    "list3[0],list3[1],list3[2],list3[3]\n",
    "\n",
    "# list3[i]\n",
    "# i=0 1 2 3"
   ]
  },
  {
   "cell_type": "code",
   "execution_count": 58,
   "id": "2485af47-5fb9-45c6-89c7-baef19311d66",
   "metadata": {},
   "outputs": [
    {
     "data": {
      "text/plain": [
       "'-7 -6 -5 -4 -3 -2 -1\\n    1  2  3  4  A  b  c\\n    0  1  2  3  4  5  6 '"
      ]
     },
     "execution_count": 58,
     "metadata": {},
     "output_type": "execute_result"
    }
   ],
   "source": [
    "list3[-1]\n",
    "\n",
    "'''-7 -6 -5 -4 -3 -2 -1\n",
    "    1  2  3  4  A  b  c\n",
    "    0  1  2  3  4  5  6 '''"
   ]
  },
  {
   "cell_type": "code",
   "execution_count": 53,
   "id": "26201df7-15f5-4abc-9c6e-c8b710931810",
   "metadata": {},
   "outputs": [
    {
     "name": "stdout",
     "output_type": "stream",
     "text": [
      "0 1\n",
      "1 2\n",
      "2 3\n",
      "3 4\n",
      "4 A\n",
      "5 b\n",
      "6 C\n"
     ]
    }
   ],
   "source": [
    "for i in range(7):\n",
    "    print(i,list3[i])"
   ]
  },
  {
   "cell_type": "code",
   "execution_count": 54,
   "id": "8d5542a2-8f86-4e30-a693-3d9085833c19",
   "metadata": {},
   "outputs": [
    {
     "name": "stdout",
     "output_type": "stream",
     "text": [
      "0 1\n",
      "1 2\n",
      "2 3\n",
      "3 4\n",
      "4 A\n",
      "5 b\n",
      "6 C\n"
     ]
    }
   ],
   "source": [
    "for i in range(len(list3)):\n",
    "    print(i,list3[i])"
   ]
  },
  {
   "cell_type": "code",
   "execution_count": 64,
   "id": "ea773dfd-fbe5-403d-91e0-3e1698ebae7f",
   "metadata": {},
   "outputs": [
    {
     "name": "stdout",
     "output_type": "stream",
     "text": [
      "positive index is: 0 and negative index is: -7: for an element 1\n",
      "positive index is: 1 and negative index is: -6: for an element 2\n",
      "positive index is: 2 and negative index is: -5: for an element 3\n",
      "positive index is: 3 and negative index is: -4: for an element 4\n",
      "positive index is: 4 and negative index is: -3: for an element A\n",
      "positive index is: 5 and negative index is: -2: for an element b\n",
      "positive index is: 6 and negative index is: -1: for an element C\n"
     ]
    }
   ],
   "source": [
    "for i in range(len(list3)):\n",
    "    print('positive index is: {} and negative index is: {}: for an element {}'.format(i,i-len(list3),list3[i]))"
   ]
  },
  {
   "cell_type": "code",
   "execution_count": null,
   "id": "2832ff02-f168-4a27-ba23-dfde3738d1cc",
   "metadata": {},
   "outputs": [],
   "source": [
    "# WAP find the elements which have len<3\n",
    "# list=['Apple','Ball','Cat','Ab','Cd','Ef']"
   ]
  },
  {
   "cell_type": "code",
   "execution_count": 84,
   "id": "5bcdf762-73c5-4c63-b2a1-dd75535a2913",
   "metadata": {},
   "outputs": [
    {
     "name": "stdout",
     "output_type": "stream",
     "text": [
      "Ab\n",
      "Cd\n",
      "Ef\n",
      "---------\n",
      "Ab\n",
      "Cd\n",
      "Ef\n"
     ]
    }
   ],
   "source": [
    "list9=['Apple','Ball','Cat','Ab','Cd','Ef']\n",
    "for i in range(len(list9)):\n",
    "    if (len(list9[i])<3):\n",
    "        print(list9[i])\n",
    "print('---------')\n",
    "for i in list9:\n",
    "    if (len(i)<3):\n",
    "        print(i)"
   ]
  },
  {
   "cell_type": "code",
   "execution_count": null,
   "id": "531e7c72-2cda-4632-96b4-bda9a3e5c4c6",
   "metadata": {},
   "outputs": [],
   "source": [
    "# WAP find the elements having '#'"
   ]
  },
  {
   "cell_type": "code",
   "execution_count": 92,
   "id": "eb0c973b-1cc8-4dc6-bdf8-e760912a5333",
   "metadata": {},
   "outputs": [
    {
     "name": "stdout",
     "output_type": "stream",
     "text": [
      "App#e\n",
      "B#ll\n",
      "C#t\n"
     ]
    }
   ],
   "source": [
    "list10=['App#e','B#ll','C#t','AB','CD','EF']\n",
    "for i in list10:\n",
    "    if '#' in i:\n",
    "        print(i)"
   ]
  },
  {
   "cell_type": "code",
   "execution_count": 94,
   "id": "0ac8aa1f-e208-419a-8e8d-7a387a9f853b",
   "metadata": {},
   "outputs": [
    {
     "name": "stdout",
     "output_type": "stream",
     "text": [
      "3\n"
     ]
    }
   ],
   "source": [
    "list10=['App#e','B#ll','C#t','AB','CD','EF']\n",
    "count=0\n",
    "for i in list10:\n",
    "    if '#' in i:\n",
    "        count=count+1\n",
    "print(count)"
   ]
  },
  {
   "cell_type": "code",
   "execution_count": 101,
   "id": "cf7558a4-a868-42fc-a29a-12aef04f6519",
   "metadata": {},
   "outputs": [
    {
     "name": "stdout",
     "output_type": "stream",
     "text": [
      "['Apple', 'Ball']\n",
      "Ball\n"
     ]
    }
   ],
   "source": [
    "list11=[1,2,3,['Apple','Ball']]\n",
    "\n",
    "# retrive the ball using index\n",
    "print(list11[3])\n",
    "print(list11[3][1])"
   ]
  },
  {
   "cell_type": "code",
   "execution_count": 111,
   "id": "5effbf31-4924-4e2b-8cf6-8fb6617bf530",
   "metadata": {},
   "outputs": [
    {
     "name": "stdout",
     "output_type": "stream",
     "text": [
      "Cherry\n"
     ]
    }
   ],
   "source": [
    "list12=[[[[[[['Cherry']]]]]]]\n",
    "print(list12[0][0][0][0][0][0][0])"
   ]
  },
  {
   "cell_type": "code",
   "execution_count": 132,
   "id": "738602fa-047d-4cc1-bf81-9ddaaddd1c13",
   "metadata": {},
   "outputs": [
    {
     "name": "stdout",
     "output_type": "stream",
     "text": [
      "Car\n"
     ]
    }
   ],
   "source": [
    "list13=[[[['a','b',[[[1,2,3,['Car']]]]]]]]\n",
    "print(list13[0][0][0][2][0][0][3][0])"
   ]
  },
  {
   "cell_type": "markdown",
   "id": "f22e6998-750e-4fa7-a2cf-8fee689f83a2",
   "metadata": {},
   "source": [
    "$Mutable$"
   ]
  },
  {
   "cell_type": "code",
   "execution_count": 136,
   "id": "1e4d7e4b-860e-48b4-85d1-25213823e803",
   "metadata": {},
   "outputs": [
    {
     "ename": "TypeError",
     "evalue": "'str' object does not support item assignment",
     "output_type": "error",
     "traceback": [
      "\u001b[1;31m---------------------------------------------------------------------------\u001b[0m",
      "\u001b[1;31mTypeError\u001b[0m                                 Traceback (most recent call last)",
      "Cell \u001b[1;32mIn[136], line 2\u001b[0m\n\u001b[0;32m      1\u001b[0m str1\u001b[38;5;241m=\u001b[39m\u001b[38;5;124m'\u001b[39m\u001b[38;5;124mwelcome\u001b[39m\u001b[38;5;124m'\u001b[39m\n\u001b[1;32m----> 2\u001b[0m str1[\u001b[38;5;241m2\u001b[39m]\u001b[38;5;241m=\u001b[39m\u001b[38;5;124m'\u001b[39m\u001b[38;5;124m1\u001b[39m\u001b[38;5;124m'\u001b[39m\n\u001b[0;32m      3\u001b[0m str1\n",
      "\u001b[1;31mTypeError\u001b[0m: 'str' object does not support item assignment"
     ]
    }
   ],
   "source": [
    "str1='welcome'\n",
    "str1[2]='L'\n",
    "str1"
   ]
  },
  {
   "cell_type": "code",
   "execution_count": 134,
   "id": "242172d8-c059-42a0-a5df-daa6defb62be",
   "metadata": {},
   "outputs": [
    {
     "data": {
      "text/plain": [
       "[100, 'B', 'C']"
      ]
     },
     "execution_count": 134,
     "metadata": {},
     "output_type": "execute_result"
    }
   ],
   "source": [
    "list14=['A','B','C']\n",
    "list14[0]=100\n",
    "list14"
   ]
  },
  {
   "cell_type": "markdown",
   "id": "637decfd-b693-45c3-8d2a-285f77ba4a7b",
   "metadata": {},
   "source": [
    "$Slice$"
   ]
  },
  {
   "cell_type": "code",
   "execution_count": 138,
   "id": "aeffa87e-3217-44a8-b1fe-aab9d623c84d",
   "metadata": {},
   "outputs": [
    {
     "data": {
      "text/plain": [
       "[30, 'p', 'H', 'a']"
      ]
     },
     "execution_count": 138,
     "metadata": {},
     "output_type": "execute_result"
    }
   ],
   "source": [
    "list15=[10,20,30,40,50,'p','y','T','H','O','N','a','b','c','D']\n",
    "list15[2:14:3]"
   ]
  },
  {
   "cell_type": "code",
   "execution_count": 144,
   "id": "6f709544-48cd-4b3b-b0ea-29da17a1d27b",
   "metadata": {},
   "outputs": [
    {
     "name": "stdout",
     "output_type": "stream",
     "text": [
      "list16: []\n",
      "list17: [1, 2, 3, 4]\n"
     ]
    }
   ],
   "source": [
    "list16=[1,2,3,4]\n",
    "list17=list16.copy()\n",
    "list17\n",
    "\n",
    "list16.clear()\n",
    "print('list16:',list16)\n",
    "print('list17:',list17)"
   ]
  }
 ],
 "metadata": {
  "kernelspec": {
   "display_name": "Python [conda env:base] *",
   "language": "python",
   "name": "conda-base-py"
  },
  "language_info": {
   "codemirror_mode": {
    "name": "ipython",
    "version": 3
   },
   "file_extension": ".py",
   "mimetype": "text/x-python",
   "name": "python",
   "nbconvert_exporter": "python",
   "pygments_lexer": "ipython3",
   "version": "3.12.7"
  }
 },
 "nbformat": 4,
 "nbformat_minor": 5
}
