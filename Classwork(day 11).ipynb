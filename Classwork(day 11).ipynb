{
 "cells": [
  {
   "cell_type": "code",
   "execution_count": null,
   "id": "ae0dd506-a145-4456-a63c-85528e175615",
   "metadata": {},
   "outputs": [],
   "source": [
    "# Modifiying from dev2"
   ]
  },
  {
   "cell_type": "code",
   "execution_count": null,
   "id": "823992d4-cc23-47bb-99bd-1a980758cd3b",
   "metadata": {},
   "outputs": [],
   "source": [
    "# (1) WAP enter the salary\n",
    "# ask DA amount\n",
    "# ask HR amount\n",
    "# Calculate total pay = basic_salary+ DA + HRA"
   ]
  },
  {
   "cell_type": "code",
   "execution_count": 4,
   "id": "87d201e2-4d4f-4676-bb73-d1a7a0917779",
   "metadata": {},
   "outputs": [
    {
     "name": "stdin",
     "output_type": "stream",
     "text": [
      "enter a basic salary: 100000\n",
      "enter DA amount: 5000\n",
      "enter HRA amount: 30000\n"
     ]
    },
    {
     "name": "stdout",
     "output_type": "stream",
     "text": [
      "the total salary is: 135000\n"
     ]
    }
   ],
   "source": [
    "basic_salary = eval(input(\"enter a basic salary:\"))\n",
    "DA = eval(input(\"enter DA amount:\"))\n",
    "HRA = eval(input(\"enter HRA amount:\"))\n",
    "total_pay = basic_salary + DA + HRA\n",
    "print(\"the total salary is:\",total_pay)"
   ]
  },
  {
   "cell_type": "code",
   "execution_count": 4,
   "id": "7e561f0a-bf0f-4c55-91b3-5e32799f9094",
   "metadata": {},
   "outputs": [
    {
     "name": "stdin",
     "output_type": "stream",
     "text": [
      "enter a basic salary: 100000\n",
      "enter DA amount: 5000\n",
      "enter HRA amount: 30000\n"
     ]
    },
    {
     "name": "stdout",
     "output_type": "stream",
     "text": [
      "the total salary is: 135000\n"
     ]
    }
   ],
   "source": [
    "basic_salary = eval(input(\"enter a basic salary:\"))\n",
    "DA = eval(input(\"enter DA amount:\"))\n",
    "HRA = eval(input(\"enter HRA amount:\"))\n",
    "total_pay = basic_salary + DA + HRA\n",
    "print(\"the total salary is:\",total_pay)"
   ]
  },
  {
   "cell_type": "code",
   "execution_count": null,
   "id": "b6e7deb2-600e-4421-9045-c92ce146dd5e",
   "metadata": {},
   "outputs": [],
   "source": [
    "# (2) WAP enter salary\n",
    "# tax percentage = 10%\n",
    "# Calculate how much tax user need to pay"
   ]
  },
  {
   "cell_type": "code",
   "execution_count": 8,
   "id": "72cb0cd5-7ae6-4f9f-8c58-97c224f77225",
   "metadata": {},
   "outputs": [
    {
     "name": "stdin",
     "output_type": "stream",
     "text": [
      "Enter the users Salary: 100000\n",
      "Enter your tax percentage: 10\n"
     ]
    },
    {
     "name": "stdout",
     "output_type": "stream",
     "text": [
      "The tax user need to pay is: 10000.0\n"
     ]
    }
   ],
   "source": [
    "Salary = eval(input(\"Enter the users Salary:\"))\n",
    "Tax_percent = eval(input(\"Enter your tax percentage:\"))\n",
    "Tax_amount = (Salary*Tax_percent)/100\n",
    "print(\"The tax user need to pay is:\",Tax_amount)"
   ]
  },
  {
   "cell_type": "code",
   "execution_count": null,
   "id": "4d1de357-407d-416c-905e-b23c3ed608e5",
   "metadata": {},
   "outputs": [],
   "source": [
    "# (3) WAP get random value between 1-100\n",
    "# perform the square of the number"
   ]
  },
  {
   "cell_type": "code",
   "execution_count": 25,
   "id": "83cdffc9-3717-4f15-9800-672fa9089427",
   "metadata": {},
   "outputs": [
    {
     "name": "stdout",
     "output_type": "stream",
     "text": [
      "The random number is: 14\n",
      "The sqaure of the 14 is: 196\n"
     ]
    }
   ],
   "source": [
    "import random\n",
    "val1 = random.randint(1,100)\n",
    "print(\"The random number is:\",val1)\n",
    "val2 = pow(val1,2)\n",
    "print(\"The sqaure of the {} is: {}\".format(val1,val2))"
   ]
  },
  {
   "cell_type": "code",
   "execution_count": 28,
   "id": "610ddef6-adcc-4ca1-8e73-2c11a20c28dc",
   "metadata": {},
   "outputs": [],
   "source": [
    "# (4) WAP enter a distance \n",
    "# enter a rate per km\n",
    "# Calculate total charge"
   ]
  },
  {
   "cell_type": "code",
   "execution_count": 32,
   "id": "e7f5eec1-bd9f-49ca-b669-709c3e26aa4c",
   "metadata": {},
   "outputs": [
    {
     "name": "stdin",
     "output_type": "stream",
     "text": [
      "Enter the distance in km: 10\n",
      "Enter the rate per km: 100\n"
     ]
    },
    {
     "name": "stdout",
     "output_type": "stream",
     "text": [
      " Total Amount in rupees is: 1000\n"
     ]
    }
   ],
   "source": [
    "distance = eval(input(\"Enter the distance in km:\"))\n",
    "rate = eval(input(\"Enter the rate per km:\"))\n",
    "total_charge = distance * rate\n",
    "print(\" Total Amount in rupees is:\", total_charge)"
   ]
  },
  {
   "cell_type": "code",
   "execution_count": 34,
   "id": "d35549b9-f6aa-4ef2-863a-581dedf0967f",
   "metadata": {},
   "outputs": [],
   "source": [
    "# (5) WAP enter total bill in dollars\n",
    "# manager : the dollars are not accepted\n",
    "# user: which currency is acceptable\n",
    "# manager: Only Nepali Rupees\n",
    "# 1 dollar = Rs. 137\n",
    "# total bill?"
   ]
  },
  {
   "cell_type": "code",
   "execution_count": 38,
   "id": "775c3e2b-03d2-42c0-b37b-ec7926bcf4af",
   "metadata": {},
   "outputs": [
    {
     "name": "stdin",
     "output_type": "stream",
     "text": [
      "Enter the total bill in dollars: 365\n"
     ]
    },
    {
     "name": "stdout",
     "output_type": "stream",
     "text": [
      "Manager: Dollars aren't accepted here. Sir\n",
      "User: Which currency is accepted then?\n",
      "Manager: Only Nepali Rupees are accepted. Sir\n",
      "Can I know the conversion rate of dollars to rupees\n"
     ]
    },
    {
     "name": "stdin",
     "output_type": "stream",
     "text": [
      "One dollars is equal to: 137\n"
     ]
    },
    {
     "name": "stdout",
     "output_type": "stream",
     "text": [
      "The total amount in Nepali Rupees is: 50005\n"
     ]
    }
   ],
   "source": [
    "total_bill = eval(input(\"Enter the total bill in dollars:\"))\n",
    "print(\"Manager: Dollars aren't accepted here. Sir\")\n",
    "print(\"User: Which currency is accepted then?\")\n",
    "print(\"Manager: Only Nepali Rupees are accepted. Sir\")\n",
    "print(\"Can I know the conversion rate of dollars to rupees\")\n",
    "conversion_rate = eval(input(\"One dollars is equal to:\"))\n",
    "total_amount = total_bill * conversion_rate\n",
    "print(\"The total amount in Nepali Rupees is:\",total_amount)"
   ]
  },
  {
   "cell_type": "code",
   "execution_count": null,
   "id": "9d99a758-f9d6-4b87-b8ae-6e517c5e2ba0",
   "metadata": {},
   "outputs": [],
   "source": [
    "# (6) delay a sentence"
   ]
  },
  {
   "cell_type": "code",
   "execution_count": 41,
   "id": "0aaf57bd-95e6-437c-9246-43d2f299b202",
   "metadata": {},
   "outputs": [
    {
     "name": "stdin",
     "output_type": "stream",
     "text": [
      "Enter the total bill in dollars: 36\n"
     ]
    },
    {
     "name": "stdout",
     "output_type": "stream",
     "text": [
      "Manager: Dollars aren't accepted here. Sir\n",
      "User: Hmm,..which currency is accepted then?\n",
      "Manager: Only Nepali Rupees are accepted. Sir\n",
      "So, then can I know the conversion rate of dollars to rupees\n"
     ]
    },
    {
     "name": "stdin",
     "output_type": "stream",
     "text": [
      "One dollars is equal to: 137\n"
     ]
    },
    {
     "name": "stdout",
     "output_type": "stream",
     "text": [
      "The total amount in Nepali Rupees is: 4932\n"
     ]
    }
   ],
   "source": [
    "import time\n",
    "total_bill = eval(input(\"Enter the total bill in dollars:\"))\n",
    "time.sleep(2)\n",
    "print(\"Manager: Dollars aren't accepted here. Sir\")\n",
    "time.sleep(4)\n",
    "print(\"User: Hmm,..which currency is accepted then?\")\n",
    "time.sleep(2.5)\n",
    "print(\"Manager: Only Nepali Rupees are accepted. Sir\")\n",
    "time.sleep(5)\n",
    "print(\"So, then can I know the conversion rate of dollars to rupees\")\n",
    "conversion_rate = eval(input(\"One dollars is equal to:\"))\n",
    "total_amount = total_bill * conversion_rate\n",
    "time.sleep(2)\n",
    "print(\"The total amount in Nepali Rupees is:\",total_amount)"
   ]
  },
  {
   "cell_type": "code",
   "execution_count": null,
   "id": "8bdea4ab-9c7b-4b0a-b2e9-11b7fca5b8aa",
   "metadata": {},
   "outputs": [],
   "source": [
    "# (7) write ur own response"
   ]
  },
  {
   "cell_type": "code",
   "execution_count": 42,
   "id": "e903f9d0-0f6f-405b-9bf0-123e95ce5235",
   "metadata": {},
   "outputs": [
    {
     "name": "stdin",
     "output_type": "stream",
     "text": [
      "Enter the total bill in dollars: 365\n",
      "Manager Response: Dollars aren't accepted here sir\n",
      "User Response: Hmm.. Ok then which currency is accepted then?\n",
      "Manager Response: Only Nepali rupees sir\n",
      "User Response: Hmm... OK then what is the conversion rate?\n",
      "One dollars is equal to: 137\n"
     ]
    },
    {
     "name": "stdout",
     "output_type": "stream",
     "text": [
      "The total amount in Nepali Rupees is: 50005\n"
     ]
    }
   ],
   "source": [
    "import time\n",
    "total_bill = eval(input(\"Enter the total bill in dollars:\"))\n",
    "time.sleep(2)\n",
    "Manager_response = input('Manager Response:')\n",
    "time.sleep(4)\n",
    "User_response = input('User Response:')\n",
    "time.sleep(2.5)\n",
    "Manager_response = input('Manager Response:')\n",
    "time.sleep(5)\n",
    "User_response = input('User Response:')\n",
    "conversion_rate = eval(input(\"One dollars is equal to:\"))\n",
    "total_amount = total_bill * conversion_rate\n",
    "time.sleep(2)\n",
    "print(\"The total amount in Nepali Rupees is:\",total_amount)"
   ]
  },
  {
   "cell_type": "code",
   "execution_count": 43,
   "id": "9a18b8c4-8330-4938-a7ec-e84375ce8fa8",
   "metadata": {},
   "outputs": [],
   "source": [
    "# (8) Father and Son\n",
    "# Father: Which course u wanna do\n",
    "# Son: I want to purse DS course\n",
    "# Father: OH! Nice. But remind me again what was ur gpa?\n",
    "# Son: hehe.... it's only 3.61 ========== User input\n",
    "# Father: How can you pursue the course then?\n",
    "# Son: Well.. My gpa is low so we would have to pay ofc\n",
    "# Father: Which College offers the course?\n",
    "# Son: KU=============================== User input\n",
    "# Father: How many months?\n",
    "# Son: 4=============================== User input\n",
    "# Father: What is the total fee?\n",
    "# Son: 50000=========================== User input\n",
    "# Father: Damn.. Let me think"
   ]
  },
  {
   "cell_type": "code",
   "execution_count": 48,
   "id": "78be29eb-487e-4e88-97ee-3c265c9e836d",
   "metadata": {},
   "outputs": [
    {
     "name": "stdout",
     "output_type": "stream",
     "text": [
      "Father: Which course did you want to do again?\n"
     ]
    },
    {
     "name": "stdin",
     "output_type": "stream",
     "text": [
      "Son: Data Science\n"
     ]
    },
    {
     "name": "stdout",
     "output_type": "stream",
     "text": [
      "Father: Oh! Ok. But remind me again what was ur gpa?\n"
     ]
    },
    {
     "name": "stdin",
     "output_type": "stream",
     "text": [
      "Son: hehe.... it's only 3.61\n"
     ]
    },
    {
     "name": "stdout",
     "output_type": "stream",
     "text": [
      "Father:Hmmm.... SO, how can you pursue the course then?\n"
     ]
    },
    {
     "name": "stdin",
     "output_type": "stream",
     "text": [
      "Son: Payment obviously\n"
     ]
    },
    {
     "name": "stdout",
     "output_type": "stream",
     "text": [
      "Father: Which College offers the course?\n"
     ]
    },
    {
     "name": "stdin",
     "output_type": "stream",
     "text": [
      "Son: KU\n"
     ]
    },
    {
     "name": "stdout",
     "output_type": "stream",
     "text": [
      "Father:So, how many months course is this?\n"
     ]
    },
    {
     "name": "stdin",
     "output_type": "stream",
     "text": [
      "Son: 4 longgg months\n"
     ]
    },
    {
     "name": "stdout",
     "output_type": "stream",
     "text": [
      "Father: Most importantly, what is the total fee?\n"
     ]
    },
    {
     "name": "stdin",
     "output_type": "stream",
     "text": [
      "Son: 50000 rupees\n"
     ]
    },
    {
     "name": "stdout",
     "output_type": "stream",
     "text": [
      "Father: Damn.. Let me think about it.\n"
     ]
    }
   ],
   "source": [
    "import time\n",
    "print(\"Father: Which course did you want to do again?\")\n",
    "input(\"Son:\")\n",
    "time.sleep(2)\n",
    "print(\"Father: Oh! Ok. But remind me again what was ur gpa?\")\n",
    "time.sleep(1.5)\n",
    "input(\"Son:\")\n",
    "time.sleep(3)\n",
    "print(\"Father:Hmmm.... SO, how can you pursue the course then?\")\n",
    "input(\"Son:\")\n",
    "time.sleep(1)\n",
    "print(\"Father: Which College offers the course?\")\n",
    "input(\"Son:\")\n",
    "time.sleep(.5)\n",
    "print(\"Father:So, how many months course is this?\")\n",
    "input(\"Son:\")\n",
    "time.sleep(5)\n",
    "print(\"Father: Most importantly, what is the total fee?\")\n",
    "input(\"Son:\")\n",
    "time.sleep(10)\n",
    "print(\"Father: Damn.. Let me think about it.\")\n",
    "      "
   ]
  },
  {
   "cell_type": "code",
   "execution_count": null,
   "id": "97d70636-127a-4df3-993a-0abbabdefffb",
   "metadata": {},
   "outputs": [],
   "source": []
  }
 ],
 "metadata": {
  "kernelspec": {
   "display_name": "Python [conda env:base] *",
   "language": "python",
   "name": "conda-base-py"
  },
  "language_info": {
   "codemirror_mode": {
    "name": "ipython",
    "version": 3
   },
   "file_extension": ".py",
   "mimetype": "text/x-python",
   "name": "python",
   "nbconvert_exporter": "python",
   "pygments_lexer": "ipython3",
   "version": "3.12.3"
  }
 },
 "nbformat": 4,
 "nbformat_minor": 5
}
