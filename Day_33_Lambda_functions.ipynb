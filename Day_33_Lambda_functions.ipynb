{
 "cells": [
  {
   "cell_type": "code",
   "execution_count": 1,
   "id": "a0852648-ec5b-47e2-a3a6-e84a955e0565",
   "metadata": {},
   "outputs": [],
   "source": [
    "list1 = ['hyd','mumbai','chennai']\n",
    "\n",
    "# output: ['Hyd','Mumbai','Chennai']\n",
    "# M-1 : Use append method\n",
    "# M-2 : Use list Comprehension"
   ]
  },
  {
   "cell_type": "code",
   "execution_count": 2,
   "id": "f76e997d-0791-489e-9c8d-84227cb411f0",
   "metadata": {},
   "outputs": [
    {
     "name": "stdout",
     "output_type": "stream",
     "text": [
      "['Hyd', 'Mumbai', 'Chennai']\n"
     ]
    }
   ],
   "source": [
    "# M-1\n",
    "list2 = []\n",
    "for i in list1:\n",
    "    list2.append(i.capitalize())\n",
    "print(list2)"
   ]
  },
  {
   "cell_type": "code",
   "execution_count": 5,
   "id": "497b5ef5-579d-4a69-9466-29d9c94f77ee",
   "metadata": {},
   "outputs": [
    {
     "data": {
      "text/plain": [
       "['Hyd', 'Mumbai', 'Chennai']"
      ]
     },
     "execution_count": 5,
     "metadata": {},
     "output_type": "execute_result"
    }
   ],
   "source": [
    "# M-2\n",
    "list2 = [i.capitalize() for i in list1]\n",
    "list2"
   ]
  },
  {
   "cell_type": "code",
   "execution_count": 10,
   "id": "4b014d46-1503-4b16-a11e-509b1d172a61",
   "metadata": {},
   "outputs": [
    {
     "data": {
      "text/plain": [
       "(<function __main__.<lambda>(i)>, ['hyd', 'mumbai', 'chennai'])"
      ]
     },
     "execution_count": 10,
     "metadata": {},
     "output_type": "execute_result"
    }
   ],
   "source": [
    "# M-3 : Lambda function\n",
    "# Syntax: lambda <arguments>:<output>,<iterator>\n",
    "\n",
    "lambda i : i.capitalize(),list1"
   ]
  },
  {
   "cell_type": "code",
   "execution_count": null,
   "id": "0f545a98-b4d2-4d92-a92a-f3f339b37490",
   "metadata": {},
   "outputs": [],
   "source": [
    "- now map input and output \n",
    "- we will use map keyword"
   ]
  },
  {
   "cell_type": "code",
   "execution_count": 11,
   "id": "eda387fa-e51a-4e6f-b236-ebd8b8be1ada",
   "metadata": {},
   "outputs": [
    {
     "data": {
      "text/plain": [
       "<map at 0x231b329e200>"
      ]
     },
     "execution_count": 11,
     "metadata": {},
     "output_type": "execute_result"
    }
   ],
   "source": [
    "map(lambda i : i.capitalize(),list1)"
   ]
  },
  {
   "cell_type": "code",
   "execution_count": null,
   "id": "8bb45e55-874f-4d99-bde2-a752f7c376e1",
   "metadata": {},
   "outputs": [],
   "source": [
    "- now store the output"
   ]
  },
  {
   "cell_type": "code",
   "execution_count": 12,
   "id": "1ef68da0-eea9-4917-87a1-0add40037856",
   "metadata": {},
   "outputs": [
    {
     "data": {
      "text/plain": [
       "['Hyd', 'Mumbai', 'Chennai']"
      ]
     },
     "execution_count": 12,
     "metadata": {},
     "output_type": "execute_result"
    }
   ],
   "source": [
    "list(map(lambda i : i.capitalize(),list1))"
   ]
  },
  {
   "cell_type": "code",
   "execution_count": 13,
   "id": "34b8ec57-ac11-4b4e-9db8-2253b6cbff99",
   "metadata": {},
   "outputs": [
    {
     "data": {
      "text/plain": [
       "['Hyd', 'Mumbai', 'Chennai']"
      ]
     },
     "execution_count": 13,
     "metadata": {},
     "output_type": "execute_result"
    }
   ],
   "source": [
    "lambda i : i.capitalize(),list1\n",
    "map(lambda i : i.capitalize(),list1)\n",
    "list(map(lambda i : i.capitalize(),list1))"
   ]
  },
  {
   "cell_type": "code",
   "execution_count": 14,
   "id": "9daedb47-7f0b-4522-9373-555401112731",
   "metadata": {},
   "outputs": [],
   "source": [
    "list2 = [1,2,3,4,5]\n",
    "# output: [1,4,9,16,25]"
   ]
  },
  {
   "cell_type": "code",
   "execution_count": 19,
   "id": "00474719-5856-46ca-8f99-f8cab14e2888",
   "metadata": {},
   "outputs": [
    {
     "data": {
      "text/plain": [
       "[1, 4, 9, 16, 25]"
      ]
     },
     "execution_count": 19,
     "metadata": {},
     "output_type": "execute_result"
    }
   ],
   "source": [
    "list(map(lambda i : i*i,list2))"
   ]
  },
  {
   "cell_type": "code",
   "execution_count": 21,
   "id": "61e2a1cc-5c69-4e0f-b817-3cf23512331c",
   "metadata": {},
   "outputs": [],
   "source": [
    "list1 = [1,2,3]\n",
    "list2 = [11,22,33]\n",
    "# output: [12,24,36]|"
   ]
  },
  {
   "cell_type": "code",
   "execution_count": 26,
   "id": "1298592a-1e1b-4c42-b7fc-d8e9addc0bf5",
   "metadata": {},
   "outputs": [
    {
     "name": "stdout",
     "output_type": "stream",
     "text": [
      "12\n",
      "24\n",
      "36\n"
     ]
    }
   ],
   "source": [
    "for i,j in zip(list1,list2):\n",
    "    print(i+j)"
   ]
  },
  {
   "cell_type": "code",
   "execution_count": 27,
   "id": "dc77d57f-00a4-402a-9796-a4be5a0b06da",
   "metadata": {},
   "outputs": [
    {
     "data": {
      "text/plain": [
       "[12, 24, 36]"
      ]
     },
     "execution_count": 27,
     "metadata": {},
     "output_type": "execute_result"
    }
   ],
   "source": [
    "list(map(lambda i,j:i+j,list1,list2))"
   ]
  },
  {
   "cell_type": "code",
   "execution_count": 28,
   "id": "3842fb27-d605-4b47-9c92-75bc40b17c47",
   "metadata": {},
   "outputs": [
    {
     "data": {
      "text/plain": [
       "(12, 24, 36)"
      ]
     },
     "execution_count": 28,
     "metadata": {},
     "output_type": "execute_result"
    }
   ],
   "source": [
    "tuple(map(lambda i,j:i+j,list1,list2))"
   ]
  },
  {
   "cell_type": "code",
   "execution_count": 29,
   "id": "d5ff5f21-b9f0-4d9a-9d70-68ceb77ff422",
   "metadata": {},
   "outputs": [
    {
     "data": {
      "text/plain": [
       "'<map object at 0x00000231B50EBF10>'"
      ]
     },
     "execution_count": 29,
     "metadata": {},
     "output_type": "execute_result"
    }
   ],
   "source": [
    "str(map(lambda i,j:i+j,list1,list2))"
   ]
  },
  {
   "cell_type": "code",
   "execution_count": 30,
   "id": "86151041-9e06-49eb-bf5d-43e1a2e26af2",
   "metadata": {},
   "outputs": [],
   "source": [
    "list1 = ['h#d','mum#bai','chennai']\n",
    "# output: ['h#d','mum#bai']"
   ]
  },
  {
   "cell_type": "code",
   "execution_count": 31,
   "id": "a2977600-3c5d-4480-98b1-2de23ed20b6a",
   "metadata": {},
   "outputs": [
    {
     "data": {
      "text/plain": [
       "['h#d', 'mum#bai']"
      ]
     },
     "execution_count": 31,
     "metadata": {},
     "output_type": "execute_result"
    }
   ],
   "source": [
    "list2 = []\n",
    "for i in list1:\n",
    "    if '#' in i:\n",
    "        list2.append(i)\n",
    "list2"
   ]
  },
  {
   "cell_type": "code",
   "execution_count": 37,
   "id": "ef976492-37a5-4085-ba87-77467552f1af",
   "metadata": {},
   "outputs": [
    {
     "data": {
      "text/plain": [
       "['h#d', 'mum#bai']"
      ]
     },
     "execution_count": 37,
     "metadata": {},
     "output_type": "execute_result"
    }
   ],
   "source": [
    "[i for i in list1 if '#' in i] #list_comprehension"
   ]
  },
  {
   "cell_type": "code",
   "execution_count": 35,
   "id": "e7790268-c58f-4480-9bc4-0e458c65b5be",
   "metadata": {},
   "outputs": [
    {
     "ename": "SyntaxError",
     "evalue": "expected 'else' after 'if' expression (1021116364.py, line 1)",
     "output_type": "error",
     "traceback": [
      "\u001b[1;36m  Cell \u001b[1;32mIn[35], line 1\u001b[1;36m\u001b[0m\n\u001b[1;33m    list(map(lambda i: i if '#' in i,list1))    #Wronggg\u001b[0m\n\u001b[1;37m                       ^\u001b[0m\n\u001b[1;31mSyntaxError\u001b[0m\u001b[1;31m:\u001b[0m expected 'else' after 'if' expression\n"
     ]
    }
   ],
   "source": [
    "list(map(lambda i: i if '#' in i,list1))    #Wronggg"
   ]
  },
  {
   "cell_type": "code",
   "execution_count": 40,
   "id": "edf1e106-f681-48fb-a433-39ce3244255f",
   "metadata": {},
   "outputs": [
    {
     "data": {
      "text/plain": [
       "[True, True, False]"
      ]
     },
     "execution_count": 40,
     "metadata": {},
     "output_type": "execute_result"
    }
   ],
   "source": [
    "list(map(lambda i:'#' in i,list1))"
   ]
  },
  {
   "cell_type": "code",
   "execution_count": 42,
   "id": "52e1f279-8c43-4840-ab35-360f4f8d0b99",
   "metadata": {},
   "outputs": [
    {
     "data": {
      "text/plain": [
       "['h#d', 'mum#bai']"
      ]
     },
     "execution_count": 42,
     "metadata": {},
     "output_type": "execute_result"
    }
   ],
   "source": [
    "list(filter(lambda i:'#' in i,list1))"
   ]
  },
  {
   "cell_type": "code",
   "execution_count": null,
   "id": "a316c1a2-a6a2-48fa-91fd-c9871f82d1a4",
   "metadata": {},
   "outputs": [],
   "source": []
  },
  {
   "cell_type": "code",
   "execution_count": null,
   "id": "34354439-12a2-4f21-bdc6-949b11d87ee4",
   "metadata": {},
   "outputs": [],
   "source": []
  },
  {
   "cell_type": "code",
   "execution_count": null,
   "id": "4d56c416-d69f-4c7f-b7f8-81fc2e1dc23d",
   "metadata": {},
   "outputs": [],
   "source": []
  },
  {
   "cell_type": "code",
   "execution_count": null,
   "id": "6c5e9698-6404-4125-8c9f-37640c702057",
   "metadata": {},
   "outputs": [],
   "source": []
  },
  {
   "cell_type": "code",
   "execution_count": null,
   "id": "10691b9b-dfbb-476a-bc39-1138bb594b96",
   "metadata": {},
   "outputs": [],
   "source": []
  },
  {
   "cell_type": "code",
   "execution_count": null,
   "id": "80555b3c-c506-4d95-b0ca-0e28ecc81430",
   "metadata": {},
   "outputs": [],
   "source": []
  },
  {
   "cell_type": "code",
   "execution_count": null,
   "id": "7bc7967e-852c-4b24-98eb-ac70eade9205",
   "metadata": {},
   "outputs": [],
   "source": []
  }
 ],
 "metadata": {
  "kernelspec": {
   "display_name": "Python [conda env:base] *",
   "language": "python",
   "name": "conda-base-py"
  },
  "language_info": {
   "codemirror_mode": {
    "name": "ipython",
    "version": 3
   },
   "file_extension": ".py",
   "mimetype": "text/x-python",
   "name": "python",
   "nbconvert_exporter": "python",
   "pygments_lexer": "ipython3",
   "version": "3.12.3"
  }
 },
 "nbformat": 4,
 "nbformat_minor": 5
}
