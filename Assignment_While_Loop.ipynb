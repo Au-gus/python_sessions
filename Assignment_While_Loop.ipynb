{
 "cells": [
  {
   "cell_type": "code",
   "execution_count": 10,
   "id": "5b9470e8-3624-4ef7-b2b5-f59fd7ac62cd",
   "metadata": {},
   "outputs": [
    {
     "name": "stdin",
     "output_type": "stream",
     "text": [
      "Enter your guessed number: 5\n"
     ]
    },
    {
     "name": "stdout",
     "output_type": "stream",
     "text": [
      "Come On! You Suck\n"
     ]
    },
    {
     "name": "stdin",
     "output_type": "stream",
     "text": [
      "Enter your guessed number: 3\n"
     ]
    },
    {
     "name": "stdout",
     "output_type": "stream",
     "text": [
      "Come On! You Suck\n"
     ]
    },
    {
     "name": "stdin",
     "output_type": "stream",
     "text": [
      "Enter your guessed number: 8\n"
     ]
    },
    {
     "name": "stdout",
     "output_type": "stream",
     "text": [
      "Come On! You Suck\n"
     ]
    },
    {
     "name": "stdin",
     "output_type": "stream",
     "text": [
      "Enter your guessed number: 6\n"
     ]
    },
    {
     "name": "stdout",
     "output_type": "stream",
     "text": [
      "You got it! Nice\n"
     ]
    }
   ],
   "source": [
    "import random\n",
    "i = 0\n",
    "a = random.randint(0,9)\n",
    "while i<5:\n",
    "    b = eval(input(\"Enter your guessed number:\"))\n",
    "    if ( a == b ):\n",
    "        print(\"You got it! Nice\")\n",
    "        break\n",
    "    else:\n",
    "        print(\"Come On! You Suck\")\n",
    "    i = i + 1"
   ]
  },
  {
   "cell_type": "code",
   "execution_count": 12,
   "id": "233a3cca-edcb-4cb6-9032-da099960a97b",
   "metadata": {},
   "outputs": [
    {
     "name": "stdin",
     "output_type": "stream",
     "text": [
      "Enter your guessed number: 5\n"
     ]
    },
    {
     "name": "stdout",
     "output_type": "stream",
     "text": [
      "Too Low\n",
      "Come On! You Suck\n",
      "You have 3 more attempts\n"
     ]
    },
    {
     "name": "stdin",
     "output_type": "stream",
     "text": [
      "Enter your guessed number: 7\n"
     ]
    },
    {
     "name": "stdout",
     "output_type": "stream",
     "text": [
      "You got it! Nice\n"
     ]
    }
   ],
   "source": [
    "import random\n",
    "i = 0\n",
    "a = random.randint(0,9)\n",
    "while i<4:\n",
    "    b = eval(input(\"Enter your guessed number:\"))\n",
    "    if ( a == b ):\n",
    "        print(\"You got it! Nice\")\n",
    "        break\n",
    "    else:\n",
    "        if (a>b):\n",
    "            print(\"Too Low\")\n",
    "        else:\n",
    "            print(\"Too High\")\n",
    "        print(\"Come On! You Suck\")\n",
    "        print(\"You have {} more attempts\".format(3-i))\n",
    "        if(3-i == 0):\n",
    "            print(\"Sorry! You lost\")\n",
    "    i = i + 1"
   ]
  },
  {
   "cell_type": "code",
   "execution_count": 20,
   "id": "372c79e5-4398-4f18-a50f-6b5382877f5f",
   "metadata": {},
   "outputs": [
    {
     "name": "stdout",
     "output_type": "stream",
     "text": [
      "You have Rs.1000 with you..\n"
     ]
    },
    {
     "name": "stdin",
     "output_type": "stream",
     "text": [
      "Number of chances: 4\n",
      "Guess a number: 5\n"
     ]
    },
    {
     "name": "stdout",
     "output_type": "stream",
     "text": [
      "Too High\n",
      "You Suck\n"
     ]
    },
    {
     "name": "stdin",
     "output_type": "stream",
     "text": [
      "Guess a number: 2\n"
     ]
    },
    {
     "name": "stdout",
     "output_type": "stream",
     "text": [
      "Too Low\n",
      "You Suck\n"
     ]
    },
    {
     "name": "stdin",
     "output_type": "stream",
     "text": [
      "Guess a number: 3\n"
     ]
    },
    {
     "name": "stdout",
     "output_type": "stream",
     "text": [
      "Good Guess\n",
      "You just won Rs.1000\n"
     ]
    }
   ],
   "source": [
    "import random\n",
    "m = print(\"You have Rs.1000 with you..\")\n",
    "i = 0\n",
    "c = eval(input(\"Number of chances:\"))\n",
    "a = random.randint(0,9)\n",
    "while (i<4):\n",
    "    b = eval(input(\"Guess a number:\"))\n",
    "    if a==b:\n",
    "        print(\"Good Guess\")\n",
    "        if (c-1-i == 2):\n",
    "            print(\"You just won Rs.5000\")\n",
    "            break\n",
    "        elif (c-1-i == 1):\n",
    "            print(\"You just won Rs.1000\")\n",
    "            break\n",
    "    else:\n",
    "        if a>b:\n",
    "            print(\"Too Low\")\n",
    "        else:\n",
    "            print(\"Too High\")\n",
    "        print(\"You Suck\")\n",
    "        if (c-1-i == 0):\n",
    "            print(\"You just lost Rs.500\")\n",
    "    i = i + 1"
   ]
  },
  {
   "cell_type": "code",
   "execution_count": 8,
   "id": "dcd730be-c232-463a-8b40-cee51ad71ab0",
   "metadata": {},
   "outputs": [
    {
     "name": "stdin",
     "output_type": "stream",
     "text": [
      "Enter the amount of money you have: 30\n",
      "Enter the amount of money you have on e_wallet: 30\n"
     ]
    },
    {
     "name": "stdout",
     "output_type": "stream",
     "text": [
      "You don't have enough money\n",
      "Withdraw money from your e-wallet to reach Rs.1000\n",
      "Not enough money in e-wallet.\n",
      "You have withdrawn Rs.970\n",
      "Now you have Rs.1000.00\n"
     ]
    },
    {
     "ename": "KeyboardInterrupt",
     "evalue": "Interrupted by user",
     "output_type": "error",
     "traceback": [
      "\u001b[1;31m---------------------------------------------------------------------------\u001b[0m",
      "\u001b[1;31mKeyboardInterrupt\u001b[0m                         Traceback (most recent call last)",
      "Cell \u001b[1;32mIn[8], line 18\u001b[0m\n\u001b[0;32m     15\u001b[0m     \u001b[38;5;28mprint\u001b[39m(\u001b[38;5;124m\"\u001b[39m\u001b[38;5;124mYou already have enough money.\u001b[39m\u001b[38;5;124m\"\u001b[39m)\n\u001b[0;32m     17\u001b[0m \u001b[38;5;28mprint\u001b[39m(\u001b[38;5;124m\"\u001b[39m\u001b[38;5;124mNow you have Rs.\u001b[39m\u001b[38;5;132;01m{:.2f}\u001b[39;00m\u001b[38;5;124m\"\u001b[39m\u001b[38;5;241m.\u001b[39mformat(m))\n\u001b[1;32m---> 18\u001b[0m c \u001b[38;5;241m=\u001b[39m \u001b[38;5;28meval\u001b[39m(\u001b[38;5;28minput\u001b[39m(\u001b[38;5;124m\"\u001b[39m\u001b[38;5;124mNumber of chances:\u001b[39m\u001b[38;5;124m\"\u001b[39m))\n\u001b[0;32m     19\u001b[0m a \u001b[38;5;241m=\u001b[39m random\u001b[38;5;241m.\u001b[39mrandint(\u001b[38;5;241m0\u001b[39m,\u001b[38;5;241m9\u001b[39m)\n\u001b[0;32m     20\u001b[0m \u001b[38;5;28;01mwhile\u001b[39;00m (i\u001b[38;5;241m<\u001b[39m\u001b[38;5;241m4\u001b[39m):\n",
      "File \u001b[1;32m~\\Anaconda\\Lib\\site-packages\\ipykernel\\kernelbase.py:1262\u001b[0m, in \u001b[0;36mKernel.raw_input\u001b[1;34m(self, prompt)\u001b[0m\n\u001b[0;32m   1260\u001b[0m     msg \u001b[38;5;241m=\u001b[39m \u001b[38;5;124m\"\u001b[39m\u001b[38;5;124mraw_input was called, but this frontend does not support input requests.\u001b[39m\u001b[38;5;124m\"\u001b[39m\n\u001b[0;32m   1261\u001b[0m     \u001b[38;5;28;01mraise\u001b[39;00m StdinNotImplementedError(msg)\n\u001b[1;32m-> 1262\u001b[0m \u001b[38;5;28;01mreturn\u001b[39;00m \u001b[38;5;28mself\u001b[39m\u001b[38;5;241m.\u001b[39m_input_request(\n\u001b[0;32m   1263\u001b[0m     \u001b[38;5;28mstr\u001b[39m(prompt),\n\u001b[0;32m   1264\u001b[0m     \u001b[38;5;28mself\u001b[39m\u001b[38;5;241m.\u001b[39m_parent_ident[\u001b[38;5;124m\"\u001b[39m\u001b[38;5;124mshell\u001b[39m\u001b[38;5;124m\"\u001b[39m],\n\u001b[0;32m   1265\u001b[0m     \u001b[38;5;28mself\u001b[39m\u001b[38;5;241m.\u001b[39mget_parent(\u001b[38;5;124m\"\u001b[39m\u001b[38;5;124mshell\u001b[39m\u001b[38;5;124m\"\u001b[39m),\n\u001b[0;32m   1266\u001b[0m     password\u001b[38;5;241m=\u001b[39m\u001b[38;5;28;01mFalse\u001b[39;00m,\n\u001b[0;32m   1267\u001b[0m )\n",
      "File \u001b[1;32m~\\Anaconda\\Lib\\site-packages\\ipykernel\\kernelbase.py:1305\u001b[0m, in \u001b[0;36mKernel._input_request\u001b[1;34m(self, prompt, ident, parent, password)\u001b[0m\n\u001b[0;32m   1302\u001b[0m \u001b[38;5;28;01mexcept\u001b[39;00m \u001b[38;5;167;01mKeyboardInterrupt\u001b[39;00m:\n\u001b[0;32m   1303\u001b[0m     \u001b[38;5;66;03m# re-raise KeyboardInterrupt, to truncate traceback\u001b[39;00m\n\u001b[0;32m   1304\u001b[0m     msg \u001b[38;5;241m=\u001b[39m \u001b[38;5;124m\"\u001b[39m\u001b[38;5;124mInterrupted by user\u001b[39m\u001b[38;5;124m\"\u001b[39m\n\u001b[1;32m-> 1305\u001b[0m     \u001b[38;5;28;01mraise\u001b[39;00m \u001b[38;5;167;01mKeyboardInterrupt\u001b[39;00m(msg) \u001b[38;5;28;01mfrom\u001b[39;00m \u001b[38;5;28;01mNone\u001b[39;00m\n\u001b[0;32m   1306\u001b[0m \u001b[38;5;28;01mexcept\u001b[39;00m \u001b[38;5;167;01mException\u001b[39;00m:\n\u001b[0;32m   1307\u001b[0m     \u001b[38;5;28mself\u001b[39m\u001b[38;5;241m.\u001b[39mlog\u001b[38;5;241m.\u001b[39mwarning(\u001b[38;5;124m\"\u001b[39m\u001b[38;5;124mInvalid Message:\u001b[39m\u001b[38;5;124m\"\u001b[39m, exc_info\u001b[38;5;241m=\u001b[39m\u001b[38;5;28;01mTrue\u001b[39;00m)\n",
      "\u001b[1;31mKeyboardInterrupt\u001b[0m: Interrupted by user"
     ]
    }
   ],
   "source": [
    "import random\n",
    "i = 0\n",
    "m = eval(input(\"Enter the amount of money you have:\"))\n",
    "m_e = eval(input(\"Enter the amount of money you have on e_wallet:\"))\n",
    "if (m<1000):\n",
    "    print(\"You don't have enough money\")\n",
    "    print(\"Withdraw money from your e-wallet to reach Rs.1000\")\n",
    "    r_m = 1000 - m\n",
    "    if r_m > m_e:\n",
    "        print(\"Not enough money in e-wallet.\") \n",
    "    w_m = r_m\n",
    "    print(\"You have withdrawn Rs.{}\".format(w_m))\n",
    "    m += w_m\n",
    "else:\n",
    "    print(\"You already have enough money.\")\n",
    "\n",
    "print(\"Now you have Rs.{:.2f}\".format(m))\n",
    "c = eval(input(\"Number of chances:\"))\n",
    "a = random.randint(0,9)\n",
    "while (i<4):\n",
    "    b = eval(input(\"Guess a number:\"))\n",
    "    if a==b:\n",
    "        print(\"Good Guess\")\n",
    "        if (c-1-i == 2):\n",
    "            print(\"You just won Rs.5000\")\n",
    "            break\n",
    "        elif (c-1-i == 1):\n",
    "            print(\"You just won Rs.1000\")\n",
    "            break\n",
    "    else:\n",
    "        if a>b:\n",
    "            print(\"Too Low\")\n",
    "        else:\n",
    "            print(\"Too High\")\n",
    "        print(\"You Suck\")\n",
    "        if (c-1-i == 0):\n",
    "            print(\"You just lost Rs.500\")\n",
    "    i = i + 1"
   ]
  },
  {
   "cell_type": "code",
   "execution_count": 1,
   "id": "774511d6-c137-4330-b58e-4b7d7a820645",
   "metadata": {},
   "outputs": [
    {
     "name": "stdin",
     "output_type": "stream",
     "text": [
      "Enter the amount of money you have:  300\n",
      "Enter the amount in your e-wallet:  70\n"
     ]
    },
    {
     "name": "stdout",
     "output_type": "stream",
     "text": [
      "You don't have enough money.\n",
      "Not enough money in your e-wallet to reach Rs.1000.\n",
      "You need Rs.700.0, but only have Rs.70.0 in your e-wallet.\n",
      "Sorry, you can't proceed.\n",
      "Now you have Rs.300.00\n",
      "Game ended due to insufficient funds.\n"
     ]
    }
   ],
   "source": [
    "import random\n",
    "\n",
    "# Step 1: Ask for money and e-wallet balance\n",
    "m = float(input(\"Enter the amount of money you have: \"))\n",
    "m_e = float(input(\"Enter the amount in your e-wallet: \"))\n",
    "\n",
    "# Step 2: Calculate how much more is needed\n",
    "if m < 1000:\n",
    "    print(\"You don't have enough money.\")\n",
    "    r_m = 1000 - m\n",
    "\n",
    "    if r_m > m_e:\n",
    "        print(\"Not enough money in your e-wallet to reach Rs.1000.\")\n",
    "        print(\"You need Rs.{}, but only have Rs.{} in your e-wallet.\".format(r_m, m_e))\n",
    "        print(\"Sorry, you can't proceed.\")\n",
    "        can_play = False\n",
    "    else:\n",
    "        # Withdraw from e-wallet\n",
    "        w_m = r_m\n",
    "        m += w_m\n",
    "        m_e -= w_m\n",
    "        print(\"You have withdrawn Rs.{} from your e-wallet.\".format(w_m))\n",
    "        can_play = True\n",
    "else:\n",
    "    print(\"You already have enough money.\")\n",
    "    can_play = True\n",
    "\n",
    "print(\"Now you have Rs.{:.2f}\".format(m))\n",
    "\n",
    "# Step 3: Only continue if user has enough money\n",
    "if can_play:\n",
    "    c = int(input(\"Enter the number of chances (max 4): \"))\n",
    "    c = min(c, 4)\n",
    "\n",
    "    secret = random.randint(0, 9)\n",
    "    i = 0\n",
    "\n",
    "    while i < c:\n",
    "        try:\n",
    "            guess = int(input(\"Guess a number between 0 and 9: \"))\n",
    "        except ValueError:\n",
    "            print(\"Invalid input. Please enter a valid number.\")\n",
    "            continue\n",
    "\n",
    "        if guess == secret:\n",
    "            print(\"Good Guess!\")\n",
    "            remaining = c - 1 - i\n",
    "            if remaining == 2:\n",
    "                print(\"You just won Rs.5000!\")\n",
    "            elif remaining == 1:\n",
    "                print(\"You just won Rs.1000!\")\n",
    "            break\n",
    "        else:\n",
    "            print(\"Too Low.\" if guess < secret else \"Too High.\")\n",
    "            print(\"Try again.\")\n",
    "            if c - 1 - i == 0:\n",
    "                print(\"You just lost Rs.500.\")\n",
    "        i += 1\n",
    "else:\n",
    "    print(\"Game ended due to insufficient funds.\")\n"
   ]
  },
  {
   "cell_type": "code",
   "execution_count": 9,
   "id": "5e9dc988-8411-4ad7-af3f-8c4ce1c93937",
   "metadata": {},
   "outputs": [
    {
     "name": "stdin",
     "output_type": "stream",
     "text": [
      "Enter the amount of money you have:  30\n",
      "Enter the amount of money you have on e-wallet:  30\n"
     ]
    },
    {
     "name": "stdout",
     "output_type": "stream",
     "text": [
      "You don't have enough money.\n",
      "Withdraw money from your e-wallet to reach Rs.1000.\n",
      "Not enough money in e-wallet.\n",
      "Game cannot continue.\n"
     ]
    }
   ],
   "source": [
    "import random\n",
    "\n",
    "i = 0\n",
    "m = int(input(\"Enter the amount of money you have: \"))\n",
    "m_e = int(input(\"Enter the amount of money you have on e-wallet: \"))\n",
    "\n",
    "if m < 1000:\n",
    "    print(\"You don't have enough money.\")\n",
    "    print(\"Withdraw money from your e-wallet to reach Rs.1000.\")\n",
    "    r_m = 1000 - m\n",
    "\n",
    "    if r_m > m_e:\n",
    "        print(\"Not enough money in e-wallet.\")\n",
    "        print(\"Game cannot continue.\")\n",
    "    else:\n",
    "        w_m = r_m\n",
    "        print(\"You have withdrawn Rs.{}\".format(w_m))\n",
    "        m += w_m\n",
    "        print(\"Now you have Rs.{:.2f}\".format(m))\n",
    "\n",
    "        c = int(input(\"Number of chances (max 4): \"))\n",
    "        c = min(c, 4)\n",
    "\n",
    "        a = random.randint(0, 9)\n",
    "\n",
    "        while i < c:\n",
    "            b = int(input(\"Guess a number between 0 and 9: \"))\n",
    "            if a == b:\n",
    "                print(\"Good Guess!\")\n",
    "                if c - 1 - i == 2:\n",
    "                    print(\"You just won Rs.5000!\")\n",
    "                    break\n",
    "                elif c - 1 - i == 1:\n",
    "                    print(\"You just won Rs.1000!\")\n",
    "                    break\n",
    "                else:\n",
    "                    print(\"You won, but no bonus this time.\")\n",
    "                    break\n",
    "            else:\n",
    "                if a > b:\n",
    "                    print(\"Too Low\")\n",
    "                else:\n",
    "                    print(\"Too High\")\n",
    "                print(\"Better luck next time!\")\n",
    "                if c - 1 - i == 0:\n",
    "                    print(\"You just lost Rs.500.\")\n",
    "            i += 1\n",
    "else:\n",
    "    print(\"You already have enough money.\")\n",
    "    print(\"Now you have Rs.{:.2f}\".format(m))\n",
    "\n",
    "    c = int(input(\"Number of chances (max 4): \"))\n",
    "    c = min(c, 4)\n",
    "\n",
    "    a = random.randint(0, 9)\n",
    "\n",
    "    while i < c:\n",
    "        b = int(input(\"Guess a number between 0 and 9: \"))\n",
    "        if a == b:\n",
    "            print(\"Good Guess!\")\n",
    "            if c - 1 - i == 2:\n",
    "                print(\"You just won Rs.5000!\")\n",
    "                break\n",
    "            elif c - 1 - i == 1:\n",
    "                print(\"You just won Rs.1000!\")\n",
    "                break\n",
    "            else:\n",
    "                print(\"You won, but no bonus this time.\")\n",
    "                break\n",
    "        else:\n",
    "            if a > b:\n",
    "                print(\"Too Low\")\n",
    "            else:\n",
    "                print(\"Too High\")\n",
    "            print(\"Better luck next time!\")\n",
    "            if c - 1 - i == 0:\n",
    "                print(\"You just lost Rs.500.\")\n",
    "        i += 1\n"
   ]
  },
  {
   "cell_type": "code",
   "execution_count": null,
   "id": "457bbaac-3855-4eba-8973-34bcb9080dcc",
   "metadata": {},
   "outputs": [],
   "source": []
  },
  {
   "cell_type": "code",
   "execution_count": null,
   "id": "bc07b035-5bd1-4145-9d89-e34e01981019",
   "metadata": {},
   "outputs": [],
   "source": []
  },
  {
   "cell_type": "code",
   "execution_count": null,
   "id": "8468a962-d2e1-4664-a957-e83108444f1f",
   "metadata": {},
   "outputs": [],
   "source": []
  },
  {
   "cell_type": "code",
   "execution_count": null,
   "id": "85d31c7c-55c0-47e2-addd-dc525264842b",
   "metadata": {},
   "outputs": [],
   "source": []
  },
  {
   "cell_type": "code",
   "execution_count": null,
   "id": "3ddca704-9eae-4e02-ac87-8d8296f194ee",
   "metadata": {},
   "outputs": [],
   "source": []
  },
  {
   "cell_type": "code",
   "execution_count": null,
   "id": "c7589a2a-4f79-4aba-89f7-6f12028722d5",
   "metadata": {},
   "outputs": [],
   "source": []
  }
 ],
 "metadata": {
  "kernelspec": {
   "display_name": "Python [conda env:base] *",
   "language": "python",
   "name": "conda-base-py"
  },
  "language_info": {
   "codemirror_mode": {
    "name": "ipython",
    "version": 3
   },
   "file_extension": ".py",
   "mimetype": "text/x-python",
   "name": "python",
   "nbconvert_exporter": "python",
   "pygments_lexer": "ipython3",
   "version": "3.12.3"
  }
 },
 "nbformat": 4,
 "nbformat_minor": 5
}
