{
 "cells": [
  {
   "cell_type": "markdown",
   "id": "3175360a-7e67-4b1b-800f-4e744f9002cd",
   "metadata": {},
   "source": [
    "$Append$"
   ]
  },
  {
   "cell_type": "code",
   "execution_count": 3,
   "id": "df2ad0a4-1f17-492b-9b58-8c11618d464d",
   "metadata": {},
   "outputs": [
    {
     "data": {
      "text/plain": [
       "[100, 200, 300]"
      ]
     },
     "execution_count": 3,
     "metadata": {},
     "output_type": "execute_result"
    }
   ],
   "source": [
    "# add sth to the end of documents\n",
    "\n",
    "list1=[100,200]\n",
    "list1.append(300)\n",
    "list1"
   ]
  },
  {
   "cell_type": "code",
   "execution_count": 5,
   "id": "d6805153-7fa6-4f83-baa6-63057afdc42e",
   "metadata": {},
   "outputs": [
    {
     "data": {
      "text/plain": [
       "[100, 200, 300]"
      ]
     },
     "execution_count": 5,
     "metadata": {},
     "output_type": "execute_result"
    }
   ],
   "source": [
    "list1=[]\n",
    "list1.append(100)\n",
    "list1.append(200)\n",
    "list1.append(300)\n",
    "list1"
   ]
  },
  {
   "cell_type": "code",
   "execution_count": 6,
   "id": "5b5f534e-2e11-4ef5-b607-2502aeb7ed22",
   "metadata": {},
   "outputs": [
    {
     "ename": "TypeError",
     "evalue": "list.append() takes exactly one argument (2 given)",
     "output_type": "error",
     "traceback": [
      "\u001b[1;31m---------------------------------------------------------------------------\u001b[0m",
      "\u001b[1;31mTypeError\u001b[0m                                 Traceback (most recent call last)",
      "Cell \u001b[1;32mIn[6], line 1\u001b[0m\n\u001b[1;32m----> 1\u001b[0m list1\u001b[38;5;241m.\u001b[39mappend(\u001b[38;5;241m100\u001b[39m,\u001b[38;5;241m200\u001b[39m)\n",
      "\u001b[1;31mTypeError\u001b[0m: list.append() takes exactly one argument (2 given)"
     ]
    }
   ],
   "source": [
    "list1.append(100,200)"
   ]
  },
  {
   "cell_type": "code",
   "execution_count": 7,
   "id": "19c358b2-e214-4811-9ccf-be49bfa734fb",
   "metadata": {},
   "outputs": [],
   "source": [
    "list1.append([100,200])"
   ]
  },
  {
   "cell_type": "code",
   "execution_count": 8,
   "id": "7e38a27e-11dd-4763-8d15-5bd5eacb5e7c",
   "metadata": {},
   "outputs": [
    {
     "data": {
      "text/plain": [
       "[100, 200, 300, [100, 200]]"
      ]
     },
     "execution_count": 8,
     "metadata": {},
     "output_type": "execute_result"
    }
   ],
   "source": [
    "list1"
   ]
  },
  {
   "cell_type": "code",
   "execution_count": 9,
   "id": "f2727ae2-9c72-43d1-a9fd-c6acdeab7fff",
   "metadata": {},
   "outputs": [],
   "source": [
    "list1.append('apple')"
   ]
  },
  {
   "cell_type": "code",
   "execution_count": 10,
   "id": "938cbcff-e7c8-4446-bc4e-e4fee597fee6",
   "metadata": {},
   "outputs": [
    {
     "data": {
      "text/plain": [
       "[100, 200, 300, [100, 200], 'apple']"
      ]
     },
     "execution_count": 10,
     "metadata": {},
     "output_type": "execute_result"
    }
   ],
   "source": [
    "list1"
   ]
  },
  {
   "cell_type": "code",
   "execution_count": 73,
   "id": "999adbed-22ce-4708-8fe0-0ea148e948d7",
   "metadata": {},
   "outputs": [
    {
     "name": "stdout",
     "output_type": "stream",
     "text": [
      "[1, 4, 9, 16, 25]\n",
      "[1, 4, 9, 16, 25]\n"
     ]
    }
   ],
   "source": [
    "list1 = [1,2,3,4,5]\n",
    "output=[]\n",
    "for i in list1:\n",
    "    output.append(i*i)\n",
    "print(output)\n",
    "output1 = [i*i for i in list1]\n",
    "print(output1)"
   ]
  },
  {
   "cell_type": "code",
   "execution_count": 75,
   "id": "8cdf44ea-0ca2-4a82-a66a-77d7ddf6f5fa",
   "metadata": {},
   "outputs": [
    {
     "name": "stdout",
     "output_type": "stream",
     "text": [
      "['Hyd', 'Bengaluru', 'Dehli']\n",
      "['Hyd', 'Bengaluru', 'Dehli']\n"
     ]
    }
   ],
   "source": [
    "list2 = ['hyd','bengaluru','dehli']\n",
    "# output = ['Hyd','Bengaluru','Dehli']\n",
    "output = []\n",
    "for i in list2:\n",
    "    output.append(i.capitalize())\n",
    "print(output)\n",
    "output1 = [i.capitalize() for i in list2]\n",
    "print(output1)"
   ]
  },
  {
   "cell_type": "code",
   "execution_count": 67,
   "id": "009f0ad2-0b49-4975-8c31-b65e0b1d1bf1",
   "metadata": {},
   "outputs": [
    {
     "name": "stdout",
     "output_type": "stream",
     "text": [
      "h#d\n",
      "beng#luru\n"
     ]
    },
    {
     "data": {
      "text/plain": [
       "['h#d', 'beng#luru']"
      ]
     },
     "execution_count": 67,
     "metadata": {},
     "output_type": "execute_result"
    }
   ],
   "source": [
    "list3 = ['h#d','beng#luru','delhi']\n",
    "# output = ['h#d','beng#luru']\n",
    "output = []\n",
    "for i in list3:\n",
    "    if '#' in i:\n",
    "        print(i)\n",
    "        output.append(i)\n",
    "output"
   ]
  },
  {
   "cell_type": "markdown",
   "id": "a44d075d-4ec5-4533-927a-3f106d8d80be",
   "metadata": {},
   "source": [
    "$List Comprehension$\n"
   ]
  },
  {
   "cell_type": "code",
   "execution_count": null,
   "id": "efe7248d-076d-40b1-a15f-6468dc111ef1",
   "metadata": {},
   "outputs": [],
   "source": [
    "- [ <o/p> <forloop> <if_condition>]"
   ]
  },
  {
   "cell_type": "code",
   "execution_count": 87,
   "id": "abe32e2c-269b-4dd1-8374-a3d46dbabf96",
   "metadata": {},
   "outputs": [
    {
     "name": "stdout",
     "output_type": "stream",
     "text": [
      "[1, 4, 9, 16, 25]\n"
     ]
    }
   ],
   "source": [
    "list1 = [1,2,3,4,5]\n",
    "\n",
    "output1 = [i*i for i in list1]\n",
    "print(output1)"
   ]
  },
  {
   "cell_type": "code",
   "execution_count": 79,
   "id": "06714c6f-1e4d-4d11-b184-1c71698e8526",
   "metadata": {},
   "outputs": [
    {
     "data": {
      "text/plain": [
       "['Hyd', 'Bengaluru', 'Dehli']"
      ]
     },
     "execution_count": 79,
     "metadata": {},
     "output_type": "execute_result"
    }
   ],
   "source": [
    "list2 = ['hyd','bengaluru','dehli']\n",
    "output = [i.capitalize() for i in list2]\n",
    "output"
   ]
  },
  {
   "cell_type": "code",
   "execution_count": 83,
   "id": "9ac8f3da-db78-4e06-aefd-9f9928e8b82d",
   "metadata": {},
   "outputs": [
    {
     "name": "stdout",
     "output_type": "stream",
     "text": [
      "[1, 2, 3, 4, 5, 6, 7, 8, 9, 10, 11, 12, 13, 14, 15, 16, 17, 18, 19, 20]\n"
     ]
    }
   ],
   "source": [
    "# Create a list of 20 nunbers from 1 to 20\n",
    "output = [i for i in range(1,21)]\n",
    "print(output)"
   ]
  },
  {
   "cell_type": "code",
   "execution_count": 86,
   "id": "770ecdaf-6c56-44fa-9fd3-e90cd7f8ecbc",
   "metadata": {},
   "outputs": [
    {
     "name": "stdout",
     "output_type": "stream",
     "text": [
      "h#d\n",
      "beng#luru\n",
      "['h#d', 'beng#luru']\n"
     ]
    }
   ],
   "source": [
    "list3 = ['h#d','beng#luru','delhi']\n",
    "# output = ['h#d','beng#luru']\n",
    "output = []\n",
    "for i in list3:\n",
    "    if '#' in i:\n",
    "        print(i)\n",
    "        output.append(i)\n",
    "output\n",
    "\n",
    "output1 = [i for i in list3 if '#' in i]\n",
    "print(output1)"
   ]
  },
  {
   "cell_type": "code",
   "execution_count": 91,
   "id": "5068667a-7f00-4bd0-94cb-2cef9164cb56",
   "metadata": {},
   "outputs": [
    {
     "name": "stdout",
     "output_type": "stream",
     "text": [
      "ac\n",
      "a\n"
     ]
    },
    {
     "data": {
      "text/plain": [
       "['ac', 'a']"
      ]
     },
     "execution_count": 91,
     "metadata": {},
     "output_type": "execute_result"
    }
   ],
   "source": [
    "list4 = ['abcd','abc','ac','a']\n",
    "# elements less than 3\n",
    "# ['ac','a']\n",
    "output = []\n",
    "for i in (list4):\n",
    "    if len(i)<3:\n",
    "        print(i)\n",
    "        output.append(i)\n",
    "output"
   ]
  },
  {
   "cell_type": "code",
   "execution_count": 99,
   "id": "8f6501fe-cba8-4461-8589-959d142f2f52",
   "metadata": {},
   "outputs": [
    {
     "name": "stdout",
     "output_type": "stream",
     "text": [
      "['ac', 'a']\n"
     ]
    }
   ],
   "source": [
    "list4 = ['abcd','abc','ac','a']\n",
    "# elements less than 3\n",
    "# ['ac','a']\n",
    "# Use list comprehension\n",
    "output = [i for i in list4 if len(i)<3]\n",
    "print(output)"
   ]
  },
  {
   "cell_type": "code",
   "execution_count": 101,
   "id": "54a31394-e923-42b1-b791-ae50f1e8e87b",
   "metadata": {},
   "outputs": [
    {
     "name": "stdout",
     "output_type": "stream",
     "text": [
      "odd: 1\n",
      "even: 2\n",
      "odd: 3\n",
      "even: 4\n",
      "odd: 5\n",
      "even: 6\n"
     ]
    }
   ],
   "source": [
    "# if else\n",
    "list1 = [1,2,3,4,5,6]\n",
    "for i in list1:\n",
    "    if i%2 == 0:\n",
    "        print(\"even: {}\".format(i))\n",
    "    else:\n",
    "        print(\"odd: {}\".format(i))"
   ]
  },
  {
   "cell_type": "code",
   "execution_count": 102,
   "id": "963116e9-09d5-4584-afab-21c0ebb602df",
   "metadata": {},
   "outputs": [
    {
     "data": {
      "text/plain": [
       "['odd: 1', 'even: 2', 'odd: 3', 'even: 4', 'odd: 5', 'even: 6']"
      ]
     },
     "execution_count": 102,
     "metadata": {},
     "output_type": "execute_result"
    }
   ],
   "source": [
    "# if else\n",
    "list1 = [1,2,3,4,5,6]\n",
    "output = []\n",
    "for i in list1:\n",
    "    if i%2 == 0:\n",
    "        output.append(\"even: {}\".format(i))\n",
    "    else:\n",
    "        output.append(\"odd: {}\".format(i))\n",
    "output"
   ]
  },
  {
   "cell_type": "code",
   "execution_count": null,
   "id": "0503083b-d51e-4609-bc0c-d7400bf15137",
   "metadata": {},
   "outputs": [],
   "source": [
    "- [<if_output> <if_condition> else <else_output> <for_loop>]"
   ]
  },
  {
   "cell_type": "code",
   "execution_count": 109,
   "id": "7a6f4b41-aaa0-4c23-8957-e94ec7bcffea",
   "metadata": {},
   "outputs": [
    {
     "data": {
      "text/plain": [
       "['odd: 1', 'even: 2', 'odd: 3', 'even: 4', 'odd: 5', 'even: 6']"
      ]
     },
     "execution_count": 109,
     "metadata": {},
     "output_type": "execute_result"
    }
   ],
   "source": [
    "list1 = [1,2,3,4,5,6]\n",
    "output = [f\"even: {i}\" if i%2==0 else f\"odd: {i}\" for i in list1]\n",
    "output"
   ]
  },
  {
   "cell_type": "markdown",
   "id": "6e1bbd33-603e-4e0d-8f4f-ad0bda5d1e6f",
   "metadata": {},
   "source": [
    "$count$"
   ]
  },
  {
   "cell_type": "code",
   "execution_count": 110,
   "id": "cc685225-5d87-4ae3-975b-4a28c33a7bef",
   "metadata": {},
   "outputs": [
    {
     "data": {
      "text/plain": [
       "3"
      ]
     },
     "execution_count": 110,
     "metadata": {},
     "output_type": "execute_result"
    }
   ],
   "source": [
    "list1 = [1,2,3,'A','B','B','B','C']\n",
    "list1.count('B')"
   ]
  },
  {
   "cell_type": "markdown",
   "id": "9503082c-c53a-496d-8ebf-f5e3a5a99d08",
   "metadata": {},
   "source": [
    "$Extend$"
   ]
  },
  {
   "cell_type": "code",
   "execution_count": 121,
   "id": "65fa70b0-b061-47ce-8618-88df58c13af2",
   "metadata": {},
   "outputs": [
    {
     "name": "stdout",
     "output_type": "stream",
     "text": [
      "['A', 'B', 'C', [1, 2, 3]]\n",
      "['A', 'B', 'C', [1, 2, 3], 1, 2, 3]\n"
     ]
    }
   ],
   "source": [
    "list1 = ['A','B','C']\n",
    "list2 = [1,2,3]\n",
    "list1.append(list2)\n",
    "print(list1)\n",
    "list1.extend(list2)\n",
    "print(list1)"
   ]
  },
  {
   "cell_type": "markdown",
   "id": "2d8d429c-d0ef-4f77-a1d9-24119d24cf1d",
   "metadata": {},
   "source": [
    "**append** vs **extend** vs **concatenation**"
   ]
  },
  {
   "cell_type": "markdown",
   "id": "4ec907bb-ebfe-4325-9b2a-0f005810e0fe",
   "metadata": {},
   "source": [
    "- append will add the element at last, that element can be any type\n",
    "            - list1 = [1,2,3]\n",
    "            - list2 = ['A','B']\n",
    "            - list1.append(list2) = [1,2,3,['A','B']]\n",
    "- extend will update the list by adding new elements, the results will also be saved in the same list\n",
    "            - list1 = [1,2,3]\n",
    "            - list2 = ['A','B']\n",
    "            - list1.extend(list2) = [1,2,3,'A','B']\n",
    "- concatenation will add the two list, but the result will not update in same list\n",
    "            - list1 = [1,2,3]\n",
    "            - list2 = ['A','B']\n",
    "            - list1 + list2 = [1,2,3,'A','B']"
   ]
  },
  {
   "cell_type": "markdown",
   "id": "33d336bc-a2ad-4f8b-a02d-95cd3e8b5f0f",
   "metadata": {},
   "source": [
    "$iterator$"
   ]
  },
  {
   "cell_type": "markdown",
   "id": "0d96f322-4f44-450a-826e-ff5d115088df",
   "metadata": {},
   "source": [
    "- iterator word =======> loop\n",
    "- the elements we can print using for loop\n",
    "- str = 'python'; we can print each letter using for loop\n",
    "- list1 = [1,2,3] we can print each element using for loop"
   ]
  },
  {
   "cell_type": "code",
   "execution_count": 126,
   "id": "070b08fa-016b-4dff-ab93-961fd9d9c08f",
   "metadata": {},
   "outputs": [],
   "source": [
    "a = reversed('python')"
   ]
  },
  {
   "cell_type": "code",
   "execution_count": 127,
   "id": "b656d922-ac21-4e4a-8d05-53adbd05fb72",
   "metadata": {},
   "outputs": [
    {
     "name": "stdout",
     "output_type": "stream",
     "text": [
      "n\n",
      "o\n",
      "h\n",
      "t\n",
      "y\n",
      "p\n"
     ]
    }
   ],
   "source": [
    "for i in a:\n",
    "    print(i)"
   ]
  },
  {
   "cell_type": "code",
   "execution_count": 181,
   "id": "4cad7398-e740-4e89-a11f-41abcc3b5093",
   "metadata": {},
   "outputs": [
    {
     "data": {
      "text/plain": [
       "[1, 2, 3, 'p', 'y', 't', 'h', 'o', 'n', 'python']"
      ]
     },
     "execution_count": 181,
     "metadata": {},
     "output_type": "execute_result"
    }
   ],
   "source": [
    "list1 = [1,2,3]\n",
    "list1.extend('python')\n",
    "list1.append('python')\n",
    "list1"
   ]
  },
  {
   "cell_type": "markdown",
   "id": "1341d83a-4098-4a48-a5ef-d8bcb8ff76bd",
   "metadata": {},
   "source": [
    "****Iterable mean printing each letter as we can see from extend method****"
   ]
  },
  {
   "cell_type": "markdown",
   "id": "d5dc30a0-6a94-4ad4-946f-fcf6a3e1914d",
   "metadata": {},
   "source": [
    "$pop-remove-del$"
   ]
  },
  {
   "cell_type": "code",
   "execution_count": 183,
   "id": "3a8ac5de-9a4b-4d69-ad2e-d0c92283b1c2",
   "metadata": {},
   "outputs": [
    {
     "data": {
      "text/plain": [
       "[1, 2, 3, 'p', 'y', 't', 'h', 'o', 'n', 'python']"
      ]
     },
     "execution_count": 183,
     "metadata": {},
     "output_type": "execute_result"
    }
   ],
   "source": [
    "list1"
   ]
  },
  {
   "cell_type": "code",
   "execution_count": 184,
   "id": "f7592274-6668-469b-a414-8863c25582dc",
   "metadata": {},
   "outputs": [
    {
     "data": {
      "text/plain": [
       "'python'"
      ]
     },
     "execution_count": 184,
     "metadata": {},
     "output_type": "execute_result"
    }
   ],
   "source": [
    "list1.pop()"
   ]
  },
  {
   "cell_type": "code",
   "execution_count": 185,
   "id": "42c55324-a27e-43cb-8d77-c0af7e82836c",
   "metadata": {},
   "outputs": [
    {
     "data": {
      "text/plain": [
       "'y'"
      ]
     },
     "execution_count": 185,
     "metadata": {},
     "output_type": "execute_result"
    }
   ],
   "source": [
    "list1\n",
    "list.pop(list1,4)\n",
    "\n",
    "# in side bracket default argument is index = -1\n",
    "# -1 means last value\n",
    "# so if no value is provided it will remove last value"
   ]
  },
  {
   "cell_type": "code",
   "execution_count": 153,
   "id": "e2c984f7-ddce-4549-9825-46ea1d5cc6aa",
   "metadata": {},
   "outputs": [
    {
     "data": {
      "text/plain": [
       "[200, 300, 400, 500]"
      ]
     },
     "execution_count": 153,
     "metadata": {},
     "output_type": "execute_result"
    }
   ],
   "source": [
    "list2 = [100,200,300,400,500]\n",
    "list2.remove(100)                 # removes 1st value\n",
    "list2"
   ]
  },
  {
   "cell_type": "code",
   "execution_count": 154,
   "id": "30628eae-6b9e-4b27-a722-3a08790521fd",
   "metadata": {},
   "outputs": [
    {
     "ename": "NameError",
     "evalue": "name 'list1' is not defined",
     "output_type": "error",
     "traceback": [
      "\u001b[1;31m---------------------------------------------------------------------------\u001b[0m",
      "\u001b[1;31mNameError\u001b[0m                                 Traceback (most recent call last)",
      "Cell \u001b[1;32mIn[154], line 2\u001b[0m\n\u001b[0;32m      1\u001b[0m \u001b[38;5;28;01mdel\u001b[39;00m(list1)\n\u001b[1;32m----> 2\u001b[0m list1\n",
      "\u001b[1;31mNameError\u001b[0m: name 'list1' is not defined"
     ]
    }
   ],
   "source": [
    "del(list1) #list1 is deleted \n",
    "list1"
   ]
  },
  {
   "cell_type": "code",
   "execution_count": 155,
   "id": "54e38fa0-ff66-476a-836f-69b81a786f1c",
   "metadata": {},
   "outputs": [
    {
     "data": {
      "text/plain": [
       "[100, 200, 444]"
      ]
     },
     "execution_count": 155,
     "metadata": {},
     "output_type": "execute_result"
    }
   ],
   "source": [
    "list3 = [100,200,33,444]\n",
    "del list3[2]\n",
    "list3"
   ]
  },
  {
   "cell_type": "markdown",
   "id": "979e6ecb-4e7e-4f1a-85f0-d862a2de777e",
   "metadata": {},
   "source": [
    "**pop** vs **remove** vs **del**"
   ]
  },
  {
   "cell_type": "code",
   "execution_count": null,
   "id": "5e61a9d7-9076-4f6e-93c3-dc6b11cd7b4d",
   "metadata": {},
   "outputs": [],
   "source": [
    "- pop and remove is method while del is keyword\n",
    "            - list1.pop()\n",
    "            - list1.remove()\n",
    "            - del (list1) or del list1[put index]\n",
    "- if pop() is empty removes last value else it depends on the index u put\n",
    "- removes() removes the value u put on the method\n",
    "- del deletes ur desired elements or the whole varaiable"
   ]
  },
  {
   "cell_type": "code",
   "execution_count": 234,
   "id": "9b1e307b-81cc-46a3-9f70-3d9b10a9dcce",
   "metadata": {},
   "outputs": [
    {
     "name": "stdout",
     "output_type": "stream",
     "text": [
      "1\n",
      "[100, 2, 200, 300, 400, 200, 300, 100, 400, 2, 4, 5, 6, 8, 100, 30, 2, 4, 5]\n",
      "2\n",
      "[5, 4, 2, 30, 100, 8, 6, 5, 4, 2, 400, 100, 300, 200, 400, 300, 200, 2, 100]\n",
      "[2, 2, 2, 4, 4, 5, 5, 6, 8, 30, 100, 100, 100, 200, 200, 300, 300, 400, 400]\n"
     ]
    }
   ],
   "source": [
    "list1 = [100,200,300,400,200,300,100,400,2,4,5,6,8,100,30,2,4,5]\n",
    "print(list1.index(200))\n",
    "list1.insert(1,2)\n",
    "print(list1)\n",
    "print(list1.index(200))\n",
    "list1.reverse()\n",
    "print(list1) \n",
    "list1.sort()\n",
    "print(list1)"
   ]
  },
  {
   "cell_type": "code",
   "execution_count": 244,
   "id": "e76a9509-5325-477f-8f0e-2ab5f9329a0b",
   "metadata": {},
   "outputs": [
    {
     "data": {
      "text/plain": [
       "15"
      ]
     },
     "execution_count": 244,
     "metadata": {},
     "output_type": "execute_result"
    }
   ],
   "source": [
    "list1 = [100,200,300,400,200,300,100,400,2,4,5,6,8,100,30,2,4,5]\n",
    "list1.index(2,list1.index(2)+1)"
   ]
  },
  {
   "cell_type": "markdown",
   "id": "4af0e529-7b61-4f64-bd5d-29eb384bca1f",
   "metadata": {},
   "source": [
    "$zip$"
   ]
  },
  {
   "cell_type": "code",
   "execution_count": 248,
   "id": "576876bc-ac8c-4072-865f-6bcd18589e09",
   "metadata": {},
   "outputs": [
    {
     "name": "stdout",
     "output_type": "stream",
     "text": [
      "Ram age is 25\n",
      "Robert age is 30\n",
      "Raheem age is 35\n"
     ]
    }
   ],
   "source": [
    "list1 = ['Ram','Robert','Raheem']\n",
    "list2 = [25,30,35]\n",
    "\n",
    "# 'Ram age is 25' and so on\n",
    "\n",
    "for i,j in zip(list1,list2):\n",
    "    print(\"{} age is {}\".format(i,j))"
   ]
  },
  {
   "cell_type": "code",
   "execution_count": 250,
   "id": "3597b6d3-8c17-429b-b5da-013d0490bbad",
   "metadata": {},
   "outputs": [
    {
     "data": {
      "text/plain": [
       "[125, 230, 335]"
      ]
     },
     "execution_count": 250,
     "metadata": {},
     "output_type": "execute_result"
    }
   ],
   "source": [
    "list1 = [100,200,300]\n",
    "list2 = [25,30,35]\n",
    "\n",
    "#output = [125,230,335]\n",
    "output = [i+j for i,j in zip(list1,list2)]\n",
    "output\n"
   ]
  },
  {
   "cell_type": "code",
   "execution_count": 251,
   "id": "140adce9-4dbc-4475-8150-59fd5d01cbe8",
   "metadata": {},
   "outputs": [],
   "source": [
    "# take 5 question in list1\n",
    "# take corresponding 5 answers in another list2\n",
    "# iterate through list1\n",
    "# every question should print\n",
    "# answer = input(\"tell the answer\")\n",
    "# if it is there: marks = marks + 1\n",
    "# else: No marks\n",
    "# how many right answers and wrong answers"
   ]
  },
  {
   "cell_type": "code",
   "execution_count": 265,
   "id": "e93596f0-17eb-4bf1-8728-4fb5df236659",
   "metadata": {},
   "outputs": [
    {
     "name": "stdout",
     "output_type": "stream",
     "text": [
      "Q1:What is the capital of India?\n"
     ]
    },
    {
     "name": "stdin",
     "output_type": "stream",
     "text": [
      "Tell answers:  deLhi\n"
     ]
    },
    {
     "name": "stdout",
     "output_type": "stream",
     "text": [
      "Incorrect answer\n",
      "Q2:What is 2 + 2?\n"
     ]
    },
    {
     "name": "stdin",
     "output_type": "stream",
     "text": [
      "Tell answers:  Four\n"
     ]
    },
    {
     "name": "stdout",
     "output_type": "stream",
     "text": [
      "Incorrect answer\n",
      "Q3:Which planet is known as the Red Planet?\n"
     ]
    },
    {
     "name": "stdin",
     "output_type": "stream",
     "text": [
      "Tell answers:  Mars\n"
     ]
    },
    {
     "name": "stdout",
     "output_type": "stream",
     "text": [
      "Correct answer\n",
      "Q4:Who wrote the Ramayana?\n"
     ]
    },
    {
     "name": "stdin",
     "output_type": "stream",
     "text": [
      "Tell answers:  valmiki\n"
     ]
    },
    {
     "name": "stdout",
     "output_type": "stream",
     "text": [
      "Incorrect answer\n",
      "Q5:What is the boiling point of water in Celsius?\n"
     ]
    },
    {
     "name": "stdin",
     "output_type": "stream",
     "text": [
      "Tell answers:  100\n"
     ]
    },
    {
     "name": "stdout",
     "output_type": "stream",
     "text": [
      "Correct answer\n",
      "Right Answer: 2\n",
      "Incorrect Answer: 3\n"
     ]
    }
   ],
   "source": [
    "import time\n",
    "list1 = [\n",
    "    \"What is the capital of India?\",\n",
    "    \"What is 2 + 2?\",\n",
    "    \"Which planet is known as the Red Planet?\",\n",
    "    \"Who wrote the Ramayana?\",\n",
    "    \"What is the boiling point of water in Celsius?\"\n",
    "]\n",
    "list2 = [\n",
    "    \"Delhi\",\n",
    "    \"4\",\n",
    "    \"Mars\",\n",
    "    \"Valmiki\",\n",
    "    \"100\"\n",
    "]\n",
    "marks = 0\n",
    "incorrect = 0\n",
    "for i in range(len(list1)):\n",
    "    time.sleep(1.5)\n",
    "    print(f\"Q{i+1}:{list1[i]}\")\n",
    "    time.sleep(2)\n",
    "    answer = input(\"Tell answers: \")\n",
    "    if answer == list2[i]:\n",
    "        time.sleep(3)\n",
    "        print(\"Correct answer\")\n",
    "        marks = marks + 1\n",
    "    else:\n",
    "        time.sleep(2)\n",
    "        print(\"Incorrect answer\")\n",
    "        incorrect = incorrect + 1\n",
    "print(\"Right Answer: {}\".format(marks))\n",
    "print(\"Incorrect Answer: {}\".format(incorrect))"
   ]
  },
  {
   "cell_type": "code",
   "execution_count": null,
   "id": "51eb700d-6678-4d26-bd57-1e4ac060511f",
   "metadata": {},
   "outputs": [],
   "source": []
  },
  {
   "cell_type": "code",
   "execution_count": null,
   "id": "f9f91fe5-5528-4f03-b75c-396e4e74a954",
   "metadata": {},
   "outputs": [],
   "source": []
  }
 ],
 "metadata": {
  "kernelspec": {
   "display_name": "Python [conda env:base] *",
   "language": "python",
   "name": "conda-base-py"
  },
  "language_info": {
   "codemirror_mode": {
    "name": "ipython",
    "version": 3
   },
   "file_extension": ".py",
   "mimetype": "text/x-python",
   "name": "python",
   "nbconvert_exporter": "python",
   "pygments_lexer": "ipython3",
   "version": "3.12.3"
  }
 },
 "nbformat": 4,
 "nbformat_minor": 5
}
