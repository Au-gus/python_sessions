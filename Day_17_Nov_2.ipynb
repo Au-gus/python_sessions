{
 "cells": [
  {
   "cell_type": "code",
   "execution_count": null,
   "id": "a3489de6-046a-4d28-981f-0e8eec7c3133",
   "metadata": {},
   "outputs": [],
   "source": [
    "# WAP find the area of circle\n",
    "# Basic Method\n",
    "# With/Without Arguments\n",
    "# Default arguments"
   ]
  },
  {
   "cell_type": "code",
   "execution_count": 26,
   "id": "70f03d95-e63a-4469-93a8-d3e509b8d92a",
   "metadata": {},
   "outputs": [
    {
     "name": "stdin",
     "output_type": "stream",
     "text": [
      "Enter the radius:  20\n"
     ]
    },
    {
     "name": "stdout",
     "output_type": "stream",
     "text": [
      "The area of circle is 1256.64\n"
     ]
    }
   ],
   "source": [
    "# Method-1: Basic Method\n",
    "import math\n",
    "radius = eval(input(\"Enter the radius: \"))\n",
    "pii = math.pi\n",
    "Area = round(pii*radius*radius,2)\n",
    "print(\"The area of circle is {}\".format(Area))"
   ]
  },
  {
   "cell_type": "code",
   "execution_count": 27,
   "id": "704e2e7e-d73e-4e3a-87e1-79e0cb5ef7d7",
   "metadata": {},
   "outputs": [
    {
     "name": "stdin",
     "output_type": "stream",
     "text": [
      "Enter the radius:  20\n"
     ]
    },
    {
     "name": "stdout",
     "output_type": "stream",
     "text": [
      "The area of circle is 1256.64\n"
     ]
    }
   ],
   "source": [
    "# Method-2: Without Arguments\n",
    "import math\n",
    "def Area_of_circle():\n",
    "    radius = eval(input(\"Enter the radius: \"))\n",
    "    pii = math.pi\n",
    "    Area = round(pii*radius*radius,2)\n",
    "    print(\"The area of circle is {}\".format(Area))\n",
    "Area_of_circle()"
   ]
  },
  {
   "cell_type": "code",
   "execution_count": 28,
   "id": "87eebd9a-6ad6-4fd5-9d6f-b78598d085a1",
   "metadata": {},
   "outputs": [
    {
     "name": "stdout",
     "output_type": "stream",
     "text": [
      "The area of circle is 1256.64\n"
     ]
    }
   ],
   "source": [
    "# Method-2: With arguments\n",
    "# Direct Pass\n",
    "import math\n",
    "def Area_of_circle(radius):\n",
    "    pii = math.pi\n",
    "    Area = round(pii*radius*radius,2)\n",
    "    print(\"The area of circle is {}\".format(Area))\n",
    "Area_of_circle(20)"
   ]
  },
  {
   "cell_type": "code",
   "execution_count": 29,
   "id": "a9eec60b-47bd-4332-8450-746edd3ad589",
   "metadata": {},
   "outputs": [
    {
     "name": "stdin",
     "output_type": "stream",
     "text": [
      "Enter the radius:  20\n"
     ]
    },
    {
     "name": "stdout",
     "output_type": "stream",
     "text": [
      "The area of circle is 1256.64\n"
     ]
    }
   ],
   "source": [
    "# Method-2: With arguments\n",
    "# Keyword Pass\n",
    "import math\n",
    "def Area_of_circle(radius):\n",
    "    pii = math.pi\n",
    "    Area = round(pii*radius*radius,2)\n",
    "    print(\"The area of circle is {}\".format(Area))\n",
    "radius = eval(input(\"Enter the radius: \"))\n",
    "Area_of_circle(radius)"
   ]
  },
  {
   "cell_type": "code",
   "execution_count": 30,
   "id": "ff186cfd-a6d7-46ec-b479-649f86dae186",
   "metadata": {},
   "outputs": [
    {
     "name": "stdout",
     "output_type": "stream",
     "text": [
      "The area of circle is 1256.64\n"
     ]
    }
   ],
   "source": [
    "# Method-3: Default Arguments\n",
    "import math\n",
    "def Area_of_circle(pii, radius = 20):\n",
    "    area = round(pii*radius*radius,2)\n",
    "    print(\"The area of circle is {}\".format(area))\n",
    "pii = math.pi\n",
    "Area_of_circle(pii)"
   ]
  },
  {
   "cell_type": "code",
   "execution_count": 65,
   "id": "d3d660db-ae45-4ea5-8a00-22993534b437",
   "metadata": {},
   "outputs": [
    {
     "name": "stdin",
     "output_type": "stream",
     "text": [
      "Enter the radius:  20\n"
     ]
    },
    {
     "name": "stdout",
     "output_type": "stream",
     "text": [
      "The area of circle is 1256.637\n",
      "1256.637\n",
      "3.141592653589793\n"
     ]
    }
   ],
   "source": [
    "import math\n",
    "def Area_of_circle():\n",
    "    try:\n",
    "        r = eval(input(\"Enter the radius: \"))\n",
    "        pii = math.pi\n",
    "        area11 = round(pii*r*r,3)\n",
    "        print(\"The area of circle is {}\".format(area11))\n",
    "        return(area11,pii)\n",
    "    except Exception as e:\n",
    "        print(e)\n",
    "\n",
    "Area,Pi=Area_of_circle()\n",
    "print(Area)\n",
    "print(Pi)"
   ]
  },
  {
   "cell_type": "code",
   "execution_count": 59,
   "id": "7f2ae3d2-756d-45dd-8a0e-cc612195dc72",
   "metadata": {},
   "outputs": [
    {
     "name": "stdin",
     "output_type": "stream",
     "text": [
      "Enter the radius:  20\n"
     ]
    },
    {
     "name": "stdout",
     "output_type": "stream",
     "text": [
      "The area of circle is 1256.637\n"
     ]
    }
   ],
   "source": [
    "Area,Pi=Area_of_circle()"
   ]
  },
  {
   "cell_type": "code",
   "execution_count": 53,
   "id": "7825e51b-df49-46fd-8845-dcfeed8a272f",
   "metadata": {},
   "outputs": [
    {
     "data": {
      "text/plain": [
       "1256.64"
      ]
     },
     "execution_count": 53,
     "metadata": {},
     "output_type": "execute_result"
    }
   ],
   "source": [
    "Area"
   ]
  },
  {
   "cell_type": "code",
   "execution_count": 62,
   "id": "67c5a200-8e16-4394-b9e0-e2d8c81d7c21",
   "metadata": {},
   "outputs": [
    {
     "data": {
      "text/plain": [
       "3.141592653589793"
      ]
     },
     "execution_count": 62,
     "metadata": {},
     "output_type": "execute_result"
    }
   ],
   "source": [
    "Pi"
   ]
  },
  {
   "cell_type": "code",
   "execution_count": null,
   "id": "dfe4a454-190d-43f1-9f5f-9a98507aaa83",
   "metadata": {},
   "outputs": [],
   "source": [
    "# Enter 3 numbers\n",
    "# Find the sum and average\n",
    "# Return the average and sum value"
   ]
  },
  {
   "cell_type": "code",
   "execution_count": 74,
   "id": "3df0c64b-0216-44f2-90eb-43a1fa8f6d55",
   "metadata": {},
   "outputs": [
    {
     "name": "stdin",
     "output_type": "stream",
     "text": [
      "Enter the first number: 2\n",
      "Enter the second number: 1\n",
      "Enter the third number: 3\n"
     ]
    },
    {
     "name": "stdout",
     "output_type": "stream",
     "text": [
      "The sum is 6\n",
      "The average is 2.0\n",
      "6\n",
      "2.0\n"
     ]
    }
   ],
   "source": [
    "def calculate():\n",
    "    a = eval(input(\"Enter the first number:\"))\n",
    "    b = eval(input(\"Enter the second number:\"))\n",
    "    c = eval(input(\"Enter the third number:\"))\n",
    "    add = a + b + c\n",
    "    avg = add/3\n",
    "    print(\"The sum is {}\".format(add))\n",
    "    print(\"The average is {}\".format(avg))\n",
    "    return(add,avg)\n",
    "calculate()\n",
    "print(Add)\n",
    "print(Avg)\n"
   ]
  },
  {
   "cell_type": "code",
   "execution_count": 71,
   "id": "b15e03f2-533c-433d-8035-6695c8523f33",
   "metadata": {},
   "outputs": [
    {
     "name": "stdin",
     "output_type": "stream",
     "text": [
      "Enter the first number: 1\n",
      "Enter the second number: 2\n",
      "Enter the third number: 3\n"
     ]
    },
    {
     "name": "stdout",
     "output_type": "stream",
     "text": [
      "The sum is 6\n",
      "The average is 2.0\n"
     ]
    }
   ],
   "source": [
    "Add,Avg = calculate()"
   ]
  },
  {
   "cell_type": "code",
   "execution_count": null,
   "id": "a3e357aa-8696-460a-b4bc-45f5ee8e9df6",
   "metadata": {},
   "outputs": [],
   "source": [
    "# Find the biggest num of 3 numbers\n",
    "# Return that number"
   ]
  },
  {
   "cell_type": "code",
   "execution_count": 94,
   "id": "7bc574b1-4b24-4c7b-b5c4-07590e00515e",
   "metadata": {},
   "outputs": [
    {
     "name": "stdin",
     "output_type": "stream",
     "text": [
      "Enter a number: 20\n",
      "Enter a number: 30\n",
      "Enter a number: 20\n"
     ]
    },
    {
     "name": "stdout",
     "output_type": "stream",
     "text": [
      "30 is the biggest\n",
      "30\n"
     ]
    }
   ],
   "source": [
    "def cal():\n",
    "    a = eval(input(\"Enter a number:\"))\n",
    "    b = eval(input(\"Enter a number:\"))\n",
    "    c = eval(input(\"Enter a number:\"))\n",
    "    if (a>=b>=c):\n",
    "        print(\"{} is the biggest\".format(a))\n",
    "        return(a)\n",
    "    elif (b>=a>=c):\n",
    "        print(\"{} is the biggest\".format(b))\n",
    "        return(b)\n",
    "    elif (c>=b>=a):\n",
    "        print(\"{} is the biggest\".format(c))\n",
    "        return(c)\n",
    "    else:\n",
    "        print(\"All number are same\")\n",
    "\n",
    "Greater = cal()\n",
    "print(Greater)\n"
   ]
  },
  {
   "cell_type": "code",
   "execution_count": 89,
   "id": "ad0ac636-755e-4b00-ae2e-3fba1028c58b",
   "metadata": {},
   "outputs": [
    {
     "name": "stdin",
     "output_type": "stream",
     "text": [
      "Enter a number: 20\n",
      "Enter a number: 30\n",
      "Enter a number: 40\n"
     ]
    },
    {
     "name": "stdout",
     "output_type": "stream",
     "text": [
      "40 is the biggest\n"
     ]
    }
   ],
   "source": [
    "Greater = cal()"
   ]
  },
  {
   "cell_type": "code",
   "execution_count": 101,
   "id": "af2484dc-5bb7-47c7-a789-a1d491c1d549",
   "metadata": {},
   "outputs": [
    {
     "name": "stdout",
     "output_type": "stream",
     "text": [
      "30 200 -10 0.5\n"
     ]
    }
   ],
   "source": [
    "def add(a,b):\n",
    "    return(a+b)\n",
    "\n",
    "def mul(a,b):\n",
    "    return(a*b)\n",
    "\n",
    "def sub(a,b):\n",
    "    return(a-b)\n",
    "\n",
    "def div(a,b):\n",
    "    return(a/b)\n",
    "    \n",
    "val_add = add(10,20)\n",
    "val_mul = mul(10,20)\n",
    "val_sub = sub(10,20)\n",
    "val_div = div(10,20)\n",
    "print(val_add,val_mul,val_sub,round(val_div,2))"
   ]
  },
  {
   "cell_type": "code",
   "execution_count": 110,
   "id": "7256b784-5649-4d9b-9896-badbb04b338c",
   "metadata": {},
   "outputs": [
    {
     "name": "stdout",
     "output_type": "stream",
     "text": [
      "30 -10 200 0.5\n"
     ]
    }
   ],
   "source": [
    "def aggregation(a,b):\n",
    "    return(a+b,a-b,a*b,a/b)\n",
    "\n",
    "add,sub,mul,div = aggregation(10,20)\n",
    "print(add,sub,mul,round(div,2))"
   ]
  },
  {
   "cell_type": "code",
   "execution_count": 111,
   "id": "6d881e4f-092c-48cf-b130-966c2786c741",
   "metadata": {},
   "outputs": [
    {
     "data": {
      "text/plain": [
       "(30, -10, 200, 0.5)"
      ]
     },
     "execution_count": 111,
     "metadata": {},
     "output_type": "execute_result"
    }
   ],
   "source": [
    "def aggregation(a,b):\n",
    "    return(a+b,a-b,a*b,a/b)\n",
    "\n",
    "add = aggregation(10,20)\n",
    "add"
   ]
  },
  {
   "cell_type": "code",
   "execution_count": 112,
   "id": "012a95f0-ce16-4424-be36-9fc514054c56",
   "metadata": {},
   "outputs": [
    {
     "ename": "IndentationError",
     "evalue": "expected an indented block after function definition on line 1 (3452154299.py, line 2)",
     "output_type": "error",
     "traceback": [
      "\u001b[1;36m  Cell \u001b[1;32mIn[112], line 2\u001b[1;36m\u001b[0m\n\u001b[1;33m    return(a+b)\u001b[0m\n\u001b[1;37m    ^\u001b[0m\n\u001b[1;31mIndentationError\u001b[0m\u001b[1;31m:\u001b[0m expected an indented block after function definition on line 1\n"
     ]
    }
   ],
   "source": [
    "def add(a,b):\n",
    "return(a+b)\n",
    "\n",
    "def mul(a,b):\n",
    "return(a*b)\n",
    "\n",
    "def sub(a,b):\n",
    "return(a-b)\n",
    "\n",
    "def div(a,b):\n",
    "return(a/b)"
   ]
  },
  {
   "cell_type": "code",
   "execution_count": 113,
   "id": "1ecaefbd-f5dc-4943-b74b-37375229f182",
   "metadata": {},
   "outputs": [
    {
     "name": "stdout",
     "output_type": "stream",
     "text": [
      "30 200 -10 0.5\n"
     ]
    }
   ],
   "source": [
    "def add(a,b):return(a+b)\n",
    "\n",
    "def mul(a,b):return(a*b)\n",
    "\n",
    "def sub(a,b):return(a-b)\n",
    "\n",
    "def div(a,b):return(a/b)\n",
    "\n",
    "\n",
    "val_add = add(10,20)\n",
    "val_mul = mul(10,20)\n",
    "val_sub = sub(10,20)\n",
    "val_div = div(10,20)\n",
    "print(val_add,val_mul,val_sub,round(val_div,2))\n",
    "    "
   ]
  },
  {
   "cell_type": "code",
   "execution_count": null,
   "id": "89609fe8-62db-417c-b1fe-a3716d2bb27e",
   "metadata": {},
   "outputs": [],
   "source": []
  }
 ],
 "metadata": {
  "kernelspec": {
   "display_name": "Python [conda env:base] *",
   "language": "python",
   "name": "conda-base-py"
  },
  "language_info": {
   "codemirror_mode": {
    "name": "ipython",
    "version": 3
   },
   "file_extension": ".py",
   "mimetype": "text/x-python",
   "name": "python",
   "nbconvert_exporter": "python",
   "pygments_lexer": "ipython3",
   "version": "3.12.7"
  }
 },
 "nbformat": 4,
 "nbformat_minor": 5
}
