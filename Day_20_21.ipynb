{
 "cells": [
  {
   "cell_type": "code",
   "execution_count": 6,
   "id": "7d8490cb-b07d-4986-9d81-8f78be61e51e",
   "metadata": {},
   "outputs": [
    {
     "name": "stdin",
     "output_type": "stream",
     "text": [
      "Enter the number of chances you want: 4\n",
      "Enter a num: 3\n"
     ]
    },
    {
     "name": "stdout",
     "output_type": "stream",
     "text": [
      "You suck\n",
      "The number of chances left is  3\n"
     ]
    },
    {
     "name": "stdin",
     "output_type": "stream",
     "text": [
      "Enter a num: 4\n"
     ]
    },
    {
     "name": "stdout",
     "output_type": "stream",
     "text": [
      "You suck\n",
      "The number of chances left is  2\n"
     ]
    },
    {
     "name": "stdin",
     "output_type": "stream",
     "text": [
      "Enter a num: 5\n"
     ]
    },
    {
     "name": "stdout",
     "output_type": "stream",
     "text": [
      "You suck\n",
      "The number of chances left is  1\n"
     ]
    },
    {
     "name": "stdin",
     "output_type": "stream",
     "text": [
      "Enter a num: 6\n"
     ]
    },
    {
     "name": "stdout",
     "output_type": "stream",
     "text": [
      "You suck\n",
      "The number of chances left is  0\n",
      "All your chances are used\n",
      "Plz don't play this game you suck\n"
     ]
    }
   ],
   "source": [
    "## Needed to be checked\n",
    "### Didn't work\n",
    "\n",
    "import random\n",
    "rn = random.randint(1,10)\n",
    "chances = eval(input(\"Enter the number of chances you want:\"))\n",
    "for i in range(chances):\n",
    "    n = eval(input(\"Enter a num:\"))\n",
    "    if n == rn:\n",
    "        print(\"You won\")\n",
    "        break\n",
    "    else:\n",
    "        print(\"You suck\")\n",
    "        print(\"The number of chances left is \",chances-1-i)\n",
    "        if (chances-1-i == 0):\n",
    "            print(\"All your chances are used\")\n",
    "            print(\"Plz don't play this game you suck\")"
   ]
  },
  {
   "cell_type": "code",
   "execution_count": 14,
   "id": "8eb18f5e-106c-4cd8-a4e3-0e7f751e640e",
   "metadata": {},
   "outputs": [
    {
     "name": "stdin",
     "output_type": "stream",
     "text": [
      "Enter the number of chances you want: 4\n",
      "Enter a num: 3\n"
     ]
    },
    {
     "name": "stdout",
     "output_type": "stream",
     "text": [
      "You lost\n",
      "The number of chances left is 3\n"
     ]
    },
    {
     "name": "stdin",
     "output_type": "stream",
     "text": [
      "Enter a num: 4\n"
     ]
    },
    {
     "name": "stdout",
     "output_type": "stream",
     "text": [
      "You lost\n",
      "The number of chances left is 2\n"
     ]
    },
    {
     "name": "stdin",
     "output_type": "stream",
     "text": [
      "Enter a num: 4\n"
     ]
    },
    {
     "name": "stdout",
     "output_type": "stream",
     "text": [
      "You lost\n",
      "The number of chances left is 1\n"
     ]
    },
    {
     "name": "stdin",
     "output_type": "stream",
     "text": [
      "Enter a num: 5\n"
     ]
    },
    {
     "name": "stdout",
     "output_type": "stream",
     "text": [
      "No more chances\n"
     ]
    }
   ],
   "source": [
    "import random\n",
    "rn = random.randint(1,10)\n",
    "chances = eval(input(\"Enter the number of chances you want:\"))\n",
    "for i in range(chances):\n",
    "    n = eval(input(\"Enter a num:\"))\n",
    "    if n == rn:\n",
    "        print(\"You won\")\n",
    "        break\n",
    "    elif (chances-1-i == 0):\n",
    "        print(\"No more chances\")\n",
    "    else:\n",
    "        print(\"You lost\")\n",
    "        print(\"The number of chances left is\",chances-1-i)"
   ]
  },
  {
   "cell_type": "code",
   "execution_count": 25,
   "id": "b3dea173-5f88-4d76-802b-16b497a58ff0",
   "metadata": {},
   "outputs": [
    {
     "name": "stdout",
     "output_type": "stream",
     "text": [
      "11\n",
      "Odd\n",
      "Got odd 1 times\n",
      "30\n",
      "Even\n",
      "Got even 2 times\n",
      "27\n",
      "Odd\n",
      "Got odd 3 times\n",
      "29\n",
      "Odd\n",
      "Got odd 4 times\n",
      "28\n",
      "Even\n",
      "Got even 5 times\n"
     ]
    }
   ],
   "source": [
    "import random\n",
    "count = 0\n",
    "for i in range(5):\n",
    "    n =  random.randint(10,30)\n",
    "    print (n)\n",
    "    if (n%2 == 0):\n",
    "        print(\"Even\")\n",
    "        count+=1\n",
    "        print(\"Got even {} times\".format(count))\n",
    "    else:\n",
    "        print(\"Odd\")\n",
    "        count+=1\n",
    "        print(\"Got odd {} times\".format(count))"
   ]
  },
  {
   "cell_type": "code",
   "execution_count": 30,
   "id": "340fb5ce-a6de-4de6-9bbf-af3a5d9a8e8f",
   "metadata": {},
   "outputs": [
    {
     "name": "stdout",
     "output_type": "stream",
     "text": [
      "19\n",
      "Odd\n",
      "Got odd 1 times\n",
      "23\n",
      "Odd\n",
      "Got odd 2 times\n",
      "30\n",
      "Even\n",
      "Got even 1 times\n",
      "21\n",
      "Odd\n",
      "Got odd 3 times\n",
      "21\n",
      "Odd\n",
      "Got odd 4 times\n"
     ]
    }
   ],
   "source": [
    "e_c = 0\n",
    "o_c = 0\n",
    "import random\n",
    "for i in range(5):\n",
    "    n =  random.randint(10,30)\n",
    "    print (n)\n",
    "    if (n%2 == 0):\n",
    "        print(\"Even\")\n",
    "        e_c = e_c + 1\n",
    "        print(\"Got even {} times\".format(e_c))\n",
    "    else:\n",
    "        print(\"Odd\")\n",
    "        o_c = o_c + 1\n",
    "        print(\"Got odd {} times\".format(o_c))"
   ]
  },
  {
   "cell_type": "code",
   "execution_count": 29,
   "id": "7856bf0a-dd14-4a72-893d-db55cf4e541f",
   "metadata": {},
   "outputs": [
    {
     "name": "stdout",
     "output_type": "stream",
     "text": [
      "Generated number: 18\n",
      "Even\n",
      "Got even 1 times\n",
      "Generated number: 25\n",
      "Odd\n",
      "Got odd 1 times\n",
      "Generated number: 22\n",
      "Even\n",
      "Got even 2 times\n",
      "Generated number: 10\n",
      "Even\n",
      "Got even 3 times\n",
      "Generated number: 25\n",
      "Odd\n",
      "Got odd 2 times\n"
     ]
    }
   ],
   "source": [
    "import random\n",
    "\n",
    "even_count = 0\n",
    "odd_count = 0\n",
    "\n",
    "for i in range(5):\n",
    "    n = random.randint(10, 30)\n",
    "    print(\"Generated number:\", n)\n",
    "\n",
    "    if n % 2 == 0:\n",
    "        print(\"Even\")\n",
    "        even_count += 1\n",
    "        print(\"Got even {} times\".format(even_count))\n",
    "    else:\n",
    "        print(\"Odd\")\n",
    "        odd_count += 1\n",
    "        print(\"Got odd {} times\".format(odd_count))\n"
   ]
  },
  {
   "cell_type": "code",
   "execution_count": 45,
   "id": "24e7976b-6c98-4601-9e06-ef39d37e6f3c",
   "metadata": {},
   "outputs": [
    {
     "name": "stdin",
     "output_type": "stream",
     "text": [
      "Enter: 6\n"
     ]
    },
    {
     "name": "stdout",
     "output_type": "stream",
     "text": [
      "6 is divisible by 1\n",
      "6 is divisible by 2\n",
      "6 is divisible by 3\n",
      "6 is divisible by 6\n",
      "Divisible count: 4\n",
      "Not divisible count: 2\n"
     ]
    }
   ],
   "source": [
    "def counter():\n",
    "    d_count = 0\n",
    "    nd_count = 0\n",
    "    n = eval(input(\"Enter:\"))\n",
    "    for i in range (1, n+1):\n",
    "        if (n%i == 0):\n",
    "            print(\"{} is divisible by {}\".format(n,i))\n",
    "            d_count = d_count + 1\n",
    "        else:\n",
    "            nd_count = nd_count + 1\n",
    "    return(d_count, nd_count)\n",
    "val1,val2 = counter()\n",
    "print(\"Divisible count:\", val1)\n",
    "print(\"Not divisible count:\", val2)\n"
   ]
  }
 ],
 "metadata": {
  "kernelspec": {
   "display_name": "Python [conda env:base] *",
   "language": "python",
   "name": "conda-base-py"
  },
  "language_info": {
   "codemirror_mode": {
    "name": "ipython",
    "version": 3
   },
   "file_extension": ".py",
   "mimetype": "text/x-python",
   "name": "python",
   "nbconvert_exporter": "python",
   "pygments_lexer": "ipython3",
   "version": "3.12.7"
  }
 },
 "nbformat": 4,
 "nbformat_minor": 5
}
