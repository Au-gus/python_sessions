{
 "cells": [
  {
   "cell_type": "markdown",
   "id": "9cc8cb6a-fe8a-4180-960c-e19b38588eda",
   "metadata": {},
   "source": [
    "### (1) WAP enter distance in km\n",
    "         if distance is more than 10km: print charge = 100 rs\n",
    "         if distance is between 7 to 10km: print charge= 70rs\n",
    "         if distance is between 4 to 7km: print charge = 40rs\n",
    "         otherwise charge 30rs"
   ]
  },
  {
   "cell_type": "code",
   "execution_count": 17,
   "id": "59d65abf-3103-4516-b987-8b0197de8db3",
   "metadata": {},
   "outputs": [
    {
     "name": "stdin",
     "output_type": "stream",
     "text": [
      "Enter the distance in km: 100\n"
     ]
    },
    {
     "name": "stdout",
     "output_type": "stream",
     "text": [
      "Charge is Rs.100\n"
     ]
    }
   ],
   "source": [
    "a = eval(input(\"Enter the distance in km:\"))\n",
    "if a>10:\n",
    "    print(\"Charge is Rs.100\")\n",
    "elif (7<a<10):\n",
    "    print(\"Charge is Rs.70\")\n",
    "elif (4<a<7):\n",
    "    print(\"Charge is Rs.40\")\n",
    "else:\n",
    "    print(\"Charge is Rs30\")   "
   ]
  },
  {
   "cell_type": "markdown",
   "id": "f5c19033-9a00-4409-9ce8-a2b8f820cd86",
   "metadata": {},
   "source": [
    "### (2) WAP enter salary\n",
    "             if salary>10 lakhs: enter tax% : 10%, print amount of tax paid\n",
    "             if salary between 7 lakhs to 10 lakhs: enter tax% : 5%, print tax paid\n",
    "             if salary between 4 lakhs to 7 lakhs: enter tax% : 2.5%, print tax paid\n",
    "             else print tax exemption"
   ]
  },
  {
   "cell_type": "code",
   "execution_count": 5,
   "id": "90a219b6-67d7-4f3c-9c2f-3ec34c36d1d4",
   "metadata": {},
   "outputs": [
    {
     "name": "stdin",
     "output_type": "stream",
     "text": [
      "Enter the salary: 10000000\n",
      "Enter tax percentage: 10\n"
     ]
    },
    {
     "name": "stdout",
     "output_type": "stream",
     "text": [
      "Tax paid is 1000000.0\n"
     ]
    }
   ],
   "source": [
    "a = eval(input(\"Enter the salary:\"))\n",
    "if (a>=1000000):\n",
    "    tax = eval(input(\"Enter tax percentage:\"))\n",
    "    tax_paid = (a*tax)/100\n",
    "    print(\"Tax paid is {}\".format(tax_paid))\n",
    "elif (a>=700000):\n",
    "    tax = eval(input(\"Enter tax percentage:\"))\n",
    "    tax_paid = (a*tax)/100\n",
    "    print(\"Tax paid is {}\".format(tax_paid))\n",
    "elif (a>=400000):\n",
    "    tax = eval(input(\"Enter tax percentage:\"))\n",
    "    tax_paid = (a*tax)/100\n",
    "    print(\"Tax paid is {}\".format(tax_paid))\n",
    "else:\n",
    "    print(\"Your tax has been exempted\")"
   ]
  },
  {
   "cell_type": "markdown",
   "id": "624eb3b7-6c7a-4cc6-b3a7-585a3e605994",
   "metadata": {},
   "source": [
    "### (3) WAP enter which operation you need to perform\n",
    "                 Operations: Addition/Multiplication/Subtraction/Division\n",
    "                 Enter a num1, num2\n",
    "                 if the operation equal to addition\n",
    "                            print(\"We are doing Addition Operation\")\n",
    "                            print(\"The addition of {} and {} is {}\".format(a,b,c))\n",
    "                 if the operation equal to multiplication\n",
    "                           print(\"We are doing Multiplication Operation\")\n",
    "                            print(\"The Multiplication of {} and {} is {}\".format(a,b,c))\n",
    "                 if the operation equal to subtraction\n",
    "                            print(\"We are doing Subtraction Operation\")\n",
    "                            print(\"The subtraction of {} and {} is {}\".format(a,b,c))\n",
    "                 if the operation equal to division\n",
    "                            print(\"We are doing Division Operation\")\n",
    "                           print(\"The division of {} and {} is {}\".format(a,b,c))\n",
    "                 else:\n",
    "                     print(\"Provide Valid Operation\")"
   ]
  },
  {
   "cell_type": "code",
   "execution_count": 13,
   "id": "6421990e-08b0-45cd-8043-ed5ae57f4455",
   "metadata": {},
   "outputs": [
    {
     "name": "stdout",
     "output_type": "stream",
     "text": [
      "Please choose which operation you need to perform: addition/multiplication/subtraction/division\n"
     ]
    },
    {
     "name": "stdin",
     "output_type": "stream",
     "text": [
      "Choose: add\n",
      "Enter a number: 10\n",
      "Enter a number: 20\n"
     ]
    },
    {
     "name": "stdout",
     "output_type": "stream",
     "text": [
      "Please provide valid operation\n"
     ]
    }
   ],
   "source": [
    "print(\"Please choose which operation you need to perform: addition/multiplication/subtraction/division\")\n",
    "op = input(\"Choose:\")\n",
    "a = eval(input(\"Enter a number:\"))\n",
    "b = eval(input(\"Enter a number:\"))\n",
    "if (op==\"addition\"):\n",
    "    print(\"We are doing Addition Operation\")\n",
    "    print(\"The addition of {} and {} is {}\".format(a,b,a+b))\n",
    "elif (op==\"multiplication\"):\n",
    "    print(\"We are doing Multiplication Operation\")\n",
    "    print(\"The multiplication of {} and {} is {}\".format(a,b,a*b))\n",
    "elif (op==\"subtraction\"):\n",
    "    print(\"We are doing Subtraction Operation\")\n",
    "    print(\"The subtraction of {} and {} is {}\".format(a,b,a-b))\n",
    "elif (op==\"division\"):\n",
    "    print(\"We are doing Division Operation\")\n",
    "    a = eval(input(\"Enter a number:\"))\n",
    "    b = eval(input(\"Enter a number:\"))\n",
    "    print(\"The division of {} and {} is {}\".format(a,b,a/b))\n",
    "else:\n",
    "    print(\"Please provide valid operation\")\n",
    "    "
   ]
  },
  {
   "cell_type": "markdown",
   "id": "6dd1345d-ddde-4670-ac36-c532a8e71b81",
   "metadata": {},
   "source": [
    "### (4) WAP enter gender either M or F\n",
    "             if gender is M:\n",
    "                    enter age, if age>60: Print(CS)\n",
    "                    if age between 30 to 60: print(middle aged man)\n",
    "                    if age between 20 to 30: print(young boy)\n",
    "                    if age between 13 to 20: print(teenage boy)\n",
    "                    else: print(\"boy\")\n",
    "             else:\n",
    "                    enter age, if age>60: Print(CS)\n",
    "                    if age between 30 to 60: print(middle aged woman)\n",
    "                    if age between 20 to 30: print(young girl)\n",
    "                    if age between 13 to 20: print(teenage girl)\n",
    "                    else: print(\"girl\")"
   ]
  },
  {
   "cell_type": "code",
   "execution_count": 16,
   "id": "75c581f3-5024-49ef-b237-89a893912d96",
   "metadata": {},
   "outputs": [
    {
     "name": "stdin",
     "output_type": "stream",
     "text": [
      "Enter your gender(M/F): y\n"
     ]
    },
    {
     "name": "stdout",
     "output_type": "stream",
     "text": [
      "Invaild!!Gender\n"
     ]
    }
   ],
   "source": [
    "gender = input(\"Enter your gender(M/F):\")\n",
    "if (gender == \"M\"):\n",
    "    age = eval(input(\"Enter age:\"))\n",
    "    if age>60: \n",
    "        print(\"CS\")\n",
    "    elif age>=30:\n",
    "        print(\"middle aged man\")\n",
    "    elif age>=20: \n",
    "        print(\"young boy\")\n",
    "    elif age>=13: \n",
    "        print(\"teenage boy\")\n",
    "    else: \n",
    "        print(\"boy\")\n",
    "elif (gender == \"F\"):\n",
    "    age = eval(input(\"Enter age:\"))\n",
    "    if age>60: \n",
    "        print(\"CS\")\n",
    "    elif age>=30:\n",
    "        print(\"middle aged woman\")\n",
    "    elif age>=20: \n",
    "        print(\"young girl\")\n",
    "    elif age>=13: \n",
    "        print(\"teenage girl\")\n",
    "    else: \n",
    "        print(\"girl\")\n",
    "else:\n",
    "    print(\"Invaild!!Gender\")\n"
   ]
  }
 ],
 "metadata": {
  "kernelspec": {
   "display_name": "Python [conda env:base] *",
   "language": "python",
   "name": "conda-base-py"
  },
  "language_info": {
   "codemirror_mode": {
    "name": "ipython",
    "version": 3
   },
   "file_extension": ".py",
   "mimetype": "text/x-python",
   "name": "python",
   "nbconvert_exporter": "python",
   "pygments_lexer": "ipython3",
   "version": "3.12.7"
  }
 },
 "nbformat": 4,
 "nbformat_minor": 5
}
