file_path = "emails.txt"
file = open(file_path)
print(file.read())
