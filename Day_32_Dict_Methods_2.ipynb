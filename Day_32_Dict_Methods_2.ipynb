{
 "cells": [
  {
   "cell_type": "markdown",
   "id": "df64b256-2060-4370-a623-0d30bb6fa59f",
   "metadata": {},
   "source": [
    "$Clear$-$Copy$"
   ]
  },
  {
   "cell_type": "code",
   "execution_count": 33,
   "id": "5a3c166a-4519-4c62-9f53-bffb182d0949",
   "metadata": {},
   "outputs": [
    {
     "name": "stdout",
     "output_type": "stream",
     "text": [
      "{}\n",
      "{'a': 20, 'b': 30, 'c': 40, 'd': 500}\n"
     ]
    }
   ],
   "source": [
    "d1 = {'a':20,'b':30,'c':40,'d':500}\n",
    "d2=d1.copy()\n",
    "d1.clear()\n",
    "print(d1)\n",
    "print(d2)"
   ]
  },
  {
   "cell_type": "markdown",
   "id": "1805324d-42af-476a-80a4-67123595fb13",
   "metadata": {},
   "source": [
    "$pop$-$popitem$-$del$"
   ]
  },
  {
   "cell_type": "code",
   "execution_count": 34,
   "id": "fcb13042-ac7a-4508-adc0-ec9dcb4fdfa0",
   "metadata": {},
   "outputs": [
    {
     "data": {
      "text/plain": [
       "20"
      ]
     },
     "execution_count": 34,
     "metadata": {},
     "output_type": "execute_result"
    }
   ],
   "source": [
    "d2.pop('a')"
   ]
  },
  {
   "cell_type": "code",
   "execution_count": 35,
   "id": "b24ed62e-2ae2-4f5f-bb06-09561f17be90",
   "metadata": {},
   "outputs": [
    {
     "data": {
      "text/plain": [
       "{'b': 30, 'c': 40, 'd': 500}"
      ]
     },
     "execution_count": 35,
     "metadata": {},
     "output_type": "execute_result"
    }
   ],
   "source": [
    "d2"
   ]
  },
  {
   "cell_type": "code",
   "execution_count": 36,
   "id": "85820165-8ea4-431d-8b6b-6eb86cc1c20a",
   "metadata": {},
   "outputs": [
    {
     "data": {
      "text/plain": [
       "('d', 500)"
      ]
     },
     "execution_count": 36,
     "metadata": {},
     "output_type": "execute_result"
    }
   ],
   "source": [
    "d2.popitem()"
   ]
  },
  {
   "cell_type": "code",
   "execution_count": 37,
   "id": "8edb6cef-fe4a-4dba-bc54-9e2f3f59f204",
   "metadata": {},
   "outputs": [
    {
     "data": {
      "text/plain": [
       "{'b': 30, 'c': 40}"
      ]
     },
     "execution_count": 37,
     "metadata": {},
     "output_type": "execute_result"
    }
   ],
   "source": [
    "d2"
   ]
  },
  {
   "cell_type": "code",
   "execution_count": 38,
   "id": "6410db01-5568-4f6f-85ca-11929203080c",
   "metadata": {},
   "outputs": [],
   "source": [
    "del d2['c']"
   ]
  },
  {
   "cell_type": "code",
   "execution_count": 39,
   "id": "c19978c3-e1bc-4912-96c4-6f6c0b38e840",
   "metadata": {},
   "outputs": [
    {
     "data": {
      "text/plain": [
       "{'b': 30}"
      ]
     },
     "execution_count": 39,
     "metadata": {},
     "output_type": "execute_result"
    }
   ],
   "source": [
    "d2"
   ]
  },
  {
   "cell_type": "markdown",
   "id": "49e823cd-ecfd-477c-ad20-cc5bee9750d3",
   "metadata": {},
   "source": [
    "$fromkeys$-$get$"
   ]
  },
  {
   "cell_type": "code",
   "execution_count": 43,
   "id": "c0e7ac79-06fe-4338-81a2-3fd152592ba8",
   "metadata": {},
   "outputs": [
    {
     "data": {
      "text/plain": [
       "20"
      ]
     },
     "execution_count": 43,
     "metadata": {},
     "output_type": "execute_result"
    }
   ],
   "source": [
    "d1 = {'a':20,'b':30,'c':40,'d':500}\n",
    "d1.get('a')"
   ]
  },
  {
   "cell_type": "code",
   "execution_count": 45,
   "id": "248e2883-44dd-44c9-8ca8-c012a528e73e",
   "metadata": {},
   "outputs": [],
   "source": [
    "d1.get('z')"
   ]
  },
  {
   "cell_type": "code",
   "execution_count": 61,
   "id": "50d4ccd7-5e0b-4da8-afee-afce0fc3a399",
   "metadata": {},
   "outputs": [
    {
     "data": {
      "text/plain": [
       "{'A': 1234, 'B': 1234, 'V': 1234, 'D': 1234, 'E': 1234, 'R': 1234}"
      ]
     },
     "execution_count": 61,
     "metadata": {},
     "output_type": "execute_result"
    }
   ],
   "source": [
    "d2 = d1.fromkeys('ABVDER', 1234)\n",
    "d2"
   ]
  },
  {
   "cell_type": "code",
   "execution_count": 62,
   "id": "779cfdaf-4b38-4342-8f93-a1058a858b5d",
   "metadata": {},
   "outputs": [
    {
     "data": {
      "text/plain": [
       "{'a': 20, 'b': 30, 'c': 40, 'd': 500}"
      ]
     },
     "execution_count": 62,
     "metadata": {},
     "output_type": "execute_result"
    }
   ],
   "source": [
    "d1"
   ]
  },
  {
   "cell_type": "code",
   "execution_count": 67,
   "id": "bd704f2f-de7d-47ed-b2a9-ab540954d547",
   "metadata": {},
   "outputs": [
    {
     "data": {
      "text/plain": [
       "{'a': 100, 's': 100, 'd': 100}"
      ]
     },
     "execution_count": 67,
     "metadata": {},
     "output_type": "execute_result"
    }
   ],
   "source": [
    "d3={}.fromkeys('asdasd',100)\n",
    "d3"
   ]
  },
  {
   "cell_type": "code",
   "execution_count": 69,
   "id": "320cceb8-0755-4cf4-a87f-d00d973a772c",
   "metadata": {},
   "outputs": [
    {
     "data": {
      "text/plain": [
       "{1: 'odd', 3: 'odd', 5: 'odd'}"
      ]
     },
     "execution_count": 69,
     "metadata": {},
     "output_type": "execute_result"
    }
   ],
   "source": [
    "d4 = {}.fromkeys([1,3,5],'odd')\n",
    "d4"
   ]
  },
  {
   "cell_type": "markdown",
   "id": "add83f80-e637-4fce-9a77-20bea61e0cd5",
   "metadata": {},
   "source": [
    "$setdefault$"
   ]
  },
  {
   "cell_type": "code",
   "execution_count": 83,
   "id": "9782d99c-5f04-40ac-b70f-04532a81f6c3",
   "metadata": {},
   "outputs": [
    {
     "data": {
      "text/plain": [
       "{'a': 20, 'b': 30, 'c': 40, 'd': 500, 'e': 540}"
      ]
     },
     "execution_count": 83,
     "metadata": {},
     "output_type": "execute_result"
    }
   ],
   "source": [
    "d1 = {'a':20,'b':30,'c':40,'d':500}\n",
    "d1.setdefault('e',540)\n",
    "d1"
   ]
  },
  {
   "cell_type": "code",
   "execution_count": 85,
   "id": "fcf4c37d-fecf-4f5b-a567-41419ce3b54c",
   "metadata": {},
   "outputs": [
    {
     "data": {
      "text/plain": [
       "{'nareshit': 'Ds', 'city': None}"
      ]
     },
     "execution_count": 85,
     "metadata": {},
     "output_type": "execute_result"
    }
   ],
   "source": [
    "d6 = {}\n",
    "d6.setdefault('nareshit','Ds')\n",
    "d6.setdefault('city')\n",
    "d6"
   ]
  },
  {
   "cell_type": "code",
   "execution_count": 91,
   "id": "de0e2138-f1d7-423e-85c2-523ce0e9244b",
   "metadata": {},
   "outputs": [
    {
     "ename": "KeyError",
     "evalue": "'city'",
     "output_type": "error",
     "traceback": [
      "\u001b[1;31m---------------------------------------------------------------------------\u001b[0m",
      "\u001b[1;31mKeyError\u001b[0m                                  Traceback (most recent call last)",
      "Cell \u001b[1;32mIn[91], line 3\u001b[0m\n\u001b[0;32m      1\u001b[0m d2 \u001b[38;5;241m=\u001b[39m {}\n\u001b[0;32m      2\u001b[0m d2[\u001b[38;5;124m'\u001b[39m\u001b[38;5;124mnareshit\u001b[39m\u001b[38;5;124m'\u001b[39m] \u001b[38;5;241m=\u001b[39m \u001b[38;5;124m'\u001b[39m\u001b[38;5;124mDs\u001b[39m\u001b[38;5;124m'\u001b[39m\n\u001b[1;32m----> 3\u001b[0m d2[\u001b[38;5;124m'\u001b[39m\u001b[38;5;124mcity\u001b[39m\u001b[38;5;124m'\u001b[39m]\n",
      "\u001b[1;31mKeyError\u001b[0m: 'city'"
     ]
    }
   ],
   "source": [
    "d2 = {}\n",
    "d2['nareshit'] = 'Ds'\n",
    "d2['city']"
   ]
  },
  {
   "cell_type": "code",
   "execution_count": 101,
   "id": "a7cd46ff-e5d6-469b-afaa-75ad2863fc18",
   "metadata": {},
   "outputs": [
    {
     "name": "stdout",
     "output_type": "stream",
     "text": [
      "{'a': 20, 'b': 70, 'c': 40, 'd': 500, 'e': 445}\n"
     ]
    }
   ],
   "source": [
    "d1 = {'a':20,'b':30,'c':40,'d':500}\n",
    "d2 = {'b' :70,'e':445}\n",
    "d1.update(d2)\n",
    "print(d1)"
   ]
  },
  {
   "cell_type": "code",
   "execution_count": 102,
   "id": "2070f5f8-0279-427e-acc5-db0976531fbd",
   "metadata": {},
   "outputs": [
    {
     "name": "stdout",
     "output_type": "stream",
     "text": [
      "{'b': 30, 'e': 445, 'a': 20, 'c': 40, 'd': 500}\n"
     ]
    }
   ],
   "source": [
    "d1 = {'a':20,'b':30,'c':40,'d':500}\n",
    "d2 = {'b' :70,'e':445}\n",
    "d2.update(d1)\n",
    "print(d2)"
   ]
  },
  {
   "cell_type": "code",
   "execution_count": 104,
   "id": "5f9cf859-c5cd-4ff2-8903-eebd2abd6f11",
   "metadata": {},
   "outputs": [
    {
     "data": {
      "text/plain": [
       "{1: 4, 2: 3}"
      ]
     },
     "execution_count": 104,
     "metadata": {},
     "output_type": "execute_result"
    }
   ],
   "source": [
    "t1 = [(1,4),(2,3)]\n",
    "d1 = {}\n",
    "d1.update(t1)\n",
    "d1"
   ]
  },
  {
   "cell_type": "code",
   "execution_count": null,
   "id": "051b1408-69b6-4cb2-a9a1-1aadc12607b2",
   "metadata": {},
   "outputs": [],
   "source": []
  },
  {
   "cell_type": "code",
   "execution_count": null,
   "id": "d4c1bda9-3704-44ce-983c-f7e7609239bf",
   "metadata": {},
   "outputs": [],
   "source": []
  },
  {
   "cell_type": "code",
   "execution_count": null,
   "id": "cf2c8bc1-f106-4405-b218-45d83f9c166f",
   "metadata": {},
   "outputs": [],
   "source": []
  },
  {
   "cell_type": "code",
   "execution_count": null,
   "id": "cd6fbbd1-ae67-4d9e-b342-b6254207fe13",
   "metadata": {},
   "outputs": [],
   "source": []
  },
  {
   "cell_type": "code",
   "execution_count": null,
   "id": "b87718d3-da61-40d6-8634-5940611072a2",
   "metadata": {},
   "outputs": [],
   "source": []
  }
 ],
 "metadata": {
  "kernelspec": {
   "display_name": "Python [conda env:base] *",
   "language": "python",
   "name": "conda-base-py"
  },
  "language_info": {
   "codemirror_mode": {
    "name": "ipython",
    "version": 3
   },
   "file_extension": ".py",
   "mimetype": "text/x-python",
   "name": "python",
   "nbconvert_exporter": "python",
   "pygments_lexer": "ipython3",
   "version": "3.12.3"
  }
 },
 "nbformat": 4,
 "nbformat_minor": 5
}
