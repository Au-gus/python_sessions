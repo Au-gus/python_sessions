{
 "cells": [
  {
   "cell_type": "code",
   "execution_count": 3,
   "id": "70a147d2-780e-4f11-bfa8-85c1c5f4c8a0",
   "metadata": {},
   "outputs": [],
   "source": [
    "list1 = ['Ram', 'Raheem', 'Robert']\n",
    "\n",
    "list2 = [25,30,35]"
   ]
  },
  {
   "cell_type": "code",
   "execution_count": 4,
   "id": "0866961f-0585-4fb4-b3ac-b2a70ea502c9",
   "metadata": {},
   "outputs": [
    {
     "name": "stdout",
     "output_type": "stream",
     "text": [
      "Ram 25\n",
      "Raheem 30\n",
      "Robert 35\n"
     ]
    }
   ],
   "source": [
    "for i,j in zip(list1,list2):\n",
    "    print(i,j)"
   ]
  },
  {
   "cell_type": "code",
   "execution_count": null,
   "id": "1054bb36-0454-49a2-a384-fd243016182f",
   "metadata": {},
   "outputs": [],
   "source": [
    "# {\"key':value}"
   ]
  },
  {
   "cell_type": "code",
   "execution_count": 5,
   "id": "3f191ab5-fa49-4a07-83bb-388458f23636",
   "metadata": {},
   "outputs": [
    {
     "data": {
      "text/plain": [
       "{'Ram': 25, 'Raheem': 30, 'Robert': 35}"
      ]
     },
     "execution_count": 5,
     "metadata": {},
     "output_type": "execute_result"
    }
   ],
   "source": [
    "{'Ram':25,'Raheem':30,'Robert':35}"
   ]
  },
  {
   "cell_type": "code",
   "execution_count": 6,
   "id": "021dcd4a-f7c6-43d8-91b3-bfa76815aa88",
   "metadata": {},
   "outputs": [
    {
     "data": {
      "text/plain": [
       "{'Ram': 25, 'Raheem': 30, 'Robert': 35}"
      ]
     },
     "execution_count": 6,
     "metadata": {},
     "output_type": "execute_result"
    }
   ],
   "source": [
    "d1 = {'Ram':25,\n",
    "      'Raheem':30,\n",
    "      'Robert':35}\n",
    "d1"
   ]
  },
  {
   "cell_type": "code",
   "execution_count": 7,
   "id": "bc1ed616-821f-4dd9-8760-bb47cf8805b5",
   "metadata": {},
   "outputs": [
    {
     "data": {
      "text/plain": [
       "{25: 'Ram', 30: 'Raheem', 35: 'Robert'}"
      ]
     },
     "execution_count": 7,
     "metadata": {},
     "output_type": "execute_result"
    }
   ],
   "source": [
    "d2 = {25:'Ram',\n",
    "      30:'Raheem',\n",
    "      35:'Robert'}\n",
    "d2"
   ]
  },
  {
   "cell_type": "code",
   "execution_count": 8,
   "id": "34f7f99a-8619-4a38-82af-f0847f7c7d75",
   "metadata": {},
   "outputs": [
    {
     "data": {
      "text/plain": [
       "{'even': [2, 4, 6], 'odd': [3, 5, 7]}"
      ]
     },
     "execution_count": 8,
     "metadata": {},
     "output_type": "execute_result"
    }
   ],
   "source": [
    "d3 = {'even':[2,4,6],\n",
    "      'odd':[3,5,7]}\n",
    "d3"
   ]
  },
  {
   "cell_type": "code",
   "execution_count": 9,
   "id": "7ed09527-6e22-4cf4-bd44-ccf705c178b2",
   "metadata": {},
   "outputs": [
    {
     "ename": "TypeError",
     "evalue": "unhashable type: 'list'",
     "output_type": "error",
     "traceback": [
      "\u001b[1;31m---------------------------------------------------------------------------\u001b[0m",
      "\u001b[1;31mTypeError\u001b[0m                                 Traceback (most recent call last)",
      "Cell \u001b[1;32mIn[9], line 1\u001b[0m\n\u001b[1;32m----> 1\u001b[0m d4 \u001b[38;5;241m=\u001b[39m {[\u001b[38;5;241m2\u001b[39m,\u001b[38;5;241m4\u001b[39m,\u001b[38;5;241m6\u001b[39m]: \u001b[38;5;124m'\u001b[39m\u001b[38;5;124meven\u001b[39m\u001b[38;5;124m'\u001b[39m,\n\u001b[0;32m      2\u001b[0m       [\u001b[38;5;241m3\u001b[39m,\u001b[38;5;241m5\u001b[39m,\u001b[38;5;241m7\u001b[39m]: \u001b[38;5;124m'\u001b[39m\u001b[38;5;124modd\u001b[39m\u001b[38;5;124m'\u001b[39m}\n\u001b[0;32m      3\u001b[0m d4\n",
      "\u001b[1;31mTypeError\u001b[0m: unhashable type: 'list'"
     ]
    }
   ],
   "source": [
    "d4 = {[2,4,6]: 'even',\n",
    "      [3,5,7]: 'odd'}\n",
    "d4"
   ]
  },
  {
   "cell_type": "code",
   "execution_count": 11,
   "id": "3b8e824d-2448-4bee-96bf-3be8dd97b1f0",
   "metadata": {},
   "outputs": [
    {
     "data": {
      "text/plain": [
       "{(2, 4, 6): 'even', (3, 5, 7): 'odd'}"
      ]
     },
     "execution_count": 11,
     "metadata": {},
     "output_type": "execute_result"
    }
   ],
   "source": [
    "d5 = {(2,4,6): 'even',\n",
    "      (3,5,7): 'odd'}\n",
    "d5"
   ]
  },
  {
   "cell_type": "code",
   "execution_count": 13,
   "id": "26e52693-e07c-424a-ba47-f1faa77ba3d4",
   "metadata": {},
   "outputs": [
    {
     "ename": "SyntaxError",
     "evalue": "invalid syntax (571394357.py, line 1)",
     "output_type": "error",
     "traceback": [
      "\u001b[1;36m  Cell \u001b[1;32mIn[13], line 1\u001b[1;36m\u001b[0m\n\u001b[1;33m    d6 = {2,4,6: 'even',\u001b[0m\n\u001b[1;37m               ^\u001b[0m\n\u001b[1;31mSyntaxError\u001b[0m\u001b[1;31m:\u001b[0m invalid syntax\n"
     ]
    }
   ],
   "source": [
    "d6 = {2,4,6: 'even',\n",
    "      3,5,7: 'odd'}\n",
    "d6"
   ]
  },
  {
   "cell_type": "code",
   "execution_count": 15,
   "id": "9839ef83-6c5c-4c2d-8864-36323af1cbce",
   "metadata": {},
   "outputs": [
    {
     "data": {
      "text/plain": [
       "{'item_list': {'fruiits': 'Apple'}}"
      ]
     },
     "execution_count": 15,
     "metadata": {},
     "output_type": "execute_result"
    }
   ],
   "source": [
    "d7 = {'item_list':{'fruiits':'Apple'}}\n",
    "d7"
   ]
  },
  {
   "cell_type": "code",
   "execution_count": 16,
   "id": "76bb9898-9fc1-4fd4-a099-2daef6db329b",
   "metadata": {},
   "outputs": [
    {
     "ename": "TypeError",
     "evalue": "unhashable type: 'dict'",
     "output_type": "error",
     "traceback": [
      "\u001b[1;31m---------------------------------------------------------------------------\u001b[0m",
      "\u001b[1;31mTypeError\u001b[0m                                 Traceback (most recent call last)",
      "Cell \u001b[1;32mIn[16], line 1\u001b[0m\n\u001b[1;32m----> 1\u001b[0m d7 \u001b[38;5;241m=\u001b[39m {{\u001b[38;5;124m'\u001b[39m\u001b[38;5;124mfruiits\u001b[39m\u001b[38;5;124m'\u001b[39m:\u001b[38;5;124m'\u001b[39m\u001b[38;5;124mApple\u001b[39m\u001b[38;5;124m'\u001b[39m}:\u001b[38;5;124m'\u001b[39m\u001b[38;5;124mitem_list\u001b[39m\u001b[38;5;124m'\u001b[39m}\n\u001b[0;32m      2\u001b[0m d7\n",
      "\u001b[1;31mTypeError\u001b[0m: unhashable type: 'dict'"
     ]
    }
   ],
   "source": [
    "d7 = {{'fruiits':'Apple'}:'item_list'}\n",
    "d7"
   ]
  },
  {
   "cell_type": "code",
   "execution_count": 19,
   "id": "e80a7aa9-8ae6-46a4-8e85-afd5c51aac75",
   "metadata": {},
   "outputs": [],
   "source": [
    "a = [1,2]\n",
    "b = (1,2)"
   ]
  },
  {
   "cell_type": "code",
   "execution_count": 29,
   "id": "2d119f5d-27b9-419a-9004-89dc75a8ea70",
   "metadata": {},
   "outputs": [
    {
     "data": {
      "text/plain": [
       "2"
      ]
     },
     "execution_count": 29,
     "metadata": {},
     "output_type": "execute_result"
    }
   ],
   "source": [
    "a,b = [1,2]\n",
    "c,d=(1,2)\n",
    "d"
   ]
  },
  {
   "cell_type": "code",
   "execution_count": 30,
   "id": "97a3cfd4-9579-4f61-b3af-8a3a15e9ad66",
   "metadata": {},
   "outputs": [
    {
     "data": {
      "text/plain": [
       "(1, 2)"
      ]
     },
     "execution_count": 30,
     "metadata": {},
     "output_type": "execute_result"
    }
   ],
   "source": [
    "a=1,2\n",
    "a"
   ]
  },
  {
   "cell_type": "code",
   "execution_count": 35,
   "id": "faa3b5d7-6b4f-44cd-b038-593c59926311",
   "metadata": {},
   "outputs": [
    {
     "data": {
      "text/plain": [
       "{'a': 1, 'b': 2}"
      ]
     },
     "execution_count": 35,
     "metadata": {},
     "output_type": "execute_result"
    }
   ],
   "source": [
    "d1={'a':1,'b':2,'a':1,'b':2}\n",
    "d1"
   ]
  },
  {
   "cell_type": "code",
   "execution_count": 37,
   "id": "41bdf63d-a78a-4f6a-bb36-d28963588d69",
   "metadata": {},
   "outputs": [
    {
     "data": {
      "text/plain": [
       "{'a': 2, 'b': 1}"
      ]
     },
     "execution_count": 37,
     "metadata": {},
     "output_type": "execute_result"
    }
   ],
   "source": [
    "d1={'a':1,'b':2,'a':2,'b':1}\n",
    "d1\n",
    "\n",
    "#step by step lol"
   ]
  },
  {
   "cell_type": "code",
   "execution_count": 38,
   "id": "da105214-39e7-48ab-a249-05c7b16ac37b",
   "metadata": {},
   "outputs": [
    {
     "data": {
      "text/plain": [
       "dict"
      ]
     },
     "execution_count": 38,
     "metadata": {},
     "output_type": "execute_result"
    }
   ],
   "source": [
    "type(d1)"
   ]
  },
  {
   "cell_type": "code",
   "execution_count": 39,
   "id": "16529209-4836-4342-88e9-e70e80b4688a",
   "metadata": {},
   "outputs": [
    {
     "data": {
      "text/plain": [
       "'Robert'"
      ]
     },
     "execution_count": 39,
     "metadata": {},
     "output_type": "execute_result"
    }
   ],
   "source": [
    "d1 = {'Ram':25,\n",
    "      'Raheem':30,\n",
    "      'Robert':35}\n",
    "max(d1)"
   ]
  },
  {
   "cell_type": "code",
   "execution_count": 40,
   "id": "c8969cb4-cb39-471b-9a67-8fa5d11e2fd2",
   "metadata": {},
   "outputs": [
    {
     "data": {
      "text/plain": [
       "35"
      ]
     },
     "execution_count": 40,
     "metadata": {},
     "output_type": "execute_result"
    }
   ],
   "source": [
    "d2 = {25:'Ram',\n",
    "      30:'Raheem',\n",
    "      35:'Robert'}\n",
    "max(d2)"
   ]
  },
  {
   "cell_type": "code",
   "execution_count": 43,
   "id": "7891a6c5-d511-4c08-894f-fa904f4ea504",
   "metadata": {},
   "outputs": [
    {
     "data": {
      "text/plain": [
       "25"
      ]
     },
     "execution_count": 43,
     "metadata": {},
     "output_type": "execute_result"
    }
   ],
   "source": [
    "d2 = {25:'Ram',\n",
    "      30:'Raheem',\n",
    "      35:'Robert'}\n",
    "min(d2)"
   ]
  },
  {
   "cell_type": "code",
   "execution_count": 44,
   "id": "8694a8f9-17af-45cc-8dd2-befdc2e24926",
   "metadata": {},
   "outputs": [
    {
     "data": {
      "text/plain": [
       "3"
      ]
     },
     "execution_count": 44,
     "metadata": {},
     "output_type": "execute_result"
    }
   ],
   "source": [
    "len(d1)"
   ]
  },
  {
   "cell_type": "code",
   "execution_count": 45,
   "id": "43660901-f9d0-4c8e-ad5a-7adf25ce6e5b",
   "metadata": {},
   "outputs": [
    {
     "ename": "TypeError",
     "evalue": "unsupported operand type(s) for +: 'int' and 'str'",
     "output_type": "error",
     "traceback": [
      "\u001b[1;31m---------------------------------------------------------------------------\u001b[0m",
      "\u001b[1;31mTypeError\u001b[0m                                 Traceback (most recent call last)",
      "Cell \u001b[1;32mIn[45], line 1\u001b[0m\n\u001b[1;32m----> 1\u001b[0m \u001b[38;5;28msum\u001b[39m(d1)\n",
      "\u001b[1;31mTypeError\u001b[0m: unsupported operand type(s) for +: 'int' and 'str'"
     ]
    }
   ],
   "source": [
    "sum(d1)"
   ]
  },
  {
   "cell_type": "code",
   "execution_count": 47,
   "id": "d2a833fe-ef5a-4ac5-87f7-9ed956e33086",
   "metadata": {},
   "outputs": [
    {
     "data": {
      "text/plain": [
       "4"
      ]
     },
     "execution_count": 47,
     "metadata": {},
     "output_type": "execute_result"
    }
   ],
   "source": [
    "d0={1:2,\n",
    "    3:4}\n",
    "sum(d0)"
   ]
  },
  {
   "cell_type": "code",
   "execution_count": 51,
   "id": "6552ea2b-5b3b-4362-aa50-feb2ce6504f7",
   "metadata": {},
   "outputs": [
    {
     "data": {
      "text/plain": [
       "6"
      ]
     },
     "execution_count": 51,
     "metadata": {},
     "output_type": "execute_result"
    }
   ],
   "source": [
    "d01={2:1,\n",
    "     4:3}\n",
    "sum(d01)"
   ]
  },
  {
   "cell_type": "code",
   "execution_count": 52,
   "id": "6e2ef28b-e926-47c7-b9d4-57a968ec3ede",
   "metadata": {},
   "outputs": [
    {
     "ename": "SyntaxError",
     "evalue": "illegal target for annotation (3288703752.py, line 4)",
     "output_type": "error",
     "traceback": [
      "\u001b[1;36m  Cell \u001b[1;32mIn[52], line 4\u001b[1;36m\u001b[0m\n\u001b[1;33m    'Ram':25 in d1\u001b[0m\n\u001b[1;37m    ^\u001b[0m\n\u001b[1;31mSyntaxError\u001b[0m\u001b[1;31m:\u001b[0m illegal target for annotation\n"
     ]
    }
   ],
   "source": [
    "d1 = {'Ram':25,\n",
    "      'Raheem':30,\n",
    "      'Robert':35}\n",
    "'Ram':25 in d1"
   ]
  },
  {
   "cell_type": "code",
   "execution_count": 55,
   "id": "356bff0a-e46d-4fbc-99da-53245091bf67",
   "metadata": {},
   "outputs": [
    {
     "data": {
      "text/plain": [
       "True"
      ]
     },
     "execution_count": 55,
     "metadata": {},
     "output_type": "execute_result"
    }
   ],
   "source": [
    "d1 = {'Ram':25,\n",
    "      'Raheem':30,\n",
    "      'Robert':35}\n",
    "'Ram' in d1"
   ]
  },
  {
   "cell_type": "code",
   "execution_count": 58,
   "id": "ff7450f6-9ddb-477e-8dbe-fb893e1f828c",
   "metadata": {},
   "outputs": [
    {
     "name": "stdout",
     "output_type": "stream",
     "text": [
      "Ram\n",
      "Raheem\n",
      "Robert\n"
     ]
    }
   ],
   "source": [
    "for i in d1:\n",
    "    print(i)"
   ]
  },
  {
   "cell_type": "code",
   "execution_count": 61,
   "id": "96acfaa6-f424-47b2-9df2-0277fe323bb6",
   "metadata": {},
   "outputs": [
    {
     "ename": "KeyError",
     "evalue": "0",
     "output_type": "error",
     "traceback": [
      "\u001b[1;31m---------------------------------------------------------------------------\u001b[0m",
      "\u001b[1;31mKeyError\u001b[0m                                  Traceback (most recent call last)",
      "Cell \u001b[1;32mIn[61], line 4\u001b[0m\n\u001b[0;32m      1\u001b[0m d1 \u001b[38;5;241m=\u001b[39m {\u001b[38;5;124m'\u001b[39m\u001b[38;5;124mRam\u001b[39m\u001b[38;5;124m'\u001b[39m:\u001b[38;5;241m25\u001b[39m,\n\u001b[0;32m      2\u001b[0m       \u001b[38;5;124m'\u001b[39m\u001b[38;5;124mRaheem\u001b[39m\u001b[38;5;124m'\u001b[39m:\u001b[38;5;241m30\u001b[39m,\n\u001b[0;32m      3\u001b[0m       \u001b[38;5;124m'\u001b[39m\u001b[38;5;124mRobert\u001b[39m\u001b[38;5;124m'\u001b[39m:\u001b[38;5;241m35\u001b[39m}\n\u001b[1;32m----> 4\u001b[0m d1[\u001b[38;5;241m0\u001b[39m]\n",
      "\u001b[1;31mKeyError\u001b[0m: 0"
     ]
    }
   ],
   "source": [
    "d1 = {'Ram':25,\n",
    "      'Raheem':30,\n",
    "      'Robert':35}\n",
    "d1[0]"
   ]
  },
  {
   "cell_type": "code",
   "execution_count": 62,
   "id": "d86fa79d-9dea-41c6-b8a8-7db52d1ce55e",
   "metadata": {},
   "outputs": [
    {
     "data": {
      "text/plain": [
       "25"
      ]
     },
     "execution_count": 62,
     "metadata": {},
     "output_type": "execute_result"
    }
   ],
   "source": [
    "d1 = {'Ram':25,\n",
    "      'Raheem':30,\n",
    "      'Robert':35}\n",
    "d1['Ram']"
   ]
  },
  {
   "cell_type": "code",
   "execution_count": 65,
   "id": "c23a6976-9964-482f-acc1-6edee14d5d43",
   "metadata": {},
   "outputs": [
    {
     "name": "stdout",
     "output_type": "stream",
     "text": [
      "Ram 25\n",
      "Raheem 30\n",
      "Robert 35\n"
     ]
    }
   ],
   "source": [
    "for i in d1:\n",
    "    print(i,d1[i])"
   ]
  },
  {
   "cell_type": "code",
   "execution_count": 64,
   "id": "bf62b306-16db-457c-935c-789f151f9bb2",
   "metadata": {},
   "outputs": [
    {
     "name": "stdout",
     "output_type": "stream",
     "text": [
      "The age of Ram is 25\n",
      "The age of Raheem is 30\n",
      "The age of Robert is 35\n"
     ]
    }
   ],
   "source": [
    "for i in d1:\n",
    "    print(\"The age of {} is {}\".format(i,d1[i]))"
   ]
  },
  {
   "cell_type": "code",
   "execution_count": 69,
   "id": "6b4555b8-5646-4fea-97d1-48bd87639554",
   "metadata": {},
   "outputs": [
    {
     "name": "stdout",
     "output_type": "stream",
     "text": [
      "0\n",
      "1\n",
      "2\n"
     ]
    }
   ],
   "source": [
    "for i in range(len(d1)):\n",
    "    print(i)\n",
    "    #print(i,d1[i])"
   ]
  },
  {
   "cell_type": "markdown",
   "id": "585e43b1-024d-44e0-a202-e6fbcf2c35e0",
   "metadata": {},
   "source": [
    "**Creating an empty dictionary and update**"
   ]
  },
  {
   "cell_type": "code",
   "execution_count": 71,
   "id": "08ac7b9b-a7a7-476c-bf90-8de06181a495",
   "metadata": {},
   "outputs": [
    {
     "name": "stdout",
     "output_type": "stream",
     "text": [
      "apple\n"
     ]
    }
   ],
   "source": [
    "s = ''\n",
    "for i in 'apple':\n",
    "    s = s + i\n",
    "print(s)"
   ]
  },
  {
   "cell_type": "code",
   "execution_count": 76,
   "id": "25031fe2-9683-4038-bd15-6d81a9d6a86e",
   "metadata": {},
   "outputs": [
    {
     "name": "stdout",
     "output_type": "stream",
     "text": [
      "[0, 1, 2, 3, 4, 5, 6, 7, 8, 9]\n",
      "[0]\n",
      "[0, 1]\n",
      "[0, 1, 2]\n",
      "[0, 1, 2, 3]\n",
      "[0, 1, 2, 3, 4]\n",
      "[0, 1, 2, 3, 4, 5]\n",
      "[0, 1, 2, 3, 4, 5, 6]\n",
      "[0, 1, 2, 3, 4, 5, 6, 7]\n",
      "[0, 1, 2, 3, 4, 5, 6, 7, 8]\n",
      "[0, 1, 2, 3, 4, 5, 6, 7, 8, 9]\n"
     ]
    }
   ],
   "source": [
    "l = [i for i in range(10)]\n",
    "print(l)\n",
    "\n",
    "l =[]\n",
    "for i in range(10):\n",
    "    l.append(i)\n",
    "    print(l)"
   ]
  },
  {
   "cell_type": "code",
   "execution_count": 78,
   "id": "e6a1e804-879d-450a-a08f-edda89847c4f",
   "metadata": {},
   "outputs": [
    {
     "data": {
      "text/plain": [
       "{'fruit': 'Apple'}"
      ]
     },
     "execution_count": 78,
     "metadata": {},
     "output_type": "execute_result"
    }
   ],
   "source": [
    "d1={}\n",
    "d1['fruit']='Apple'\n",
    "d1"
   ]
  },
  {
   "cell_type": "code",
   "execution_count": 79,
   "id": "08de3218-50ae-43b2-8fdf-e5966a442925",
   "metadata": {},
   "outputs": [
    {
     "ename": "TypeError",
     "evalue": "unhashable type: 'list'",
     "output_type": "error",
     "traceback": [
      "\u001b[1;31m---------------------------------------------------------------------------\u001b[0m",
      "\u001b[1;31mTypeError\u001b[0m                                 Traceback (most recent call last)",
      "Cell \u001b[1;32mIn[79], line 2\u001b[0m\n\u001b[0;32m      1\u001b[0m d2\u001b[38;5;241m=\u001b[39m{}\n\u001b[1;32m----> 2\u001b[0m d2[[\u001b[38;5;241m1\u001b[39m,\u001b[38;5;241m3\u001b[39m,\u001b[38;5;241m7\u001b[39m]]\u001b[38;5;241m=\u001b[39m\u001b[38;5;124m'\u001b[39m\u001b[38;5;124modd\u001b[39m\u001b[38;5;124m'\u001b[39m\n\u001b[0;32m      3\u001b[0m d2\n",
      "\u001b[1;31mTypeError\u001b[0m: unhashable type: 'list'"
     ]
    }
   ],
   "source": [
    "d2={}\n",
    "d2[[1,3,7]]='odd'\n",
    "d2"
   ]
  },
  {
   "cell_type": "code",
   "execution_count": null,
   "id": "09e488c0-6d9b-4c40-bab6-7b8ff6321bb0",
   "metadata": {},
   "outputs": [],
   "source": [
    "# WAP create a dictionary based on 2 lits\n",
    "# names=['ram','rahem','robert']\n",
    "# age=[25,30,35]"
   ]
  },
  {
   "cell_type": "code",
   "execution_count": 90,
   "id": "ee3be819-04dc-4589-ac92-8b8bfca950e3",
   "metadata": {},
   "outputs": [
    {
     "data": {
      "text/plain": [
       "{'Ram': 25, 'Raheem': 30, 'Robert': 35}"
      ]
     },
     "execution_count": 90,
     "metadata": {},
     "output_type": "execute_result"
    }
   ],
   "source": [
    "names=['Ram','Raheem','Robert']\n",
    "age=[25,30,35]\n",
    "dict1={}\n",
    "for i,j in zip(names,age):\n",
    "    dict1[i]=j\n",
    "dict1"
   ]
  },
  {
   "cell_type": "code",
   "execution_count": 91,
   "id": "58405cf3-7e1a-4a64-8e85-5dc1f51c8c4b",
   "metadata": {},
   "outputs": [
    {
     "data": {
      "text/plain": [
       "{'Ram': 25, 'Raheem': 30, 'Robert': 35}"
      ]
     },
     "execution_count": 91,
     "metadata": {},
     "output_type": "execute_result"
    }
   ],
   "source": [
    "for i in range(len(names)):\n",
    "    dict1[names[i]]=age[i]\n",
    "dict1"
   ]
  },
  {
   "cell_type": "code",
   "execution_count": 93,
   "id": "36183bf1-a574-4b33-88fc-06eafdc0febe",
   "metadata": {},
   "outputs": [
    {
     "data": {
      "text/plain": [
       "{'Ram': 25, 'Raheem': 30, 'Robert': 35}"
      ]
     },
     "execution_count": 93,
     "metadata": {},
     "output_type": "execute_result"
    }
   ],
   "source": [
    "dict1={names[i]:age[i] for i in range(len(names))}\n",
    "dict1"
   ]
  },
  {
   "cell_type": "code",
   "execution_count": 95,
   "id": "b44c3e60-c053-4ce6-b638-1f54031fab0e",
   "metadata": {},
   "outputs": [
    {
     "data": {
      "text/plain": [
       "('Ram', 25)"
      ]
     },
     "execution_count": 95,
     "metadata": {},
     "output_type": "execute_result"
    }
   ],
   "source": [
    "dict1={names:age for names,age in zip(names,age)}\n",
    "names[0],age[0]"
   ]
  },
  {
   "cell_type": "code",
   "execution_count": null,
   "id": "8116861c-a2cc-4ae0-a11c-9ba4732a0ea3",
   "metadata": {},
   "outputs": [],
   "source": [
    "# wAp take 5 random numbers\n",
    "# and creatw a dictionary with even or odd\n",
    "# output: {'even':[20,22],'odd':[18,21,23]}"
   ]
  },
  {
   "cell_type": "code",
   "execution_count": 103,
   "id": "91b2194a-2417-440d-987c-8d705448ffdf",
   "metadata": {},
   "outputs": [
    {
     "name": "stdout",
     "output_type": "stream",
     "text": [
      "5\n",
      "1\n",
      "34\n",
      "10\n",
      "4\n",
      "Output: {'even': [34, 10, 4], 'odd': [5, 1]}\n"
     ]
    }
   ],
   "source": [
    "import random\n",
    "dict1={}\n",
    "e_list=[]\n",
    "o_list=[]\n",
    "for i in range(5):\n",
    "    num = random.randint(1,50)\n",
    "    print(num)\n",
    "    if num%2==0:\n",
    "        e_list.append(num)\n",
    "    else:\n",
    "        o_list.append(num)\n",
    "dict1['even']=e_list\n",
    "dict1['odd']=o_list\n",
    "print(\"Output:\",dict1)"
   ]
  },
  {
   "cell_type": "code",
   "execution_count": 104,
   "id": "55864652-9f23-4084-a79f-eb1e4331447b",
   "metadata": {},
   "outputs": [
    {
     "name": "stdout",
     "output_type": "stream",
     "text": [
      "Numbers: [21, 20, 10, 25, 3]\n",
      "Output: {'even': [20, 10], 'odd': [21, 25, 3]}\n"
     ]
    }
   ],
   "source": [
    "import random\n",
    "num = [random.randint(1,30) for i in range(5)]\n",
    "output = {'even':[],'odd':[]}\n",
    "for i in num:\n",
    "    if i%2==0:\n",
    "        output['even'].append(i)\n",
    "    else:\n",
    "        output['odd'].append(i)\n",
    "print(\"Numbers:\",num)\n",
    "print(\"Output:\",output)"
   ]
  },
  {
   "cell_type": "code",
   "execution_count": null,
   "id": "1b88cc95-e11b-4364-9742-b13d892fed0a",
   "metadata": {},
   "outputs": [],
   "source": []
  },
  {
   "cell_type": "code",
   "execution_count": null,
   "id": "3d6f2d52-fa18-4329-bf95-6a3d0b90c950",
   "metadata": {},
   "outputs": [],
   "source": []
  },
  {
   "cell_type": "code",
   "execution_count": null,
   "id": "750e706d-785b-4d84-b979-996552018a67",
   "metadata": {},
   "outputs": [],
   "source": []
  },
  {
   "cell_type": "code",
   "execution_count": null,
   "id": "f8e180bd-6e6f-4dfd-a95f-4c08acb728d3",
   "metadata": {},
   "outputs": [],
   "source": []
  },
  {
   "cell_type": "code",
   "execution_count": null,
   "id": "5a6e6390-8f09-4c9b-b90e-79e8bfc895f3",
   "metadata": {},
   "outputs": [],
   "source": []
  },
  {
   "cell_type": "code",
   "execution_count": null,
   "id": "15c67b46-d0f4-4e8c-8af4-2fb94b23a73f",
   "metadata": {},
   "outputs": [],
   "source": []
  }
 ],
 "metadata": {
  "kernelspec": {
   "display_name": "Python [conda env:base] *",
   "language": "python",
   "name": "conda-base-py"
  },
  "language_info": {
   "codemirror_mode": {
    "name": "ipython",
    "version": 3
   },
   "file_extension": ".py",
   "mimetype": "text/x-python",
   "name": "python",
   "nbconvert_exporter": "python",
   "pygments_lexer": "ipython3",
   "version": "3.12.7"
  }
 },
 "nbformat": 4,
 "nbformat_minor": 5
}
