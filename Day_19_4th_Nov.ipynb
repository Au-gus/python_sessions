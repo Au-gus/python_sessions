{
 "cells": [
  {
   "cell_type": "markdown",
   "id": "f04bba81-42ce-40c7-9b1a-8850d77496fe",
   "metadata": {},
   "source": [
    "### $For$ $Loop$"
   ]
  },
  {
   "cell_type": "code",
   "execution_count": null,
   "id": "79470b9b-4fe5-477f-abd3-4a6f53bc996e",
   "metadata": {},
   "outputs": [],
   "source": [
    "# Print first 10 num\n",
    "# initial point: 0\n",
    "# increment\n",
    "# cond = 10"
   ]
  },
  {
   "cell_type": "code",
   "execution_count": 5,
   "id": "fe05a1b6-1254-4c51-a891-84eb9f3ca2ef",
   "metadata": {},
   "outputs": [
    {
     "name": "stdout",
     "output_type": "stream",
     "text": [
      "0\n",
      "1\n",
      "2\n",
      "3\n",
      "4\n",
      "5\n",
      "6\n",
      "7\n",
      "8\n",
      "9\n"
     ]
    }
   ],
   "source": [
    "for i in range(10):\n",
    "    print(i)\n",
    "\n",
    "# start = 0\n",
    "# direction = +\n",
    "# end = stop - 1 = 10 - 1 = 9"
   ]
  },
  {
   "cell_type": "code",
   "execution_count": 16,
   "id": "81a6e04c-8ac9-4c94-82c7-934686f730cb",
   "metadata": {},
   "outputs": [
    {
     "name": "stdout",
     "output_type": "stream",
     "text": [
      "0\n",
      "1\n",
      "2\n",
      "3\n",
      "4\n",
      "5\n",
      "6\n",
      "7\n",
      "8\n",
      "9\n",
      "10\n",
      "11\n",
      "12\n",
      "13\n",
      "14\n",
      "15\n",
      "16\n",
      "17\n",
      "18\n",
      "19\n"
     ]
    }
   ],
   "source": [
    "for i in range(20):\n",
    "    print(i)"
   ]
  },
  {
   "cell_type": "code",
   "execution_count": 18,
   "id": "8653bbc7-893f-4b16-9cbd-dfee3e2ab27a",
   "metadata": {},
   "outputs": [
    {
     "name": "stdout",
     "output_type": "stream",
     "text": [
      "0  1  2  "
     ]
    }
   ],
   "source": [
    "print(0,end='  ')\n",
    "print(1,end='  ')\n",
    "print(2,end='  ')"
   ]
  },
  {
   "cell_type": "code",
   "execution_count": 19,
   "id": "4933f41e-953b-4303-84c2-4d017b32e559",
   "metadata": {},
   "outputs": [
    {
     "name": "stdout",
     "output_type": "stream",
     "text": [
      "0 1 2 3 4 5 6 7 8 9 10 11 12 13 14 15 16 17 18 19 "
     ]
    }
   ],
   "source": [
    "for i in range(20):\n",
    "    print(i, end = ' ')"
   ]
  },
  {
   "cell_type": "code",
   "execution_count": 21,
   "id": "66631d59-bca8-4ccc-903a-461f69055f68",
   "metadata": {},
   "outputs": [
    {
     "name": "stdout",
     "output_type": "stream",
     "text": [
      "10 11 12 13 14 15 16 17 18 19 20 21 22 23 24 25 26 27 28 "
     ]
    }
   ],
   "source": [
    "for i in range(10,29):\n",
    "    print(i, end = ' ')"
   ]
  },
  {
   "cell_type": "code",
   "execution_count": 33,
   "id": "dd3f7ade-3cc0-40d7-9af4-d770783d52d0",
   "metadata": {},
   "outputs": [
    {
     "name": "stdout",
     "output_type": "stream",
     "text": [
      "1 3 5 7 9 11 13 15 17 19 21 23 25 27 "
     ]
    }
   ],
   "source": [
    "for i in range(1,29,2):\n",
    "    print(i, end = ' ')"
   ]
  },
  {
   "cell_type": "code",
   "execution_count": 34,
   "id": "27598867-2ae2-452f-a83a-76a5ca463ef6",
   "metadata": {},
   "outputs": [
    {
     "name": "stdout",
     "output_type": "stream",
     "text": [
      "-1 -3 -5 -7 -9 "
     ]
    }
   ],
   "source": [
    "for i in range(-1,-10,-2):\n",
    "    print(i, end = ' ')"
   ]
  },
  {
   "cell_type": "code",
   "execution_count": 37,
   "id": "2564f8b3-3c2b-4b96-8b51-16e72c945423",
   "metadata": {},
   "outputs": [],
   "source": [
    "for i in range(8,20,-1):\n",
    "    print(i)\n",
    "\n",
    "### Error cuz it doesn't go in positive direction"
   ]
  },
  {
   "cell_type": "code",
   "execution_count": null,
   "id": "524f6486-72b8-43c8-917b-243f3175d838",
   "metadata": {},
   "outputs": [],
   "source": []
  }
 ],
 "metadata": {
  "kernelspec": {
   "display_name": "Python 3 (ipykernel)",
   "language": "python",
   "name": "python3"
  },
  "language_info": {
   "codemirror_mode": {
    "name": "ipython",
    "version": 3
   },
   "file_extension": ".py",
   "mimetype": "text/x-python",
   "name": "python",
   "nbconvert_exporter": "python",
   "pygments_lexer": "ipython3",
   "version": "3.12.7"
  }
 },
 "nbformat": 4,
 "nbformat_minor": 5
}
