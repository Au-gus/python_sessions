{
 "cells": [
  {
   "cell_type": "code",
   "execution_count": 1,
   "id": "45d0a90f-383a-4ed9-a224-efb0175f5cc2",
   "metadata": {},
   "outputs": [
    {
     "data": {
      "text/plain": [
       "'C:\\\\Users\\\\L O Q\\\\OneDrive\\\\1_Data_Science_[Omkar]'"
      ]
     },
     "execution_count": 1,
     "metadata": {},
     "output_type": "execute_result"
    }
   ],
   "source": [
    "import os\n",
    "os.getcwd()"
   ]
  },
  {
   "cell_type": "markdown",
   "id": "4452a023-effb-4575-9eb5-2af9ab2e37b9",
   "metadata": {},
   "source": [
    "**dictionary methods**"
   ]
  },
  {
   "cell_type": "code",
   "execution_count": 9,
   "id": "5c079078-bd7c-46ab-b8b9-b3fd0784be2d",
   "metadata": {},
   "outputs": [
    {
     "data": {
      "text/plain": [
       "['__class__',\n",
       " '__class_getitem__',\n",
       " '__contains__',\n",
       " '__delattr__',\n",
       " '__delitem__',\n",
       " '__dir__',\n",
       " '__doc__',\n",
       " '__eq__',\n",
       " '__format__',\n",
       " '__ge__',\n",
       " '__getattribute__',\n",
       " '__getitem__',\n",
       " '__getstate__',\n",
       " '__gt__',\n",
       " '__hash__',\n",
       " '__init__',\n",
       " '__init_subclass__',\n",
       " '__ior__',\n",
       " '__iter__',\n",
       " '__le__',\n",
       " '__len__',\n",
       " '__lt__',\n",
       " '__ne__',\n",
       " '__new__',\n",
       " '__or__',\n",
       " '__reduce__',\n",
       " '__reduce_ex__',\n",
       " '__repr__',\n",
       " '__reversed__',\n",
       " '__ror__',\n",
       " '__setattr__',\n",
       " '__setitem__',\n",
       " '__sizeof__',\n",
       " '__str__',\n",
       " '__subclasshook__',\n",
       " 'clear',\n",
       " 'copy',\n",
       " 'fromkeys',\n",
       " 'get',\n",
       " 'items',\n",
       " 'keys',\n",
       " 'pop',\n",
       " 'popitem',\n",
       " 'setdefault',\n",
       " 'update',\n",
       " 'values']"
      ]
     },
     "execution_count": 9,
     "metadata": {},
     "output_type": "execute_result"
    }
   ],
   "source": [
    "dir({})\n",
    "\n",
    "# str=''\n",
    "# list=()\n",
    "# dict={}"
   ]
  },
  {
   "cell_type": "markdown",
   "id": "938ee1db-679b-4a26-ba3c-34ff6f910996",
   "metadata": {},
   "source": [
    "$items$-$keys$-$values$"
   ]
  },
  {
   "cell_type": "code",
   "execution_count": 10,
   "id": "e5a771ed-5c62-4508-9b5a-a72fe3d15ff6",
   "metadata": {},
   "outputs": [
    {
     "data": {
      "text/plain": [
       "{'Ram': 25, 'Raheem': 30, 'Robert': 35}"
      ]
     },
     "execution_count": 10,
     "metadata": {},
     "output_type": "execute_result"
    }
   ],
   "source": [
    "d1 = {'Ram':25,\n",
    "      'Raheem':30,\n",
    "      'Robert':35}\n",
    "d1"
   ]
  },
  {
   "cell_type": "code",
   "execution_count": 22,
   "id": "855b95ed-4f8c-4987-8220-9ab47552aeb6",
   "metadata": {},
   "outputs": [
    {
     "data": {
      "text/plain": [
       "dict_items([('Ram', 25), ('Raheem', 30), ('Robert', 35)])"
      ]
     },
     "execution_count": 22,
     "metadata": {},
     "output_type": "execute_result"
    }
   ],
   "source": [
    "#items\n",
    "items=d1.items()\n",
    "items"
   ]
  },
  {
   "cell_type": "code",
   "execution_count": 23,
   "id": "dbcd2aa1-19a3-4988-8608-471c4347a3c8",
   "metadata": {},
   "outputs": [
    {
     "data": {
      "text/plain": [
       "dict_keys(['Ram', 'Raheem', 'Robert'])"
      ]
     },
     "execution_count": 23,
     "metadata": {},
     "output_type": "execute_result"
    }
   ],
   "source": [
    "#keys\n",
    "keys=d1.keys()\n",
    "keys"
   ]
  },
  {
   "cell_type": "code",
   "execution_count": 24,
   "id": "d0bba432-3f31-4fb2-bcdd-85fa9ae8ffbd",
   "metadata": {},
   "outputs": [
    {
     "data": {
      "text/plain": [
       "dict_values([25, 30, 35])"
      ]
     },
     "execution_count": 24,
     "metadata": {},
     "output_type": "execute_result"
    }
   ],
   "source": [
    "#values\n",
    "values=d1.values()\n",
    "values"
   ]
  },
  {
   "cell_type": "code",
   "execution_count": 17,
   "id": "125bae49-6b97-4310-b69e-63f9f4289bcd",
   "metadata": {},
   "outputs": [
    {
     "data": {
      "text/plain": [
       "dict_items"
      ]
     },
     "execution_count": 17,
     "metadata": {},
     "output_type": "execute_result"
    }
   ],
   "source": [
    "type(d1.items())"
   ]
  },
  {
   "cell_type": "code",
   "execution_count": 18,
   "id": "f563435e-5544-46cf-803f-3520eccb0696",
   "metadata": {},
   "outputs": [
    {
     "data": {
      "text/plain": [
       "dict_keys"
      ]
     },
     "execution_count": 18,
     "metadata": {},
     "output_type": "execute_result"
    }
   ],
   "source": [
    "type(d1.keys())"
   ]
  },
  {
   "cell_type": "code",
   "execution_count": 19,
   "id": "46e33fa9-de7b-4d2d-8e89-74932d7a5826",
   "metadata": {},
   "outputs": [
    {
     "data": {
      "text/plain": [
       "dict_values"
      ]
     },
     "execution_count": 19,
     "metadata": {},
     "output_type": "execute_result"
    }
   ],
   "source": [
    "type(d1.values())"
   ]
  },
  {
   "cell_type": "code",
   "execution_count": 21,
   "id": "6003341d-3a20-4380-bdbb-8221ff695cc9",
   "metadata": {},
   "outputs": [
    {
     "data": {
      "text/plain": [
       "[25, 30, 35, 40000]"
      ]
     },
     "execution_count": 21,
     "metadata": {},
     "output_type": "execute_result"
    }
   ],
   "source": [
    "l1=[25,30,35]\n",
    "l1.append(40000)\n",
    "l1"
   ]
  },
  {
   "cell_type": "code",
   "execution_count": 36,
   "id": "e413a937-1377-4ba8-a86e-6349679cd971",
   "metadata": {},
   "outputs": [
    {
     "data": {
      "text/plain": [
       "[25, 30, 35]"
      ]
     },
     "execution_count": 36,
     "metadata": {},
     "output_type": "execute_result"
    }
   ],
   "source": [
    "values              # Convert into lists\n",
    "values_list=list(values)\n",
    "values_list"
   ]
  },
  {
   "cell_type": "code",
   "execution_count": 37,
   "id": "d0273397-cb1d-41d9-9cb3-4daa1573475f",
   "metadata": {},
   "outputs": [
    {
     "data": {
      "text/plain": [
       "['Ram', 'Raheem', 'Robert']"
      ]
     },
     "execution_count": 37,
     "metadata": {},
     "output_type": "execute_result"
    }
   ],
   "source": [
    "keys_list=list(keys)\n",
    "keys_list"
   ]
  },
  {
   "cell_type": "code",
   "execution_count": null,
   "id": "4428ee58-43eb-49df-8178-f2ef96c6c9ef",
   "metadata": {},
   "outputs": [],
   "source": [
    "# Extract keys and value in a list from a dictionary\n",
    "# Create a dictionary from a list"
   ]
  },
  {
   "cell_type": "code",
   "execution_count": 39,
   "id": "4483cf9d-21a1-4048-921e-a6081757ba88",
   "metadata": {},
   "outputs": [
    {
     "data": {
      "text/plain": [
       "(['Ram', 'Raheem', 'Robert'], [25, 30, 35])"
      ]
     },
     "execution_count": 39,
     "metadata": {},
     "output_type": "execute_result"
    }
   ],
   "source": [
    "d1 = {'Ram':25,\n",
    "      'Raheem':30,\n",
    "      'Robert':35}\n",
    "keys = list(d1.keys())\n",
    "values = list(d1.values())\n",
    "keys,values"
   ]
  },
  {
   "cell_type": "code",
   "execution_count": 45,
   "id": "265fdac3-592e-492c-8646-f4b87f2947a3",
   "metadata": {},
   "outputs": [
    {
     "data": {
      "text/plain": [
       "[25, 30, 35]"
      ]
     },
     "execution_count": 45,
     "metadata": {},
     "output_type": "execute_result"
    }
   ],
   "source": [
    "keys\n",
    "values"
   ]
  },
  {
   "cell_type": "code",
   "execution_count": 48,
   "id": "4b4fcdbd-04dd-4cef-afe4-260faa46f9f2",
   "metadata": {},
   "outputs": [
    {
     "data": {
      "text/plain": [
       "{'Ram': 25, 'Raheem': 30, 'Robert': 35}"
      ]
     },
     "execution_count": 48,
     "metadata": {},
     "output_type": "execute_result"
    }
   ],
   "source": [
    "dict1={i:j for i,j in zip(keys,values)}\n",
    "dict1"
   ]
  },
  {
   "cell_type": "code",
   "execution_count": 50,
   "id": "7c1d1b58-f0c2-4e23-b2f6-5c65cba85948",
   "metadata": {},
   "outputs": [
    {
     "data": {
      "text/plain": [
       "{'Ram': 25, 'Raheem': 30, 'Robert': 35}"
      ]
     },
     "execution_count": 50,
     "metadata": {},
     "output_type": "execute_result"
    }
   ],
   "source": [
    "d1 = {}\n",
    "for i in range(len(keys)):\n",
    "    d1[keys[i]]=values[i]                 # d1[keys[0]] = values[0]    d1['Ram'] = 25\n",
    "d1"
   ]
  },
  {
   "cell_type": "code",
   "execution_count": 51,
   "id": "9442e6ff-72ad-46f0-b897-11e0856255a9",
   "metadata": {},
   "outputs": [
    {
     "data": {
      "text/plain": [
       "{'Ram': 25, 'Raheem': 30, 'Robert': 35}"
      ]
     },
     "execution_count": 51,
     "metadata": {},
     "output_type": "execute_result"
    }
   ],
   "source": [
    "dict(zip(keys,values))"
   ]
  },
  {
   "cell_type": "code",
   "execution_count": null,
   "id": "461ee8e8-5bf5-4d10-b196-6e49d6f62240",
   "metadata": {},
   "outputs": [],
   "source": [
    "s1='virat.kohil@blr.com','Rohit.shrama@mumbai.com','kl.rahul@lucknow.com'\n",
    "\n",
    "#{'first_name':['virat','rohit','kl'],\n",
    "#   'second_name':['kohli','sharma','rahul'],\n",
    "#   'company':['blr','mumbai','lucknow']}"
   ]
  },
  {
   "cell_type": "code",
   "execution_count": 79,
   "id": "3693c240-1582-4c65-941c-3acdb77ce420",
   "metadata": {},
   "outputs": [
    {
     "data": {
      "text/plain": [
       "{'First_Name': ['virat', 'Rohit', 'kl'],\n",
       " 'Second_Name': ['kohil', 'shrama', 'rahul'],\n",
       " 'Company_name': ['blr', 'mumbai', 'lucknow']}"
      ]
     },
     "execution_count": 79,
     "metadata": {},
     "output_type": "execute_result"
    }
   ],
   "source": [
    "s1='virat.kohil@blr.com,Rohit.shrama@mumbai.com,kl.rahul@lucknow.com'\n",
    "d1 = {}\n",
    "first_name=[i[0:i.find('.')] for i in s1.split(',')]\n",
    "second_name=[i[i.find('.')+1:i.find('@')] for i in s1.split(',')]\n",
    "company=[i[i.find('@')+1:i.find('.',i.find('.')+1)] for i in s1.split(',')]\n",
    "d1['First_Name']=first_name\n",
    "d1['Second_Name']=second_name\n",
    "d1['Company_name']=company\n",
    "d1"
   ]
  },
  {
   "cell_type": "code",
   "execution_count": 74,
   "id": "539eec23-d90c-4d62-b455-756e40464c37",
   "metadata": {},
   "outputs": [
    {
     "data": {
      "text/plain": [
       "['virat', 'Rohit', 'kl']"
      ]
     },
     "execution_count": 74,
     "metadata": {},
     "output_type": "execute_result"
    }
   ],
   "source": [
    "s1='virat.kohil@blr.com,Rohit.shrama@mumbai.com,kl.rahul@lucknow.com'\n",
    "f_name=[]\n",
    "for i in s1.split(','):\n",
    "    f_name.append(i[:i.find('.')])\n",
    "f_name"
   ]
  },
  {
   "cell_type": "code",
   "execution_count": 86,
   "id": "4da60c40-8172-4ef5-96ca-caa55fd7f11a",
   "metadata": {},
   "outputs": [
    {
     "data": {
      "text/plain": [
       "{'first_name': ['virat', 'Rohit', 'kl'],\n",
       " 'second_name': ['kohil', 'shrama', 'rahul'],\n",
       " 'company': ['blr', 'mumbai', 'lucknow']}"
      ]
     },
     "execution_count": 86,
     "metadata": {},
     "output_type": "execute_result"
    }
   ],
   "source": [
    "s1='virat.kohil@blr.com,Rohit.shrama@mumbai.com,kl.rahul@lucknow.com'\n",
    "l1 = s1.split(',')\n",
    "d1={}\n",
    "f_name=[]\n",
    "s_name=[]\n",
    "company=[]\n",
    "for i in l1:\n",
    "    f_name.append(i[:i.find('.')])\n",
    "    s_name.append(i[i.find('.')+1:i.find('@')])\n",
    "    company.append(i[i.find('@')+1:i.find('.',i.find('.')+1)])\n",
    "d1['first_name']=f_name\n",
    "d1['second_name']=s_name\n",
    "d1['company']=company\n",
    "d1"
   ]
  },
  {
   "cell_type": "code",
   "execution_count": 94,
   "id": "507be954-610d-43ef-abc7-0d30d22a18ff",
   "metadata": {},
   "outputs": [
    {
     "data": {
      "text/plain": [
       "{'first_name': ['virat', 'Rohit', 'kl'],\n",
       " 'second_name': ['kohil', 'shrama', 'rahul'],\n",
       " 'company': ['blr', 'mumbai', 'lucknow']}"
      ]
     },
     "execution_count": 94,
     "metadata": {},
     "output_type": "execute_result"
    }
   ],
   "source": [
    "s1='virat.kohil@blr.com,Rohit.shrama@mumbai.com,kl.rahul@lucknow.com'\n",
    "l1 = s1.split(',')\n",
    "f_name=[i[:i.find('.')] for i in l1]\n",
    "s_name=[i[i.find('.')+1:i.find('@')] for i in l1]\n",
    "company=[i[i.find('@')+1:i.find('.',i.find('.')+1)] for i in l1]\n",
    "d1['first_name']=f_name\n",
    "d1['second_name']=s_name\n",
    "d1['company']=company\n",
    "d1"
   ]
  },
  {
   "cell_type": "code",
   "execution_count": null,
   "id": "d6a230fd-7d70-4039-89fc-9ddd3fe195bd",
   "metadata": {},
   "outputs": [],
   "source": [
    "str1= 'can can you canner can you able to can canner'\n",
    "\n",
    "# output = {'can':4,'you':2,'canner':2,'able':1, 'to':1}"
   ]
  },
  {
   "cell_type": "code",
   "execution_count": 142,
   "id": "de3cd481-c76a-4835-b1f5-f680b9525757",
   "metadata": {},
   "outputs": [
    {
     "name": "stdout",
     "output_type": "stream",
     "text": [
      "{'can': 4, 'you': 2, 'canner': 2, 'able': 1, 'to': 1}\n"
     ]
    }
   ],
   "source": [
    "str1= 'can can you canner can you able to can canner'\n",
    "l1 = str1.split(' ')\n",
    "word_count = {}\n",
    "for i in l1:\n",
    "    word_count[i]=l1.count(i)\n",
    "print(word_count)"
   ]
  },
  {
   "cell_type": "code",
   "execution_count": 136,
   "id": "5c5bcccb-9848-4d55-a376-cf8dde92c0db",
   "metadata": {},
   "outputs": [
    {
     "name": "stdout",
     "output_type": "stream",
     "text": [
      "4\n",
      "4\n",
      "2\n",
      "2\n",
      "4\n",
      "2\n",
      "1\n",
      "1\n",
      "4\n",
      "2\n"
     ]
    }
   ],
   "source": [
    "str1= 'can can you canner can you able to can canner'\n",
    "l1 = str1.split(' ')\n",
    "word_count = {}\n",
    "for i in l1:\n",
    "    print(l1.count(i))"
   ]
  },
  {
   "cell_type": "code",
   "execution_count": 145,
   "id": "2904a68f-4c35-43b9-9e2b-42fad5fa78a7",
   "metadata": {},
   "outputs": [
    {
     "data": {
      "text/plain": [
       "['can', 'you', 'canner', 'able', 'to']"
      ]
     },
     "execution_count": 145,
     "metadata": {},
     "output_type": "execute_result"
    }
   ],
   "source": [
    "list(word_count.keys())"
   ]
  },
  {
   "cell_type": "code",
   "execution_count": 169,
   "id": "8b135105-8b85-4b86-bd07-deab1504cee7",
   "metadata": {},
   "outputs": [
    {
     "data": {
      "text/plain": [
       "'can'"
      ]
     },
     "execution_count": 169,
     "metadata": {},
     "output_type": "execute_result"
    }
   ],
   "source": [
    "list(word_count.keys())[list(word_count.values()).index(max(list(word_count.values())))]"
   ]
  },
  {
   "cell_type": "code",
   "execution_count": 154,
   "id": "bb229560-424d-463f-acb9-956b618b6750",
   "metadata": {},
   "outputs": [
    {
     "data": {
      "text/plain": [
       "4"
      ]
     },
     "execution_count": 154,
     "metadata": {},
     "output_type": "execute_result"
    }
   ],
   "source": [
    "max(list(word_count.values()))"
   ]
  },
  {
   "cell_type": "code",
   "execution_count": 157,
   "id": "70935cdc-24c9-4a54-99cd-60ea3b5877c2",
   "metadata": {},
   "outputs": [],
   "source": [
    "keys = list(word_count.keys())\n",
    "values = list(word_count.values())"
   ]
  },
  {
   "cell_type": "code",
   "execution_count": 158,
   "id": "995edd03-188c-4ad6-be9b-b210ccba32d2",
   "metadata": {},
   "outputs": [
    {
     "data": {
      "text/plain": [
       "(['can', 'you', 'canner', 'able', 'to'], [4, 2, 2, 1, 1])"
      ]
     },
     "execution_count": 158,
     "metadata": {},
     "output_type": "execute_result"
    }
   ],
   "source": [
    "keys,values"
   ]
  },
  {
   "cell_type": "code",
   "execution_count": 161,
   "id": "88078850-9213-46c7-9882-9905cef13d84",
   "metadata": {},
   "outputs": [
    {
     "data": {
      "text/plain": [
       "4"
      ]
     },
     "execution_count": 161,
     "metadata": {},
     "output_type": "execute_result"
    }
   ],
   "source": [
    "i = max(values)\n",
    "i"
   ]
  },
  {
   "cell_type": "code",
   "execution_count": 162,
   "id": "b730dfd8-0b79-4531-93ff-e6686aa9708a",
   "metadata": {},
   "outputs": [
    {
     "data": {
      "text/plain": [
       "0"
      ]
     },
     "execution_count": 162,
     "metadata": {},
     "output_type": "execute_result"
    }
   ],
   "source": [
    "values.index(i)"
   ]
  },
  {
   "cell_type": "code",
   "execution_count": 163,
   "id": "16be58ae-6d00-4b09-9489-e36a9e1e11f9",
   "metadata": {},
   "outputs": [
    {
     "data": {
      "text/plain": [
       "'can'"
      ]
     },
     "execution_count": 163,
     "metadata": {},
     "output_type": "execute_result"
    }
   ],
   "source": [
    "keys[0]"
   ]
  },
  {
   "cell_type": "code",
   "execution_count": 170,
   "id": "2b091099-ffc6-4717-b260-bdc02a434062",
   "metadata": {},
   "outputs": [
    {
     "data": {
      "text/plain": [
       "'can'"
      ]
     },
     "execution_count": 170,
     "metadata": {},
     "output_type": "execute_result"
    }
   ],
   "source": [
    "list(word_count.keys())[list(word_count.values()).index(max(list(word_count.values())))]"
   ]
  },
  {
   "cell_type": "code",
   "execution_count": null,
   "id": "d1ba189a-d5c7-4b10-aecb-1e188e7014da",
   "metadata": {},
   "outputs": [],
   "source": [
    "d1 = {'a':20,'b':30,'c':40}\n",
    "d2 = {'a':50,'b':100,'c':200}\n",
    "\n",
    "#o/p = {'a':70,'b':130,'c':240}"
   ]
  },
  {
   "cell_type": "code",
   "execution_count": 179,
   "id": "716857c3-c432-4290-beae-77485cd453eb",
   "metadata": {},
   "outputs": [
    {
     "name": "stdout",
     "output_type": "stream",
     "text": [
      "{'a': 70, 'b': 130, 'c': 240}\n"
     ]
    }
   ],
   "source": [
    "d1 = {'a':20,'b':30,'c':40}\n",
    "d2 = {'a':50,'b':100,'c':200}\n",
    "result = {i:d1[i]+d2[i] for i in d1}\n",
    "print(result)"
   ]
  },
  {
   "cell_type": "code",
   "execution_count": 181,
   "id": "e99026e6-1492-41b0-bbff-276854c40237",
   "metadata": {},
   "outputs": [
    {
     "data": {
      "text/plain": [
       "{'a': 70, 'b': 130, 'c': 240}"
      ]
     },
     "execution_count": 181,
     "metadata": {},
     "output_type": "execute_result"
    }
   ],
   "source": [
    "for i in d1:\n",
    "    d1[i]=d1[i]+d2[i]\n",
    "d1"
   ]
  },
  {
   "cell_type": "code",
   "execution_count": 182,
   "id": "0198709f-8563-4eac-bea3-762c2250ec58",
   "metadata": {},
   "outputs": [
    {
     "data": {
      "text/plain": [
       "{'a': 70, 'b': 130, 'c': 240}"
      ]
     },
     "execution_count": 182,
     "metadata": {},
     "output_type": "execute_result"
    }
   ],
   "source": [
    "d1 = {'a':20,'b':30,'c':40}\n",
    "d2 = {'a':50,'b':100,'c':200}\n",
    "d3 = {}\n",
    "if len(d1)==len(d2):\n",
    "    for i in d1:\n",
    "        d3[i]=d1[i]+d2[i]\n",
    "                                          # d3['a'] = d1['a'] + d2['a']\n",
    "d3"
   ]
  },
  {
   "cell_type": "code",
   "execution_count": null,
   "id": "20fd7e96-5663-4a36-b121-e0d28c75170d",
   "metadata": {},
   "outputs": [],
   "source": []
  },
  {
   "cell_type": "code",
   "execution_count": null,
   "id": "7531535b-1c1f-4bb5-b779-3e4b2b499d30",
   "metadata": {},
   "outputs": [],
   "source": []
  }
 ],
 "metadata": {
  "kernelspec": {
   "display_name": "Python [conda env:base] *",
   "language": "python",
   "name": "conda-base-py"
  },
  "language_info": {
   "codemirror_mode": {
    "name": "ipython",
    "version": 3
   },
   "file_extension": ".py",
   "mimetype": "text/x-python",
   "name": "python",
   "nbconvert_exporter": "python",
   "pygments_lexer": "ipython3",
   "version": "3.12.3"
  }
 },
 "nbformat": 4,
 "nbformat_minor": 5
}
