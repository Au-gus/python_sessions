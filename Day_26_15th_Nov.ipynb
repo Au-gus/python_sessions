{
 "cells": [
  {
   "cell_type": "code",
   "execution_count": 3,
   "id": "c5cf706d-bc44-4df9-a826-a3f4d3c68e2e",
   "metadata": {},
   "outputs": [
    {
     "data": {
      "text/plain": [
       "2"
      ]
     },
     "execution_count": 3,
     "metadata": {},
     "output_type": "execute_result"
    }
   ],
   "source": [
    "str1='hai how are you, im good'\n",
    "str1.index('i')\n"
   ]
  },
  {
   "cell_type": "code",
   "execution_count": 6,
   "id": "febea6a8-68e8-4e32-8ffc-ce0ca41a2b2d",
   "metadata": {},
   "outputs": [
    {
     "data": {
      "text/plain": [
       "17"
      ]
     },
     "execution_count": 6,
     "metadata": {},
     "output_type": "execute_result"
    }
   ],
   "source": [
    "str1.index('i',str1.index('i')+1)"
   ]
  },
  {
   "cell_type": "markdown",
   "id": "2ca3c474-c759-4c8a-97c8-2dbba4d1e73c",
   "metadata": {},
   "source": [
    "$strip$-$lstrip$-$rstrip$"
   ]
  },
  {
   "cell_type": "code",
   "execution_count": 21,
   "id": "6564673f-5172-41cd-900f-c1b02dadb1fb",
   "metadata": {},
   "outputs": [
    {
     "name": "stdout",
     "output_type": "stream",
     "text": [
      "hello how are you\n",
      "hello how are you\n",
      "hello how are you\n"
     ]
    }
   ],
   "source": [
    "str1=' hello how are you '\n",
    "str2=\" hello how are you\"\n",
    "str3=\"hello how are you \"\n",
    "print(str1.strip())\n",
    "print(str2.lstrip())\n",
    "print(str3.rstrip())"
   ]
  },
  {
   "cell_type": "code",
   "execution_count": 65,
   "id": "9311abba-2852-464d-b70f-dda95a01ddbf",
   "metadata": {},
   "outputs": [
    {
     "name": "stdout",
     "output_type": "stream",
     "text": [
      "First Name: python\n",
      "Last Name: anaconda\n",
      "Company Name: nareshit\n"
     ]
    }
   ],
   "source": [
    "#Wap to extract\n",
    "\n",
    "str1='python.anaconda@nareshit.com' \n",
    "print(\"First Name:\",str1[0:str1.find('.')])\n",
    "print(\"Last Name:\",str1[str1.find('.')+1:str1.find('@')])\n",
    "print(\"Company Name:\",str1[str1.find('@')+1:str1.find('.',str1.find('.')+1)])"
   ]
  },
  {
   "cell_type": "code",
   "execution_count": 72,
   "id": "621a8a17-d973-4721-beb2-c401141a2b7c",
   "metadata": {},
   "outputs": [
    {
     "name": "stdout",
     "output_type": "stream",
     "text": [
      "First Name: faceless\n",
      "Last Name: ancient\n",
      "Company Name: telegram\n"
     ]
    }
   ],
   "source": [
    "str2='faceless.ancient@telegram.com'\n",
    "print(\"First Name:\",str2[0:str2.find('.')])\n",
    "print(\"Last Name:\",str2[str2.find('.')+1:str2.find('@')])\n",
    "print(\"Company Name:\",str2[str2.find('@')+1:str2.find('.',str2.find('.')+1)])"
   ]
  },
  {
   "cell_type": "code",
   "execution_count": 74,
   "id": "f19e481d-dc58-44e3-82bb-3527242d0d72",
   "metadata": {},
   "outputs": [
    {
     "name": "stdout",
     "output_type": "stream",
     "text": [
      "first: 3\n",
      "Decimal: 1489\n"
     ]
    }
   ],
   "source": [
    "str1='3.1489'\n",
    "print(\"first:\",str1[0:str1.find('.')])\n",
    "print(\"Decimal:\",str1[str1.find('.')+1:])"
   ]
  },
  {
   "cell_type": "markdown",
   "id": "92425b3d-9fcc-4327-b692-1a6bfad6d853",
   "metadata": {},
   "source": [
    "$startswith$-$endswith$"
   ]
  },
  {
   "cell_type": "code",
   "execution_count": 84,
   "id": "da05ebb8-b839-4c14-90e8-64fc9bbab6b2",
   "metadata": {},
   "outputs": [
    {
     "data": {
      "text/plain": [
       "True"
      ]
     },
     "execution_count": 84,
     "metadata": {},
     "output_type": "execute_result"
    }
   ],
   "source": [
    "str1='hai how are you'\n",
    "str1.startswith('hai')\n",
    "str1.startswith('h')"
   ]
  },
  {
   "cell_type": "code",
   "execution_count": 86,
   "id": "54f0374f-4782-4fc9-b2f7-e95bce8d6828",
   "metadata": {},
   "outputs": [
    {
     "data": {
      "text/plain": [
       "True"
      ]
     },
     "execution_count": 86,
     "metadata": {},
     "output_type": "execute_result"
    }
   ],
   "source": [
    "str1.startswith(str1)\n",
    "str1.endswith(str1)"
   ]
  },
  {
   "cell_type": "code",
   "execution_count": 87,
   "id": "841c54e4-5f0f-4914-a6c0-fdf069b9ead9",
   "metadata": {},
   "outputs": [
    {
     "data": {
      "text/plain": [
       "['__add__',\n",
       " '__class__',\n",
       " '__contains__',\n",
       " '__delattr__',\n",
       " '__dir__',\n",
       " '__doc__',\n",
       " '__eq__',\n",
       " '__format__',\n",
       " '__ge__',\n",
       " '__getattribute__',\n",
       " '__getitem__',\n",
       " '__getnewargs__',\n",
       " '__getstate__',\n",
       " '__gt__',\n",
       " '__hash__',\n",
       " '__init__',\n",
       " '__init_subclass__',\n",
       " '__iter__',\n",
       " '__le__',\n",
       " '__len__',\n",
       " '__lt__',\n",
       " '__mod__',\n",
       " '__mul__',\n",
       " '__ne__',\n",
       " '__new__',\n",
       " '__reduce__',\n",
       " '__reduce_ex__',\n",
       " '__repr__',\n",
       " '__rmod__',\n",
       " '__rmul__',\n",
       " '__setattr__',\n",
       " '__sizeof__',\n",
       " '__str__',\n",
       " '__subclasshook__',\n",
       " 'capitalize',\n",
       " 'casefold',\n",
       " 'center',\n",
       " 'count',\n",
       " 'encode',\n",
       " 'endswith',\n",
       " 'expandtabs',\n",
       " 'find',\n",
       " 'format',\n",
       " 'format_map',\n",
       " 'index',\n",
       " 'isalnum',\n",
       " 'isalpha',\n",
       " 'isascii',\n",
       " 'isdecimal',\n",
       " 'isdigit',\n",
       " 'isidentifier',\n",
       " 'islower',\n",
       " 'isnumeric',\n",
       " 'isprintable',\n",
       " 'isspace',\n",
       " 'istitle',\n",
       " 'isupper',\n",
       " 'join',\n",
       " 'ljust',\n",
       " 'lower',\n",
       " 'lstrip',\n",
       " 'maketrans',\n",
       " 'partition',\n",
       " 'removeprefix',\n",
       " 'removesuffix',\n",
       " 'replace',\n",
       " 'rfind',\n",
       " 'rindex',\n",
       " 'rjust',\n",
       " 'rpartition',\n",
       " 'rsplit',\n",
       " 'rstrip',\n",
       " 'split',\n",
       " 'splitlines',\n",
       " 'startswith',\n",
       " 'strip',\n",
       " 'swapcase',\n",
       " 'title',\n",
       " 'translate',\n",
       " 'upper',\n",
       " 'zfill']"
      ]
     },
     "execution_count": 87,
     "metadata": {},
     "output_type": "execute_result"
    }
   ],
   "source": [
    "dir('')"
   ]
  },
  {
   "cell_type": "code",
   "execution_count": 104,
   "id": "6b0ba871-3f0a-4fa5-af4a-f9974dd5f195",
   "metadata": {},
   "outputs": [
    {
     "name": "stdout",
     "output_type": "stream",
     "text": [
      "------abc------\n",
      "True\n",
      "True\n",
      "False\n",
      "------123------\n",
      "True\n",
      "False\n",
      "True\n",
      "------abc123------\n",
      "True\n",
      "False\n",
      "False\n",
      "------abc.123------\n",
      "False\n",
      "False\n",
      "False\n",
      "------a b c------\n",
      "False\n",
      "False\n",
      "False\n"
     ]
    }
   ],
   "source": [
    "str1='abc'\n",
    "str2='123'\n",
    "str3='abc123'\n",
    "str4='abc.123'\n",
    "str5='a b c'\n",
    "print('------abc------')\n",
    "print(str1.isalnum())\n",
    "print(str1.isalpha())\n",
    "print(str1.isnumeric())\n",
    "print('------123------')\n",
    "print(str2.isalnum())\n",
    "print(str2.isalpha())\n",
    "print(str2.isnumeric())\n",
    "print('------abc123------')\n",
    "print(str3.isalnum())\n",
    "print(str3.isalpha())\n",
    "print(str3.isnumeric())\n",
    "print('------abc.123------')\n",
    "print(str4.isalnum())\n",
    "print(str4.isalpha())\n",
    "print(str4.isnumeric())\n",
    "print('------a b c------')\n",
    "print(str5.isalnum())\n",
    "print(str5.isalpha())\n",
    "print(str5.isnumeric())"
   ]
  },
  {
   "cell_type": "markdown",
   "id": "a4f7349d-c52d-4116-8c06-a63601b84e8c",
   "metadata": {},
   "source": [
    "$split$"
   ]
  },
  {
   "cell_type": "code",
   "execution_count": 108,
   "id": "b2d47257-3f0d-4260-ae74-44e192124c78",
   "metadata": {},
   "outputs": [
    {
     "data": {
      "text/plain": [
       "['hi', 'how are you']"
      ]
     },
     "execution_count": 108,
     "metadata": {},
     "output_type": "execute_result"
    }
   ],
   "source": [
    "str1='hi,how are you'\n",
    "str1.split(',')"
   ]
  },
  {
   "cell_type": "code",
   "execution_count": 110,
   "id": "ad4f3026-fac6-4f16-a4cc-94a1cc2b17ba",
   "metadata": {},
   "outputs": [
    {
     "data": {
      "text/plain": [
       "['h', 'i how ', 're you']"
      ]
     },
     "execution_count": 110,
     "metadata": {},
     "output_type": "execute_result"
    }
   ],
   "source": [
    "str1='hai how are you'\n",
    "str1.split('a')"
   ]
  },
  {
   "cell_type": "code",
   "execution_count": 111,
   "id": "01574946-9633-4876-888c-f6664753eb2a",
   "metadata": {},
   "outputs": [
    {
     "ename": "ValueError",
     "evalue": "empty separator",
     "output_type": "error",
     "traceback": [
      "\u001b[1;31m---------------------------------------------------------------------------\u001b[0m",
      "\u001b[1;31mValueError\u001b[0m                                Traceback (most recent call last)",
      "Cell \u001b[1;32mIn[111], line 2\u001b[0m\n\u001b[0;32m      1\u001b[0m str1\u001b[38;5;241m=\u001b[39m\u001b[38;5;124m'\u001b[39m\u001b[38;5;124mhai how are you\u001b[39m\u001b[38;5;124m'\u001b[39m\n\u001b[1;32m----> 2\u001b[0m str1\u001b[38;5;241m.\u001b[39msplit(\u001b[38;5;124m'\u001b[39m\u001b[38;5;124m'\u001b[39m)\n",
      "\u001b[1;31mValueError\u001b[0m: empty separator"
     ]
    }
   ],
   "source": [
    "str1='hai how are you'\n",
    "str1.split('')"
   ]
  },
  {
   "cell_type": "code",
   "execution_count": 114,
   "id": "9f90c95d-5f84-4cfb-bf5c-0c48f9567afc",
   "metadata": {},
   "outputs": [
    {
     "data": {
      "text/plain": [
       "'hello'"
      ]
     },
     "execution_count": 114,
     "metadata": {},
     "output_type": "execute_result"
    }
   ],
   "source": [
    "str1='%%%%%%%%%hello%%%%%%%%%%%%%%'\n",
    "str1.strip('%')"
   ]
  },
  {
   "cell_type": "code",
   "execution_count": 117,
   "id": "ae0d4337-d988-46da-847a-71a3f21e87e7",
   "metadata": {},
   "outputs": [
    {
     "data": {
      "text/plain": [
       "'hai how are you'"
      ]
     },
     "execution_count": 117,
     "metadata": {},
     "output_type": "execute_result"
    }
   ],
   "source": [
    "str1='%%%%hai how are you%%%%'\n",
    "str1.strip('%')"
   ]
  }
 ],
 "metadata": {
  "kernelspec": {
   "display_name": "Python [conda env:base] *",
   "language": "python",
   "name": "conda-base-py"
  },
  "language_info": {
   "codemirror_mode": {
    "name": "ipython",
    "version": 3
   },
   "file_extension": ".py",
   "mimetype": "text/x-python",
   "name": "python",
   "nbconvert_exporter": "python",
   "pygments_lexer": "ipython3",
   "version": "3.12.3"
  }
 },
 "nbformat": 4,
 "nbformat_minor": 5
}
